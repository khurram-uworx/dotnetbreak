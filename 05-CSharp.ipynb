{
 "cells": [
  {
   "cell_type": "markdown",
   "metadata": {},
   "source": [
    "# Colored Functions\n",
    "- https://journal.stuffwithstuff.com/2015/02/01/what-color-is-your-function"
   ]
  },
  {
   "cell_type": "code",
   "execution_count": 1,
   "metadata": {
    "dotnet_interactive": {
     "language": "csharp"
    },
    "polyglot_notebook": {
     "kernelName": "csharp"
    }
   },
   "outputs": [],
   "source": [
    "static class Helper\n",
    "{\n",
    "    public static async Task DoSomethingAsyn() { await Task.Delay(1000); }\n",
    "}\n",
    "\n",
    "//\n",
    "interface IService { Task DoSomethingCoolAsync(); }\n",
    "\n",
    "class Service : IService\n",
    "{\n",
    "    public async Task DoSomethingCoolAsync()\n",
    "    {\n",
    "        await Helper.DoSomethingAsyn();\n",
    "    }\n",
    "}\n",
    "\n",
    "// [Route(\"/api/v1/GetCoolStuff\")]\n",
    "// class Controller\n",
    "// {\n",
    "//     IService service; // DI\n",
    "\n",
    "//     [HttpGet]\n",
    "//     public async IActionResult Get()\n",
    "//     {\n",
    "//         await service.DoSomethingCoolAsync();\n",
    "//     }\n",
    "// }"
   ]
  },
  {
   "cell_type": "markdown",
   "metadata": {},
   "source": [
    "# Java: Checked Exception\n",
    "\n",
    "- We have instead user filtered exception handlers\n",
    "    - https://learn.microsoft.com/en-us/dotnet/standard/exceptions/using-user-filtered-exception-handlers\n",
    "- https://learn.microsoft.com/en-us/dotnet/standard/exceptions/"
   ]
  },
  {
   "cell_type": "code",
   "execution_count": null,
   "metadata": {
    "dotnet_interactive": {
     "language": "javascript"
    },
    "polyglot_notebook": {
     "kernelName": "javascript"
    }
   },
   "outputs": [],
   "source": [
    "/// <remark>\n",
    "\n",
    "public void ioOperation(boolean isResourceAvailable) throws IOException {\n",
    "  if (!isResourceAvailable) {\n",
    "    throw new IOException();\n",
    "  }\n",
    "  else {\n",
    "    //do something nice\n",
    "  }\n",
    "}"
   ]
  },
  {
   "cell_type": "code",
   "execution_count": null,
   "metadata": {
    "dotnet_interactive": {
     "language": "csharp"
    },
    "polyglot_notebook": {
     "kernelName": "csharp"
    }
   },
   "outputs": [],
   "source": [
    "using System.ComponentModel;\n",
    "\n",
    "try\n",
    "{\n",
    "}\n",
    "catch (Exception ex) when (ex is InvalidOperationException ||\n",
    "    ex is Win32Exception ||\n",
    "    ex is ObjectDisposedException ||\n",
    "    ex is SystemException)\n",
    "{\n",
    "}"
   ]
  },
  {
   "cell_type": "markdown",
   "metadata": {},
   "source": [
    "# Windows Server Introduction\n",
    "\n",
    "- Windows APIs https://en.wikipedia.org/wiki/Windows_API\n",
    "    - Win32 APIs\n",
    "- Why we never needed J2EE / Beans\n",
    "    - IIS\n",
    "    - COM+, MTS\n",
    "    - MSMQ"
   ]
  },
  {
   "cell_type": "markdown",
   "metadata": {},
   "source": [
    "# IIS Architecture Introduction\n",
    "\n",
    "<img src=images/iis-7-iis-8-architecture.jpg>"
   ]
  },
  {
   "cell_type": "markdown",
   "metadata": {},
   "source": [
    "# InterOp\n",
    "\n",
    "- Platform Invoke; https://learn.microsoft.com/en-us/dotnet/standard/native-interop/pinvoke\n",
    "- COM Interop; https://learn.microsoft.com/en-us/dotnet/standard/native-interop/cominterop"
   ]
  },
  {
   "cell_type": "code",
   "execution_count": 1,
   "metadata": {
    "dotnet_interactive": {
     "language": "csharp"
    },
    "polyglot_notebook": {
     "kernelName": "csharp"
    }
   },
   "outputs": [],
   "source": [
    "//P/Invoke\n",
    "using System.Runtime.InteropServices;\n",
    "\n",
    "[DllImport(\"user32.dll\", CharSet = CharSet.Unicode, SetLastError = true)]\n",
    "static extern int MessageBox(IntPtr hWnd, string lpText, string lpCaption, uint uType);\n",
    "MessageBox(IntPtr.Zero, \"Command-line message box\", \"Attention!\", 0);\n",
    "\n",
    "[DllImport(\"libc.so.6\")]\n",
    "static extern int getpid();\n",
    "//getpid()"
   ]
  },
  {
   "cell_type": "markdown",
   "metadata": {},
   "source": [
    "# Runtime, BCL, Language\n",
    "\n",
    "- https://learn.microsoft.com/en-us/dotnet/csharp/whats-new/csharp-version-history\n",
    "- https://en.wikipedia.org/wiki/Common_Language_Runtime"
   ]
  },
  {
   "cell_type": "markdown",
   "metadata": {},
   "source": [
    "# SQL Server Introduction\n",
    "\n",
    "- https://en.wikipedia.org/wiki/Microsoft_SQL_Server\n",
    "- https://www.microsoft.com/en-us/sql-server/sql-server-downloads\n",
    "- https://www.microsoft.com/en-us/sql-server/developer-tools\n",
    "    - SQL Management Studio; SSMS\n",
    "    - Azure Data Studio; what it is and why it matters\n",
    "        - https://www.youtube.com/watch?v=o7S8s9-5C4k\n",
    "- Brief SQL History; ~6; the 7; 2000, 2005 and onwards\n",
    "- Its not just \"Relational Database\"\n",
    "    - https://learn.microsoft.com/en-us/sql/sql-server/editions-and-components-of-sql-server-2022\n",
    "    - Reporting Server & Analysis Services and Power BI\n",
    "    - CLR in Database; what it means\n",
    "    - Machine Learning Services; R & Python and why it matters\n",
    "        - Java is also there\n",
    "- Multiple Instances and Databases\n",
    "- Authentication\n",
    "- System and Database Roles\n",
    "- Tables, Views, Stored Procedures and Functions\n",
    "- SQL Jobs"
   ]
  }
 ],
 "metadata": {
  "kernelspec": {
   "display_name": ".NET (C#)",
   "language": "C#",
   "name": ".net-csharp"
  },
  "language_info": {
   "name": "polyglot-notebook"
  },
  "polyglot_notebook": {
   "kernelInfo": {
    "defaultKernelName": "csharp",
    "items": [
     {
      "aliases": [],
      "languageName": "csharp",
      "name": "csharp"
     }
    ]
   }
  }
 },
 "nbformat": 4,
 "nbformat_minor": 2
}
