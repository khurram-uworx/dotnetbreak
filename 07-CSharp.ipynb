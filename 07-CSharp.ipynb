{
 "cells": [
  {
   "cell_type": "markdown",
   "metadata": {},
   "source": [
    "# Nugets"
   ]
  },
  {
   "cell_type": "markdown",
   "metadata": {},
   "source": [
    "- https://github.com/mjebrahimi/Awesome-Nuget-Packages\n",
    "- https://www.nuget.org/packages/Microsoft.IO.RecyclableMemoryStream\n",
    "    - Frameworks, Dependencies, "
   ]
  },
  {
   "cell_type": "markdown",
   "metadata": {},
   "source": [
    "# .NET Core to .NET"
   ]
  },
  {
   "cell_type": "markdown",
   "metadata": {},
   "source": [
    "<img src=images/net_core.png width=700><hr>\n",
    "<img src=images/net_standard.png width=700><hr>\n",
    "<img src=images/dotnet5_platform.png width=700>"
   ]
  },
  {
   "cell_type": "markdown",
   "metadata": {},
   "source": [
    "# Solution & Project \n",
    "- Project Properties; disable implicit usings and what it is"
   ]
  },
  {
   "cell_type": "markdown",
   "metadata": {},
   "source": [
    "- Project Dependencies\n",
    "    - Referenced Libraries\n",
    "    - Referenced Tools\n",
    "    - Connected Services\n",
    "- Project Structure\n",
    "    - Project Properties\n",
    "        - launchSettings.json; serviceDependencies.json\n",
    "    - appsettings.json\n",
    "    - wwwroot\n",
    "    - Controllers, Models, Views\n",
    "    - Areas\n",
    "    - Data\n",
    "    - Program.cs\n",
    "        - Services\n",
    "        - Builder\n",
    "            - Extensions\n",
    "            - Middlewares"
   ]
  },
  {
   "cell_type": "markdown",
   "metadata": {},
   "source": [
    "# Web APIs"
   ]
  },
  {
   "cell_type": "code",
   "execution_count": null,
   "metadata": {
    "dotnet_interactive": {
     "language": "csharp"
    },
    "polyglot_notebook": {
     "kernelName": "csharp"
    },
    "vscode": {
     "languageId": "polyglot-notebook"
    }
   },
   "outputs": [],
   "source": [
    "//notes | script\n",
    "\n",
    "//start sql service\n",
    "\n",
    "//connectionstring\n",
    "Server=.;Database=JiraDb;MultipleActiveResultSets=True;Trusted_Connection=True;TrustServerCertificate=True;\n",
    "\n",
    "add datatables client library\n",
    "\n",
    "//data-cshtml\n",
    "reference css\n",
    "\n",
    "add script section\n",
    "@section Scripts\n",
    "{\n",
    "    <script src=\"~/lib/datatables/js/jquery.dataTables.min.js\"></script>\n",
    "    <script src=\"~/lib/datatables/js/dataTables.bootstrap4.min.js\"></script>\n",
    "    <script>\n",
    "        $(document).ready(function () {\n",
    "            $('#collectionTable').dataTable();\n",
    "        });\n",
    "    </script>\n",
    "}\n",
    "\n",
    "\n",
    "//nuget: Swashbuckle.AspNetCore\n",
    "\n",
    "services.AddSwaggerGen(c =>\n",
    "{\n",
    "    c.SwaggerDoc(\"v1\", new OpenApiInfo { Title = \"My API\", Version = \"v1\" });                \n",
    "});\n",
    "\n",
    "app.UseSwagger();\n",
    " \n",
    "app.UseSwaggerUI(c =>\n",
    "{\n",
    "    c.SwaggerEndpoint(\"/swagger/v1/swagger.json\", \"My API V1\");\n",
    "});\n",
    "\n",
    "\n",
    "\n",
    "\n",
    "\n",
    "//cshtml\n",
    "<table id=\"collectionTable\" class=\"table\">\n",
    "    <thead>\n",
    "        <tr>\n",
    "            <th scope=\"col\">ID</th>\n",
    "            <th scope=\"col\">First Name</th>\n",
    "            <th scope=\"col\">Last Name</th>\n",
    "            <th scope=\"col\">Email</th>\n",
    "        </tr>\n",
    "    </thead>\n",
    "</table>\n",
    "\n",
    "@section Scripts\n",
    "{\n",
    "    <script src=\"~/lib/datatables/js/jquery.dataTables.min.js\"></script>\n",
    "    <script src=\"~/lib/datatables/js/dataTables.bootstrap4.min.js\"></script>\n",
    "    <script>\n",
    "        $(document).ready(function () {\n",
    "            $('#collectionTable').dataTable({\n",
    "                processing: true,\n",
    "                serverSide: true,\n",
    "                filter: true,\n",
    "                ajax: {\n",
    "                    url: '/api/Values',\n",
    "                    type: 'POST',\n",
    "                    datatype: 'json'\n",
    "                },\n",
    "                columns: [\n",
    "                    { data: \"teamMemberId\", autoWidth: true },\n",
    "                    { data: \"firstName\", autoWidth: true },\n",
    "                    { data: \"lastName\", autoWidth: true },\n",
    "                    { data: \"email\", autoWidth: true }\n",
    "                ]\n",
    "            });\n",
    "        });\n",
    "    </script>\n",
    "}"
   ]
  },
  {
   "cell_type": "code",
   "execution_count": null,
   "metadata": {
    "dotnet_interactive": {
     "language": "csharp"
    },
    "polyglot_notebook": {
     "kernelName": "csharp"
    },
    "vscode": {
     "languageId": "polyglot-notebook"
    }
   },
   "outputs": [],
   "source": [
    "//Create Values Controller and add Post method\n",
    "//why we used Post?\n",
    "[HttpPost]\n",
    "public IActionResult DataTable()\n",
    "{\n",
    "    var draw = Request.Form[\"draw\"].FirstOrDefault();\n",
    "    var start = Request.Form[\"start\"].FirstOrDefault();\n",
    "    var length = Request.Form[\"length\"].FirstOrDefault();\n",
    "    var sortColumn = Request.Form[\"order[0][column]\"].FirstOrDefault();\n",
    "    var sortColumnDirection = Request.Form[\"order[0][dir]\"].FirstOrDefault();\n",
    "    var searchValue = Request.Form[\"search[value]\"].FirstOrDefault();\n",
    "\n",
    "    var q = from t in context.TeamMembers\n",
    "            select t;\n",
    "\n",
    "    //sorting\n",
    "    int column;\n",
    "    if (!string.IsNullOrEmpty(sortColumn) && int.TryParse(sortColumn, out column))\n",
    "    {\n",
    "        if (column == 1 && sortColumnDirection == \"asc\")\n",
    "            q = q.OrderBy(o => o.TeamMemberId);\n",
    "        else if (column == 1)\n",
    "            q = q.OrderByDescending(o => o.TeamMemberId);\n",
    "        else if (column == 2 && sortColumnDirection == \"asc\")\n",
    "            q = q.OrderBy(o => o.FirstName);\n",
    "        else if (column == 2)\n",
    "            q = q.OrderByDescending(o => o.FirstName);\n",
    "        else if (column == 3 && sortColumnDirection == \"asc\")\n",
    "            q = q.OrderBy(o => o.LastName);\n",
    "        else if (column == 3)\n",
    "            q = q.OrderByDescending(o => o.LastName);\n",
    "        else if (column == 4 && sortColumnDirection == \"asc\")\n",
    "            q = q.OrderBy(o => o.Email);\n",
    "        else if (column == 4)\n",
    "            q = q.OrderByDescending(o => o.Email);\n",
    "    }\n",
    "\n",
    "    //searching\n",
    "    if (!string.IsNullOrEmpty(searchValue))\n",
    "    {\n",
    "        q = q.Where(o => o.FirstName.Contains(searchValue) ||\n",
    "            o.LastName.Contains(searchValue) ||\n",
    "            o.Email.Contains(searchValue));\n",
    "    }\n",
    "\n",
    "    int skip = start != null ? Convert.ToInt32(start) : 0;\n",
    "    int pageSize = length != null ? Convert.ToInt32(length) : 0;\n",
    "\n",
    "    int recordsTotal = q.Count();\n",
    "    var data = q.Skip(skip).Take(pageSize).ToList();\n",
    "\n",
    "    var jsonData = new { draw, recordsFiltered = recordsTotal, recordsTotal, data };\n",
    "\n",
    "    return Ok(jsonData);\n",
    "}"
   ]
  },
  {
   "cell_type": "markdown",
   "metadata": {},
   "source": [
    "__Projection & Extension Methods__\n",
    "- Projection / Running ToArray importance\n",
    "- Using inline anonymous functions / Extensions\n",
    "    - https://dev.azure.com/nexlinx/_git/BigCats?path=/BigCats/Nexlinx.BigCats.ServerTier/ExtensionMethods/_DateTime.cs\n",
    "- https://dev.azure.com/nexlinx/_git/BigCats?path=/BigCats/Nexlinx.BigCats.ServerTier/ExtensionMethods/_Enumerable.cs"
   ]
  },
  {
   "cell_type": "markdown",
   "metadata": {},
   "source": [
    "__Further Readings__\n",
    "- https://dotnet.microsoft.com/en-us/apps/aspnet/apis\n",
    "- https://learn.microsoft.com/en-us/aspnet/core/web-api\n",
    "- https://learn.microsoft.com/en-us/aspnet/core/tutorials/first-web-api\n",
    "- https://code-maze.com/swagger-ui-asp-net-core-web-api"
   ]
  }
 ],
 "metadata": {
  "kernelspec": {
   "display_name": ".NET (C#)",
   "language": "C#",
   "name": ".net-csharp"
  },
  "language_info": {
   "name": "python",
   "version": "3.11.4"
  },
  "polyglot_notebook": {
   "kernelInfo": {
    "defaultKernelName": "csharp",
    "items": [
     {
      "aliases": [],
      "languageName": "csharp",
      "name": "csharp"
     }
    ]
   }
  }
 },
 "nbformat": 4,
 "nbformat_minor": 2
}
