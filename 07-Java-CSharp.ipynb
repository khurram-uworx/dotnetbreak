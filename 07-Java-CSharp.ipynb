{
 "cells": [
  {
   "cell_type": "markdown",
   "metadata": {},
   "source": [
    "# Java vs C#: Variables"
   ]
  },
  {
   "cell_type": "code",
   "execution_count": null,
   "metadata": {
    "dotnet_interactive": {
     "language": "csharp"
    },
    "polyglot_notebook": {
     "kernelName": "csharp"
    },
    "vscode": {
     "languageId": "polyglot-notebook"
    }
   },
   "outputs": [],
   "source": [
    "string greeting;\n",
    "int i, j, k;\n",
    "int[] numbers = new int[5];\n",
    "int[] initializedArray = { 1, 2, 3, 4, 5 };\n",
    "List<int> listNumbers = new List<int>();\n",
    "List<string> listStrings = new();\n",
    "var doubles = new List<double>(); //implicitly typed\n",
    "\n",
    "//constants\n",
    "const string COMPANY = \"Uworx\";\n",
    "const string AnotherCompany = \"Microsoft\";\n",
    "\n",
    "//For advanced Users\n",
    "//Scoped Variables\n",
    "{\n",
    "    int i = 5;\n",
    "}\n",
    "{\n",
    "    string i = \"Hello\";\n",
    "}"
   ]
  },
  {
   "cell_type": "markdown",
   "metadata": {},
   "source": [
    "# Java vs C#: Iteration Statements"
   ]
  },
  {
   "cell_type": "code",
   "execution_count": null,
   "metadata": {
    "dotnet_interactive": {
     "language": "csharp"
    },
    "polyglot_notebook": {
     "kernelName": "csharp"
    },
    "vscode": {
     "languageId": "polyglot-notebook"
    }
   },
   "outputs": [],
   "source": [
    "for (int i = 0; i <= 4; i++)\n",
    "    Console.Write($\"{i} \");\n",
    "Console.WriteLine(\"\");\n",
    "\n",
    "int i = 0;\n",
    "do\n",
    "{\n",
    "    Console.Write($\"{i} \");\n",
    "    i++;\n",
    "} while (i < 5);\n",
    "Console.WriteLine(\"\");\n",
    "\n",
    "int j = 0;\n",
    "while (j < 5)\n",
    "{\n",
    "    Console.Write($\"{j} \");\n",
    "    j++;\n",
    "}\n",
    "Console.WriteLine(\"\");"
   ]
  },
  {
   "cell_type": "code",
   "execution_count": null,
   "metadata": {
    "dotnet_interactive": {
     "language": "csharp"
    },
    "polyglot_notebook": {
     "kernelName": "csharp"
    },
    "vscode": {
     "languageId": "polyglot-notebook"
    }
   },
   "outputs": [],
   "source": [
    "//foreach loop\n",
    "\n",
    "int[] fibonaccis = [ 0, 1, 1, 2, 3, 5, 8, 13 ];\n",
    "foreach (var fibonacci in fibonaccis)\n",
    "    Console.Write($\"{fibonacci} \");\n",
    "\n",
    "/* Java 5 circa 2004\n",
    "\n",
    "int[] fibonaccis = { 0, 1, 1, 2, 3, 5, 8, 13 };\n",
    "for (int fibonacci : fibonaccis) {\n",
    "    System.out.println(fibonacci);\n",
    "}\n",
    "*/"
   ]
  },
  {
   "cell_type": "markdown",
   "metadata": {},
   "source": [
    "# Java vs C#: Selection Statements"
   ]
  },
  {
   "cell_type": "code",
   "execution_count": null,
   "metadata": {
    "dotnet_interactive": {
     "language": "csharp"
    },
    "polyglot_notebook": {
     "kernelName": "csharp"
    },
    "vscode": {
     "languageId": "polyglot-notebook"
    }
   },
   "outputs": [],
   "source": [
    "if (condition) {\n",
    "    // code to execute if condition is true\n",
    "} else {\n",
    "    // code to execute if condition is false\n",
    "}\n",
    "\n",
    "\n",
    "switch (variable) {\n",
    "    case value1:\n",
    "        // code for value1\n",
    "        break;\n",
    "    case value2:\n",
    "        // code for value2\n",
    "        break;\n",
    "    // ... other cases\n",
    "    default:\n",
    "        // code to execute if no case matches\n",
    "}\n",
    "\n",
    "\n",
    "int result = (condition) ? valueIfTrue : valueIfFalse;\n",
    "//string s = input ?? \"Default\";"
   ]
  },
  {
   "cell_type": "code",
   "execution_count": null,
   "metadata": {
    "dotnet_interactive": {
     "language": "csharp"
    },
    "polyglot_notebook": {
     "kernelName": "csharp"
    },
    "vscode": {
     "languageId": "polyglot-notebook"
    }
   },
   "outputs": [],
   "source": [
    "switch (variable) {\n",
    "    case int i:\n",
    "        // code for integer case\n",
    "        break;\n",
    "    case string s:\n",
    "        // code for string case\n",
    "        break;\n",
    "    // ... other cases\n",
    "    default:\n",
    "        // code to execute if no case matches\n",
    "        break;\n",
    "}"
   ]
  },
  {
   "cell_type": "markdown",
   "metadata": {},
   "source": [
    "# Java vs C#: Jump Statements"
   ]
  },
  {
   "cell_type": "code",
   "execution_count": null,
   "metadata": {
    "dotnet_interactive": {
     "language": "csharp"
    },
    "polyglot_notebook": {
     "kernelName": "csharp"
    },
    "vscode": {
     "languageId": "polyglot-notebook"
    }
   },
   "outputs": [],
   "source": [
    "/*\n",
    "Jump Statements\n",
    "\n",
    "return\n",
    "break, continue (Java also has it)\n",
    "goto label;\n",
    "label:\n",
    "\n",
    "*/"
   ]
  },
  {
   "cell_type": "markdown",
   "metadata": {},
   "source": [
    "__Furhter Readings__\n",
    "- https://learn.microsoft.com/en-us/dotnet/csharp/language-reference/statements/declarations\n",
    "    - Documentation is not scary; its the best one out there; except Microsoft Teams Development :)\n",
    "- https://learn.microsoft.com/en-us/dotnet/csharp/language-reference/statements/selection-statements\n",
    "- https://learn.microsoft.com/en-us/dotnet/csharp/language-reference/statements/iteration-statements\n",
    "    - Option to run code\n",
    "- https://learn.microsoft.com/en-us/dotnet/csharp/language-reference/statements/jump-statements"
   ]
  },
  {
   "cell_type": "markdown",
   "metadata": {},
   "source": [
    "# Java vs C#: OOP\n",
    "- There is no extends / implements; just :\n",
    "- Access Modifiers\n",
    "    - private, public, protected\n",
    "    - Default Package Private of Java; Same in C#; there its called Internal\n",
    "    - Internal Modifier of C#\n",
    "    - Protected Internal in C#; Protected of Java is equivalent"
   ]
  },
  {
   "cell_type": "code",
   "execution_count": null,
   "metadata": {
    "dotnet_interactive": {
     "language": "csharp"
    },
    "polyglot_notebook": {
     "kernelName": "csharp"
    },
    "vscode": {
     "languageId": "polyglot-notebook"
    }
   },
   "outputs": [],
   "source": [
    "abstract class Person {\n",
    "    String name = null;\n",
    "\n",
    "    public void setName(String value) {\n",
    "        this.name = value;\n",
    "    }\n",
    "\n",
    "    public String getName() {\n",
    "        return this.name;\n",
    "    }\n",
    "}\n",
    "\n",
    "abstract class Employee extends Person {\n",
    "    int employeeId = 0;\n",
    "\n",
    "    public void setEmployeeId(int value) {\n",
    "        this.employeeId = value;\n",
    "    }\n",
    "\n",
    "    public int getEmployeeId() {\n",
    "        return this.employeeId;\n",
    "    }\n",
    "}\n",
    "\n",
    "class Developer extends Employee {\n",
    "}\n",
    "\n",
    "class Tester extends Employee {\n",
    "}\n",
    "\n",
    "class TeamEngineer extends Employee {\n",
    "}\n",
    "\n",
    "class TeamManager extends Employee {\n",
    "}\n"
   ]
  },
  {
   "cell_type": "code",
   "execution_count": null,
   "metadata": {
    "dotnet_interactive": {
     "language": "csharp"
    },
    "polyglot_notebook": {
     "kernelName": "csharp"
    },
    "vscode": {
     "languageId": "polyglot-notebook"
    }
   },
   "outputs": [],
   "source": [
    "//C# version of above; used Chat GPT\n",
    "\n",
    "using System;\n",
    "\n",
    "abstract class Person\n",
    "{\n",
    "    protected string name = null;\n",
    "\n",
    "    public void SetName(string value)\n",
    "    {\n",
    "        this.name = value;\n",
    "    }\n",
    "\n",
    "    public string GetName()\n",
    "    {\n",
    "        return this.name;\n",
    "    }\n",
    "}\n",
    "\n",
    "abstract class Employee : Person\n",
    "{\n",
    "    protected int employeeId = 0;\n",
    "\n",
    "    public void SetEmployeeId(int value)\n",
    "    {\n",
    "        this.employeeId = value;\n",
    "    }\n",
    "\n",
    "    public int GetEmployeeId()\n",
    "    {\n",
    "        return this.employeeId;\n",
    "    }\n",
    "}\n",
    "\n",
    "class Developer : Employee\n",
    "{\n",
    "}\n",
    "\n",
    "class Tester : Employee\n",
    "{\n",
    "}\n",
    "\n",
    "class TeamEngineer : Employee\n",
    "{\n",
    "}\n",
    "\n",
    "class TeamManager : Employee\n",
    "{\n",
    "}\n"
   ]
  },
  {
   "cell_type": "markdown",
   "metadata": {},
   "source": [
    "# Converting Code using ChatGPT\n",
    "- https://chat.openai.com/share/d0de76c1-28ef-4c64-a89f-620989757c25\n",
    "- https://chat.openai.com/share/37039656-1df0-41cc-a09d-b6cd55e162dc"
   ]
  }
 ],
 "metadata": {
  "kernelspec": {
   "display_name": ".NET (C#)",
   "language": "C#",
   "name": ".net-csharp"
  },
  "language_info": {
   "name": "python",
   "version": "3.11.4"
  },
  "polyglot_notebook": {
   "kernelInfo": {
    "defaultKernelName": "csharp",
    "items": [
     {
      "aliases": [],
      "languageName": "csharp",
      "name": "csharp"
     }
    ]
   }
  }
 },
 "nbformat": 4,
 "nbformat_minor": 2
}
