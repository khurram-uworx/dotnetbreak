{
 "cells": [
  {
   "cell_type": "markdown",
   "metadata": {},
   "source": [
    "# Nuget of the day 🎁"
   ]
  },
  {
   "cell_type": "markdown",
   "metadata": {},
   "source": [
    "- https://www.nuget.org/packages/humanizer.core\n",
    "- https://github.com/Humanizr/Humanizer"
   ]
  },
  {
   "cell_type": "markdown",
   "metadata": {},
   "source": [
    "## Examples"
   ]
  },
  {
   "cell_type": "code",
   "execution_count": null,
   "metadata": {
    "dotnet_interactive": {
     "language": "csharp"
    },
    "polyglot_notebook": {
     "kernelName": "csharp"
    }
   },
   "outputs": [],
   "source": [
    "#r \"nuget: Humanizer.Core\""
   ]
  },
  {
   "cell_type": "code",
   "execution_count": null,
   "metadata": {
    "dotnet_interactive": {
     "language": "csharp"
    },
    "polyglot_notebook": {
     "kernelName": "csharp"
    }
   },
   "outputs": [],
   "source": [
    "using Humanizer;\n",
    "\n",
    "Console.WriteLine(\"PascalCaseInputStringIsTurnedIntoSentence\".Humanize());\n",
    "Console.WriteLine(\"camelCaseinputStringisTurnedintoSentence\".Humanize());\n",
    "Console.WriteLine(\"Snake_case_input_string_is_turned_into_sentence\".Humanize());\n",
    "Console.WriteLine(\"Kebab-case-input-string-is-turned-into-sentence\".Humanize());"
   ]
  },
  {
   "cell_type": "code",
   "execution_count": null,
   "metadata": {
    "dotnet_interactive": {
     "language": "csharp"
    },
    "polyglot_notebook": {
     "kernelName": "csharp"
    }
   },
   "outputs": [],
   "source": [
    "using Humanizer;\n",
    "\n",
    "Console.WriteLine(DateTime.UtcNow.AddHours(-2).Humanize());\n",
    "Console.WriteLine(TimeSpan.FromDays(5).Humanize());\n",
    "Console.WriteLine(\"Avengers\".Singularize());\n",
    "Console.WriteLine(\"sock\".ToQuantity(12));"
   ]
  },
  {
   "cell_type": "markdown",
   "metadata": {},
   "source": [
    "Java port: https://github.com/MehdiK/Humanizer.jvm"
   ]
  },
  {
   "cell_type": "markdown",
   "metadata": {},
   "source": [
    "# NULL is your friend 🙀"
   ]
  },
  {
   "cell_type": "markdown",
   "metadata": {},
   "source": [
    "<img src=images/null-meme.jpg>\n",
    "\n",
    "- Java/JVM: NullPointerException\n",
    "- C#/CLR: NullReferenceException"
   ]
  },
  {
   "cell_type": "markdown",
   "metadata": {},
   "source": [
    "## Example"
   ]
  },
  {
   "cell_type": "code",
   "execution_count": null,
   "metadata": {
    "dotnet_interactive": {
     "language": "csharp"
    },
    "polyglot_notebook": {
     "kernelName": "csharp"
    }
   },
   "outputs": [],
   "source": [
    "bool IsExcluded(IEnumerable<string> exclusions, string path)\n",
    "{\n",
    "    if (string.IsNullOrWhiteSpace(path)) return false;\n",
    "    if (exclusions == null) return false;\n",
    "    //if (null = exclusions) return false; //yoda\n",
    "\n",
    "\n",
    "    path = Environment.ExpandEnvironmentVariables(path);            // to resolve environment variables like %TEMP%\n",
    "\n",
    "    var wildCardExclusions = exclusions.Where(x => !string.IsNullOrWhiteSpace(x) && x.EndsWith(\"*\"));\n",
    "    var wildCardPaths = wildCardExclusions.Select(x => x.Substring(0, x.Length - 1));\n",
    "\n",
    "    var excluded = wildCardPaths.Any(x => path.StartsWith(x, StringComparison.InvariantCultureIgnoreCase));\n",
    "\n",
    "    if (!excluded)\n",
    "    {\n",
    "        var simpleExclusions = exclusions.Except(wildCardExclusions);\n",
    "        excluded = simpleExclusions.Any(x => !string.IsNullOrWhiteSpace(x) && x.Equals(path, StringComparison.InvariantCultureIgnoreCase));\n",
    "    }\n",
    "\n",
    "    return excluded;\n",
    "}\n",
    "\n",
    "Console.WriteLine(IsExcluded([@\"C:\\Windows\\Inf\\*\", @\"C:\\Program Files\\Edge\\*\", null], @\"C:\\Windows\\Inf\\driver.txt\"));\n",
    "Console.WriteLine(IsExcluded([@\"C:\\Windows\\Inf\\*\", @\"C:\\Program Files\\Edge\\*\", null], @\"C:\\Windows\\driver.txt\"));\n",
    "Console.WriteLine(IsExcluded([null, @\"C:\\Windows\\Inf\\*\", @\"C:\\Program Files\\Edge\\*\"], @\"C:\\Windows\\driver.txt\"));\n",
    "Console.WriteLine(IsExcluded([@\"C:\\Windows\\Inf\\*\", @\"C:\\Program Files\\Edge\\*\", null], null));\n",
    "Console.WriteLine(IsExcluded(null, @\"C:\\Windows\\driver.txt\"));"
   ]
  },
  {
   "cell_type": "markdown",
   "metadata": {},
   "source": [
    "## Null Conditional Operators"
   ]
  },
  {
   "cell_type": "code",
   "execution_count": null,
   "metadata": {
    "dotnet_interactive": {
     "language": "csharp"
    },
    "polyglot_notebook": {
     "kernelName": "csharp"
    }
   },
   "outputs": [],
   "source": [
    "class Bird { public void Fly() => Console.WriteLine(\"Flying...\"); }\n",
    "\n",
    "Bird bird = null;\n",
    "bird?.Fly();    // nothing on console\n",
    "\n",
    "Bird nonNullBird = bird ?? new Bird();\n",
    "nonNullBird.Fly();"
   ]
  },
  {
   "cell_type": "code",
   "execution_count": null,
   "metadata": {
    "dotnet_interactive": {
     "language": "csharp"
    },
    "polyglot_notebook": {
     "kernelName": "csharp"
    }
   },
   "outputs": [],
   "source": [
    "// ?. and ?[]\n",
    "//we can use it against delegate and events\n",
    "event EventHandler OnMessage;\n",
    "OnMessage?.Invoke(null, EventArgs.Empty);\n",
    "\n",
    "// these action oriented calls make sense; what about funcs that return something"
   ]
  },
  {
   "cell_type": "code",
   "execution_count": null,
   "metadata": {
    "dotnet_interactive": {
     "language": "csharp"
    },
    "polyglot_notebook": {
     "kernelName": "csharp"
    }
   },
   "outputs": [],
   "source": [
    "class Student { public int GiveExam() => 80; }\n",
    "Student student = null;\n",
    "int numbers = student?.GiveExam();\n",
    "numbers"
   ]
  },
  {
   "cell_type": "code",
   "execution_count": null,
   "metadata": {
    "dotnet_interactive": {
     "language": "csharp"
    },
    "polyglot_notebook": {
     "kernelName": "csharp"
    }
   },
   "outputs": [],
   "source": [
    "class Student { public int GiveExam() => 80; }\n",
    "Student student = null;\n",
    "int numbers = student?.GiveExam();      // notice how its not compiling"
   ]
  },
  {
   "cell_type": "markdown",
   "metadata": {},
   "source": [
    "## Nullable Value Types"
   ]
  },
  {
   "cell_type": "code",
   "execution_count": null,
   "metadata": {
    "dotnet_interactive": {
     "language": "csharp"
    },
    "polyglot_notebook": {
     "kernelName": "csharp"
    }
   },
   "outputs": [],
   "source": [
    "// Java has Optional<T>\n",
    "// Java also has OptionalInt; what's the difference between Optional<Integer> and OptionalInt ?\n",
    "\n",
    "int? a = null;\n",
    "\n",
    "if (!a.HasValue) Console.WriteLine(\"a has no value\");\n",
    "\n",
    "a ??= 100; //should now has 100\n",
    "Console.WriteLine(a);"
   ]
  },
  {
   "cell_type": "code",
   "execution_count": null,
   "metadata": {
    "dotnet_interactive": {
     "language": "csharp"
    },
    "polyglot_notebook": {
     "kernelName": "csharp"
    }
   },
   "outputs": [],
   "source": [
    "class Student { public int GiveExam() => 80; }\n",
    "\n",
    "Student student = null;\n",
    "\n",
    "\n",
    "if (/* null checks */)\n",
    "{\n",
    "    int myResponsibility = student.GiveExam();\n",
    "}\n",
    "\n",
    "\n",
    "int? numbers = student?.GiveExam();\n",
    "int nonNullable = numbers.HasValue ? numbers.Value : 0;\n",
    "int nonNullable1 = numbers ?? 0;\n",
    "nonNullable"
   ]
  },
  {
   "cell_type": "markdown",
   "metadata": {},
   "source": [
    "## The null-coalescing Operators"
   ]
  },
  {
   "cell_type": "code",
   "execution_count": null,
   "metadata": {
    "dotnet_interactive": {
     "language": "csharp"
    },
    "polyglot_notebook": {
     "kernelName": "csharp"
    }
   },
   "outputs": [],
   "source": [
    "//also exist in javascript / typescript (2020) and Swift; C# (v2 / 2005)\n",
    "//Probably came from Ruby; its syntax: optionalParameter || neededParameter\n",
    "\n",
    "class Something {}\n",
    "\n",
    "Something something = null;\n",
    "Something notNull = something ?? new Something();"
   ]
  },
  {
   "cell_type": "code",
   "execution_count": null,
   "metadata": {
    "dotnet_interactive": {
     "language": "csharp"
    },
    "polyglot_notebook": {
     "kernelName": "csharp"
    }
   },
   "outputs": [],
   "source": [
    "class Something {}\n",
    "Something something = null;\n",
    "\n",
    "something ??= new Something();  // only if left is null; assign right"
   ]
  },
  {
   "cell_type": "code",
   "execution_count": null,
   "metadata": {
    "dotnet_interactive": {
     "language": "csharp"
    },
    "polyglot_notebook": {
     "kernelName": "csharp"
    }
   },
   "outputs": [],
   "source": [
    "class Student { public int GiveExam() => 80; }\n",
    "\n",
    "Student student = null;\n",
    "int? numbers = student?.GiveExam();\n",
    "numbers ??= 0; // not very popular; but its there"
   ]
  },
  {
   "cell_type": "markdown",
   "metadata": {},
   "source": [
    "## Nullable Context"
   ]
  },
  {
   "cell_type": "code",
   "execution_count": null,
   "metadata": {
    "dotnet_interactive": {
     "language": "csharp"
    },
    "polyglot_notebook": {
     "kernelName": "csharp"
    }
   },
   "outputs": [],
   "source": [
    "#nullable enable\n",
    "class Something {}\n",
    "\n",
    "Something something = null;\n",
    "\n",
    "#nullable disable\n",
    "something = null;"
   ]
  },
  {
   "cell_type": "markdown",
   "metadata": {},
   "source": [
    "## Pattern Matching"
   ]
  },
  {
   "cell_type": "markdown",
   "metadata": {},
   "source": [
    "We will discuss pattern matching more when discussing Functional Programming /w C#"
   ]
  },
  {
   "cell_type": "code",
   "execution_count": null,
   "metadata": {
    "dotnet_interactive": {
     "language": "csharp"
    },
    "polyglot_notebook": {
     "kernelName": "csharp"
    }
   },
   "outputs": [],
   "source": [
    "class Something {}\n",
    "Something something = null;\n",
    "\n",
    "if (something is null) Console.WriteLine(\"something is null\");"
   ]
  },
  {
   "cell_type": "markdown",
   "metadata": {},
   "source": [
    "## Type Testing"
   ]
  },
  {
   "cell_type": "markdown",
   "metadata": {},
   "source": [
    "- *as* and *is*\n",
    "- typeof()"
   ]
  },
  {
   "cell_type": "code",
   "execution_count": null,
   "metadata": {
    "dotnet_interactive": {
     "language": "csharp"
    },
    "polyglot_notebook": {
     "kernelName": "csharp"
    }
   },
   "outputs": [],
   "source": [
    "class Something {}\n",
    "Something something = new Something();      // something is not null\n",
    "\n",
    "var disposable = something as IDisposable;  // but disposeable will be null as something is not IDisposable\n",
    "if (null == disposable) Console.WriteLine(\"disposable is null\");"
   ]
  },
  {
   "cell_type": "code",
   "execution_count": null,
   "metadata": {
    "dotnet_interactive": {
     "language": "csharp"
    },
    "polyglot_notebook": {
     "kernelName": "csharp"
    }
   },
   "outputs": [],
   "source": [
    "IEnumerable<int> numbers = [10, 20, 30];\n",
    "IList<int> indexable = numbers as IList<int>;\n",
    "if (indexable != null)\n",
    "{\n",
    "    Console.WriteLine(indexable[0] + indexable[indexable.Count - 1]);  // output: 40\n",
    "}"
   ]
  },
  {
   "cell_type": "code",
   "execution_count": null,
   "metadata": {
    "dotnet_interactive": {
     "language": "csharp"
    },
    "polyglot_notebook": {
     "kernelName": "csharp"
    }
   },
   "outputs": [],
   "source": [
    "int i = 23;\n",
    "object iBoxed = i;\n",
    "int? nullable = 7;\n",
    "\n",
    "if (iBoxed is int a && nullable is int b)\n",
    "{\n",
    "    Console.WriteLine(a + b);\n",
    "}"
   ]
  },
  {
   "cell_type": "code",
   "execution_count": null,
   "metadata": {
    "dotnet_interactive": {
     "language": "csharp"
    },
    "polyglot_notebook": {
     "kernelName": "csharp"
    }
   },
   "outputs": [],
   "source": [
    "int i = 5;\n",
    "Console.WriteLine(typeof(int));\n",
    "Console.WriteLine(i.GetType() == typeof(int));"
   ]
  },
  {
   "cell_type": "markdown",
   "metadata": {},
   "source": [
    "__Further Readings__\n",
    "- https://learn.microsoft.com/en-us/dotnet/csharp/language-reference/operators/null-coalescing-operator\n",
    "- https://learn.microsoft.com/en-us/dotnet/csharp/language-reference/operators/member-access-operators\n",
    "- https://learn.microsoft.com/en-us/dotnet/csharp/language-reference/builtin-types/nullable-value-types\n",
    "- https://learn.microsoft.com/en-us/dotnet/csharp/language-reference/builtin-types/nullable-reference-types\n",
    "- https://learn.microsoft.com/en-us/dotnet/csharp/language-reference/operators/type-testing-and-cast"
   ]
  },
  {
   "cell_type": "markdown",
   "metadata": {},
   "source": [
    "# Pointers 🤪"
   ]
  },
  {
   "cell_type": "markdown",
   "metadata": {},
   "source": [
    "<img src=images/pointers-meme.jpg>"
   ]
  },
  {
   "cell_type": "code",
   "execution_count": null,
   "metadata": {
    "dotnet_interactive": {
     "language": "csharp"
    },
    "polyglot_notebook": {
     "kernelName": "csharp"
    }
   },
   "outputs": [],
   "source": [
    "int[] numbers = { 1, 2, 3, 4, 5 };\n",
    "\n",
    "unsafe\n",
    "{\n",
    "    fixed (int* ptr = numbers)\n",
    "    {\n",
    "        for (int i = 0; i < 5; i++)\n",
    "            *(ptr + i) *= *(ptr + i); // guess what we are doing\n",
    "    }\n",
    "}\n",
    "\n",
    "foreach (var num in numbers)\n",
    "    Console.Write(num + \" \");"
   ]
  },
  {
   "cell_type": "code",
   "execution_count": null,
   "metadata": {
    "dotnet_interactive": {
     "language": "csharp"
    },
    "polyglot_notebook": {
     "kernelName": "csharp"
    }
   },
   "outputs": [],
   "source": [
    "static class SpanTesting\n",
    "{\n",
    "    public static void Test()\n",
    "    {\n",
    "        int[] numbers = { 1, 2, 3, 4, 5 };\n",
    "        Span<int> span = numbers.AsSpan();\n",
    "\n",
    "        for (int i = 0; i < span.Length; i++)\n",
    "            span[i] *= span[i];\n",
    "\n",
    "        foreach (var num in numbers)\n",
    "            Console.Write(num + \" \");\n",
    "    }\n",
    "}\n",
    "\n",
    "SpanTesting.Test()"
   ]
  },
  {
   "cell_type": "markdown",
   "metadata": {},
   "source": [
    "- Unsafe Code if you want to\n",
    "- Even if you need pointers; you probably dont need to fallback to Unsafe due to Span<T> family; Span<T>, Memory<T>, their ReadOnly variants and more\n",
    "\n",
    "__Further Readings__\n",
    "- https://learn.microsoft.com/en-us/dotnet/csharp/language-reference/unsafe-code\n",
    "- https://learn.microsoft.com/en-us/dotnet/standard/memory-and-spans"
   ]
  }
 ],
 "metadata": {
  "kernelspec": {
   "display_name": ".NET (C#)",
   "language": "C#",
   "name": ".net-csharp"
  },
  "language_info": {
   "name": "polyglot-notebook"
  },
  "polyglot_notebook": {
   "kernelInfo": {
    "defaultKernelName": "csharp",
    "items": [
     {
      "aliases": [],
      "languageName": "csharp",
      "name": "csharp"
     }
    ]
   }
  }
 },
 "nbformat": 4,
 "nbformat_minor": 2
}
