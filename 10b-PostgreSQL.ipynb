{
    "cells": [
        {
            "cell_type": "markdown",
            "metadata": {},
            "source": [
                "# PostgreSQL"
            ]
        },
        {
            "cell_type": "markdown",
            "metadata": {},
            "source": [
                "- https://github.com/pgvector/pgvector\n",
                "- https://www.citusdata.com\n",
                "- https://learn.microsoft.com/en-us/azure/architecture/databases/idea/intelligent-apps-using-azure-database-for-postgresql"
            ]
        },
        {
            "cell_type": "markdown",
            "metadata": {},
            "source": [
                "# pgvector"
            ]
        },
        {
            "attachments": {},
            "cell_type": "markdown",
            "metadata": {
                "azdata_cell_guid": "d3a2e7ed-d267-425b-acc9-65bca1532915"
            },
            "source": [
                "To quickly have pgvector; use Docker and run it using the following command\n",
                "\n",
                "docker run --name pgvector -e POSTGRES_PASSWORD=uworx -p 5432:5432 -d ankane/pgvector:latest"
            ]
        },
        {
            "cell_type": "code",
            "execution_count": null,
            "metadata": {
                "azdata_cell_guid": "2f354ff8-abae-4a24-9d3f-8cb94df03e20",
                "language": "sql"
            },
            "outputs": [],
            "source": [
                "select * from information_schema.tables;"
            ]
        },
        {
            "cell_type": "code",
            "execution_count": null,
            "metadata": {
                "azdata_cell_guid": "4604ab75-fc70-437a-9904-ad1d31f244bd",
                "language": "sql",
                "tags": []
            },
            "outputs": [],
            "source": [
                "create extension vector;\n",
                "select * from pg_extension;"
            ]
        },
        {
            "cell_type": "code",
            "execution_count": null,
            "metadata": {
                "azdata_cell_guid": "56c369aa-a119-4217-bca1-4f2395d86f23",
                "language": "sql"
            },
            "outputs": [],
            "source": [
                "create table Items (Id bigserial primary key, embedding vector(3));\n",
                "insert into Items (embedding) values ('[1, 2, 3]'), ('[4, 5, 6]');"
            ]
        },
        {
            "cell_type": "code",
            "execution_count": null,
            "metadata": {
                "azdata_cell_guid": "771565f8-289e-4528-948f-fd365f0d560f",
                "language": "sql"
            },
            "outputs": [],
            "source": [
                "select * from Items order by embedding <-> '[3,1,2]' limit 5;\n",
                "/*\n",
                "    <-> is L2 distance, <#> is inner product, <=> is cosine distance\n",
                "*/"
            ]
        },
        {
            "cell_type": "markdown",
            "metadata": {},
            "source": [
                "__Further Readings__\n",
                "- https://learn.microsoft.com/en-us/azure/postgresql/flexible-server/how-to-use-pgvector"
            ]
        }
    ],
    "metadata": {
        "kernelspec": {
            "display_name": "SQL",
            "language": "sql",
            "name": "SQL"
        },
        "language_info": {
            "name": "sql",
            "version": ""
        }
    },
    "nbformat": 4,
    "nbformat_minor": 2
}
