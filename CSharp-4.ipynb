{
 "cells": [
  {
   "cell_type": "markdown",
   "metadata": {},
   "source": [
    "# Singleton & TPL\n",
    "\n",
    "- Task Parallel Library; https://learn.microsoft.com/en-us/dotnet/standard/parallel-programming/task-parallel-library-tpl\n",
    "- Task based async programming; https://learn.microsoft.com/en-us/dotnet/standard/parallel-programming/task-based-asynchronous-programming"
   ]
  },
  {
   "cell_type": "code",
   "execution_count": null,
   "metadata": {
    "dotnet_interactive": {
     "language": "csharp"
    },
    "polyglot_notebook": {
     "kernelName": "csharp"
    }
   },
   "outputs": [],
   "source": [
    "#r \"nuget: Microsoft.EntityFrameworkCore.SqlServer, *-*\""
   ]
  },
  {
   "cell_type": "code",
   "execution_count": null,
   "metadata": {
    "dotnet_interactive": {
     "language": "csharp"
    },
    "polyglot_notebook": {
     "kernelName": "csharp"
    }
   },
   "outputs": [],
   "source": [
    "using Microsoft.EntityFrameworkCore;\n",
    "\n",
    "class Reading\n",
    "{\n",
    "    public int DataId { get; set; }\n",
    "\n",
    "    public int Number1 { get; set; }\n",
    "    public int Number2 { get; set; }\n",
    "    public int Number3 { get; set; }\n",
    "    public int Number4 { get; set; }\n",
    "    public int Number5 { get; set; }\n",
    "\n",
    "    public double WideNumber1 { get; set; }\n",
    "    public double WideNumber2 { get; set; }\n",
    "    public double WideNumber3 { get; set; }\n",
    "    public double WideNumber4 { get; set; }\n",
    "    public double WideNumber5 { get; set; }\n",
    "\n",
    "    public string String1 { get; set; }\n",
    "    public string String2 { get; set; }\n",
    "    public string String3 { get; set; }\n",
    "    public string String4 { get; set; }\n",
    "    public string String5 { get; set; }\n",
    "}\n",
    "\n",
    "class JiraDbContext : DbContext\n",
    "{\n",
    "    public DbSet<Reading> Readings { get; set; }\n",
    "\n",
    "    protected override void OnConfiguring(DbContextOptionsBuilder optionsBuilder)\n",
    "    {\n",
    "        var connectionString = \"Server=.;Database=JiraDb;Trusted_Connection=True;TrustServerCertificate=True;\";\n",
    "        optionsBuilder.UseSqlServer(connectionString);\n",
    "    }\n",
    "\n",
    "    protected override void OnModelCreating(ModelBuilder modelBuilder)\n",
    "    {\n",
    "        //base.OnModelCreating(modelBuilder);\n",
    "        modelBuilder.Entity<Reading>(entity =>\n",
    "        {\n",
    "            entity.HasKey(e => e.DataId);\n",
    "            entity.HasIndex(e => e.DataId).IsUnique();\n",
    "        });\n",
    "    }\n",
    "}"
   ]
  },
  {
   "cell_type": "code",
   "execution_count": null,
   "metadata": {
    "dotnet_interactive": {
     "language": "csharp"
    },
    "polyglot_notebook": {
     "kernelName": "csharp"
    }
   },
   "outputs": [],
   "source": [
    "var random = new Random(Guid.NewGuid().GetHashCode());\n",
    "\n",
    "using(var db = new JiraDbContext())\n",
    "{\n",
    "    db.Database.EnsureCreated();\n",
    "\n",
    "    for(int i = 1; i <= 25000; i ++) //lets generate lot of data\n",
    "    {\n",
    "        db.Readings.Add(new Reading()\n",
    "        {\n",
    "            Number1 = random.Next(), Number2 = random.Next(), Number3 = random.Next(),\n",
    "            Number4 = random.Next(), Number5 = random.Next(),\n",
    "\n",
    "            WideNumber1 = random.Next() * random.Next(),\n",
    "            WideNumber2 = random.Next() * random.Next(),\n",
    "            WideNumber3 = random.Next() * random.Next(),\n",
    "            WideNumber4 = random.Next() * random.Next(),\n",
    "            WideNumber5 = random.Next() * random.Next(),\n",
    "\n",
    "            String1 = random.Next().GetHashCode().ToString(),\n",
    "            String2 = random.Next().GetHashCode().ToString(),\n",
    "            String3 = random.Next().GetHashCode().ToString(),\n",
    "            String4 = random.Next().GetHashCode().ToString(),\n",
    "            String5 = random.Next().GetHashCode().ToString()\n",
    "        });\n",
    "        db.SaveChanges();\n",
    "    }\n",
    "}"
   ]
  },
  {
   "cell_type": "code",
   "execution_count": null,
   "metadata": {
    "dotnet_interactive": {
     "language": "csharp"
    },
    "polyglot_notebook": {
     "kernelName": "csharp"
    }
   },
   "outputs": [],
   "source": [
    "using System.Threading;\n",
    "\n",
    "class Singleton\n",
    "{\n",
    "    static readonly object lockObject = new object();\n",
    "    static volatile Singleton instance; //volatile importance\n",
    "\n",
    "    Reading[] data = null;\n",
    "\n",
    "    void print(string s)\n",
    "    {\n",
    "        Console.WriteLine($\"{DateTime.Now} {s}\");\n",
    "    }\n",
    "\n",
    "    Singleton() \n",
    "    {\n",
    "        print(\"ctor started\");\n",
    "        using(var db = new JiraDbContext())\n",
    "        {\n",
    "            var q = from d in db.Readings\n",
    "                    select d;\n",
    "            data = q.ToArray();\n",
    "        }\n",
    "        print(\"ctor finished\");\n",
    "    }\n",
    "\n",
    "    public Reading[] Data => data;\n",
    "\n",
    "    public static Singleton Instance\n",
    "    {\n",
    "        get\n",
    "        {\n",
    "            if (instance == null)\n",
    "            {\n",
    "                lock (lockObject)\n",
    "                {\n",
    "                    if (instance == null)\n",
    "                    {\n",
    "                        instance = new Singleton();\n",
    "                    }\n",
    "                }\n",
    "            }\n",
    "            return instance;\n",
    "        }\n",
    "    }\n",
    "}"
   ]
  },
  {
   "cell_type": "code",
   "execution_count": null,
   "metadata": {
    "dotnet_interactive": {
     "language": "csharp"
    },
    "polyglot_notebook": {
     "kernelName": "csharp"
    }
   },
   "outputs": [],
   "source": [
    "using System.Linq;\n",
    "\n",
    "void firstRandomRow()\n",
    "{\n",
    "    var randomRow = Singleton.Instance.Data.OrderBy(d => Guid.NewGuid()).FirstOrDefault();\n",
    "    if (null != randomRow)\n",
    "        Console.WriteLine($\"{DateTime.Now} [{Thread.CurrentThread.ManagedThreadId}] {randomRow.DataId} is selected\");\n",
    "}\n",
    "\n",
    "var tasks = new []\n",
    "{\n",
    "    new Task(firstRandomRow),\n",
    "    new Task(firstRandomRow),\n",
    "    new Task(firstRandomRow),\n",
    "    new Task(firstRandomRow),\n",
    "    new Task(firstRandomRow)\n",
    "};\n",
    "\n",
    "Parallel.ForEach(tasks, task =>\n",
    "{\n",
    "    task.Start();\n",
    "});\n",
    "\n",
    "await Task.WhenAll(tasks).ContinueWith(done =>\n",
    "{\n",
    "    Console.WriteLine($\"{DateTime.Now} Completed...\");\n",
    "});"
   ]
  }
 ],
 "metadata": {
  "kernelspec": {
   "display_name": ".NET (C#)",
   "language": "C#",
   "name": ".net-csharp"
  },
  "language_info": {
   "name": "polyglot-notebook"
  },
  "polyglot_notebook": {
   "kernelInfo": {
    "defaultKernelName": "csharp",
    "items": [
     {
      "aliases": [],
      "languageName": "csharp",
      "name": "csharp"
     }
    ]
   }
  }
 },
 "nbformat": 4,
 "nbformat_minor": 2
}
