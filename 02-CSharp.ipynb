{
 "cells": [
  {
   "cell_type": "code",
   "execution_count": null,
   "metadata": {
    "dotnet_interactive": {
     "language": "csharp"
    },
    "polyglot_notebook": {
     "kernelName": "csharp"
    }
   },
   "outputs": [],
   "source": [
    "//Attributes: Compiler Tricks\n",
    "using System.Diagnostics;\n",
    "\n",
    "[Conditional(\"DEBUG\")]\n",
    "void TraceMethod()\n",
    "{ }"
   ]
  },
  {
   "cell_type": "code",
   "execution_count": null,
   "metadata": {
    "dotnet_interactive": {
     "language": "csharp"
    },
    "polyglot_notebook": {
     "kernelName": "csharp"
    }
   },
   "outputs": [],
   "source": [
    "var data = new[] { 5, 3, 7, 8, 2, 9 };\n",
    "foreach(var d in data)\n",
    "    Console.WriteLine(d);"
   ]
  },
  {
   "cell_type": "markdown",
   "metadata": {},
   "source": [
    "# Value and Reference Types\n",
    "\n",
    "- Default Values\n",
    "- Nullable"
   ]
  },
  {
   "cell_type": "code",
   "execution_count": null,
   "metadata": {
    "dotnet_interactive": {
     "language": "csharp"
    },
    "polyglot_notebook": {
     "kernelName": "csharp"
    }
   },
   "outputs": [],
   "source": [
    "string location;    // reference type\n",
    "DateTime time;      // value type\n",
    "\n",
    "Console.WriteLine(location == null ? \"location is null\" : location);\n",
    "Console.WriteLine(time == null ? \"time is null\" : time.ToString());"
   ]
  },
  {
   "cell_type": "markdown",
   "metadata": {},
   "source": [
    "# Generics\n",
    "\n",
    "- Classes\n",
    "- Methods\n",
    "- Delegate\n",
    "- Collections"
   ]
  },
  {
   "cell_type": "code",
   "execution_count": null,
   "metadata": {
    "dotnet_interactive": {
     "language": "csharp"
    },
    "polyglot_notebook": {
     "kernelName": "csharp"
    }
   },
   "outputs": [],
   "source": [
    "public class Box<T>\n",
    "{\n",
    "    public T Field;\n",
    "}\n",
    "\n",
    "void Swap<T>(T left, T right)\n",
    "{\n",
    "    T temp = left;\n",
    "    left = right;\n",
    "    right = temp;\n",
    "}\n"
   ]
  },
  {
   "cell_type": "markdown",
   "metadata": {},
   "source": [
    "# Delegates\n",
    "\n",
    "- Multicasting\n",
    "- Callback & Lazy Loading"
   ]
  },
  {
   "cell_type": "code",
   "execution_count": null,
   "metadata": {
    "dotnet_interactive": {
     "language": "csharp"
    },
    "polyglot_notebook": {
     "kernelName": "csharp"
    }
   },
   "outputs": [],
   "source": [
    "delegate void DelegateString(string s);\n",
    "delegate string GetStringDelegate();\n",
    "\n",
    "void Process(GetStringDelegate getServer, DelegateString connected, DelegateString disconnected)\n",
    "{\n",
    "    var server = getServer();\n",
    "    //connect to remote server\n",
    "    connected($\"Connected to {server}\");\n",
    "\n",
    "    //do something\n",
    "    //disconnect\n",
    "    disconnected($\"Disconnected from {server}\");\n",
    "\n",
    "    //cleanup or something more\n",
    "}\n",
    "\n",
    "\n",
    "void print(string s) { Console.WriteLine(s); }\n",
    "string loadConfig() => \"google.com\";\n",
    "\n",
    "Process(loadConfig, print, print);"
   ]
  },
  {
   "cell_type": "code",
   "execution_count": null,
   "metadata": {
    "dotnet_interactive": {
     "language": "csharp"
    },
    "polyglot_notebook": {
     "kernelName": "csharp"
    }
   },
   "outputs": [],
   "source": [
    "//Delegates and Generics\n",
    "//Action, Func, EventHandler.....and Predicate\n",
    "\n",
    "var print = new Action<string>((string s) =>\n",
    "{\n",
    "    Console.WriteLine(s);\n",
    "});\n",
    "\n",
    "Action<string> print2 = s => Console.WriteLine(s);\n",
    "\n",
    "print(\"Hello Action\");\n",
    "print2(\"Hello Action\");"
   ]
  },
  {
   "cell_type": "code",
   "execution_count": null,
   "metadata": {
    "dotnet_interactive": {
     "language": "csharp"
    },
    "polyglot_notebook": {
     "kernelName": "csharp"
    }
   },
   "outputs": [],
   "source": [
    "int Calculation(Func<int, int, int> operation, int x, int y)\n",
    "{\n",
    "    Console.WriteLine($\"Calculation(.., {x}, {y})\");\n",
    "    var r = operation(x, y);\n",
    "    Console.WriteLine($\"Returned {r}\");\n",
    "    return r;\n",
    "}\n",
    "\n",
    "Calculation((x, y) => x + y, 2, 3);"
   ]
  },
  {
   "cell_type": "code",
   "execution_count": null,
   "metadata": {
    "dotnet_interactive": {
     "language": "csharp"
    },
    "polyglot_notebook": {
     "kernelName": "csharp"
    }
   },
   "outputs": [],
   "source": [
    "class BinaryTree<T> where T:IComparable<T>\n",
    "{\n",
    "    public T Value { get; set; }\n",
    "    public BinaryTree<T> Left;\n",
    "    public BinaryTree<T> Right;\n",
    "\n",
    "    public BinaryTree(T value)\n",
    "    {\n",
    "        this.Value = value;\n",
    "        this.Left = this.Right = null;\n",
    "    }\n",
    "\n",
    "    public void Insert(T value)\n",
    "    {\n",
    "        Func<BinaryTree<T>, T, BinaryTree<T>> insert = (t, v) =>\n",
    "        {\n",
    "            if (t == null)\n",
    "            {\n",
    "                t = new BinaryTree<T>(v);\n",
    "                return t;\n",
    "            }\n",
    "            else\n",
    "            {\n",
    "                t.Insert(v);\n",
    "                return t;\n",
    "            }\n",
    "        };\n",
    "\n",
    "        if (value.CompareTo(this.Value) < 0)\n",
    "            this.Left = insert(this.Left, value);\n",
    "        else\n",
    "            this.Right = insert(this.Right, value);\n",
    "    }\n",
    "\n",
    "    public IEnumerator<T> GetEnumerator()\n",
    "    {\n",
    "        if (this.Left != null)\n",
    "        {\n",
    "            foreach (T item in this.Left)\n",
    "                yield return item;\n",
    "        }\n",
    "\n",
    "        yield return this.Value;\n",
    "\n",
    "        if (this.Right != null)\n",
    "        {\n",
    "            foreach (T item in this.Right)\n",
    "                yield return item;\n",
    "        }\n",
    "    }\n",
    "}"
   ]
  },
  {
   "cell_type": "code",
   "execution_count": null,
   "metadata": {
    "dotnet_interactive": {
     "language": "csharp"
    },
    "polyglot_notebook": {
     "kernelName": "csharp"
    }
   },
   "outputs": [],
   "source": [
    "var values = new[] { 5, 4, 7, 2, 8, 1 };\n",
    "\n",
    "var tree = new BinaryTree<int>(9);\n",
    "foreach(var v in values)\n",
    "    tree.Insert(v);\n",
    "\n",
    "foreach(var v in tree)\n",
    "    Console.WriteLine(v);"
   ]
  },
  {
   "cell_type": "markdown",
   "metadata": {},
   "source": [
    "- Contravariance: Using one method for different event / Delegates\n",
    "- Covariance: Delegate can be more generatlized say object or base type and method can use specialized types"
   ]
  },
  {
   "cell_type": "markdown",
   "metadata": {},
   "source": [
    "# Events"
   ]
  },
  {
   "cell_type": "code",
   "execution_count": null,
   "metadata": {
    "dotnet_interactive": {
     "language": "csharp"
    },
    "polyglot_notebook": {
     "kernelName": "csharp"
    }
   },
   "outputs": [],
   "source": [
    "delegate void DelegateString(string s);\n",
    "event DelegateString StringEvent;               // instead of these two lines; we can simply have event Action<string> StringEvent;\n",
    "\n",
    "void print(string s) { Console.WriteLine(s); }\n",
    "void log(string s) { Console.WriteLine($\"Logged {s}\"); }\n",
    "\n",
    "StringEvent += new DelegateString(print);\n",
    "StringEvent += new DelegateString(log);\n",
    "\n",
    "StringEvent(\"Its a beautiful day\");"
   ]
  },
  {
   "cell_type": "code",
   "execution_count": null,
   "metadata": {
    "dotnet_interactive": {
     "language": "csharp"
    },
    "polyglot_notebook": {
     "kernelName": "csharp"
    }
   },
   "outputs": [],
   "source": [
    "class StepCompletedEventArgs : EventArgs\n",
    "{\n",
    "    public bool CanContinue = false;\n",
    "}\n",
    "\n",
    "event EventHandler<StepCompletedEventArgs> StepCompleted;\n",
    "\n",
    "void MultiStepLogic()\n",
    "{\n",
    "    //Step 1\n",
    "    //Before proceeding to step 2; we need to check if we can continue\n",
    "    var args = new StepCompletedEventArgs();\n",
    "    if (null != StepCompleted) // someone has subscribed\n",
    "        StepCompleted(new object(), args);\n",
    "    \n",
    "    if (args.CanContinue)\n",
    "        Console.WriteLine(\"I can continue\");\n",
    "    else\n",
    "        Console.WriteLine(\"I cann't continue\");\n",
    "    //Step 2\n",
    "}\n",
    "\n",
    "//Lets subscribe\n",
    "StepCompleted += (s, e) => e.CanContinue = true;\n",
    "MultiStepLogic();"
   ]
  },
  {
   "cell_type": "code",
   "execution_count": null,
   "metadata": {
    "dotnet_interactive": {
     "language": "csharp"
    },
    "polyglot_notebook": {
     "kernelName": "csharp"
    }
   },
   "outputs": [],
   "source": [
    "void dontLetThemContinue(object sender, StepCompletedEventArgs args) { args.CanContinue = false; }\n",
    "\n",
    "//lets make another subscription\n",
    "StepCompleted += dontLetThemContinue;     // this being second; this will have final say\n",
    "MultiStepLogic(); // shouldnt continue\n",
    "\n",
    "StepCompleted -= dontLetThemContinue;     // for unsubscribe to work we had to use local method\n",
    "MultiStepLogic(); // should continue"
   ]
  },
  {
   "cell_type": "code",
   "execution_count": null,
   "metadata": {
    "dotnet_interactive": {
     "language": "csharp"
    },
    "polyglot_notebook": {
     "kernelName": "csharp"
    }
   },
   "outputs": [],
   "source": [
    "//Inheritance and Events\n",
    "\n",
    "class BaseClass\n",
    "{\n",
    "    event EventHandler<ClickEventArgument> OnClick;\n",
    "\n",
    "    protected void RaiseEvent(ClickEventArgument args)\n",
    "    {\n",
    "        if (null != OnClick) OnClick(this, args);\n",
    "    }\n",
    "}\n",
    "\n",
    "class ChildClass : BaseClass // we have inherited the event\n",
    "{\n",
    "    void SomeMethod()\n",
    "    {\n",
    "        //if we need to raise the event\n",
    "        base.RaiseEvent(new ClickEventArgument());\n",
    "    }\n",
    "}"
   ]
  },
  {
   "cell_type": "code",
   "execution_count": null,
   "metadata": {
    "dotnet_interactive": {
     "language": "csharp"
    },
    "polyglot_notebook": {
     "kernelName": "csharp"
    }
   },
   "outputs": [],
   "source": [
    "using System.Collections.Generic; //We have tons of Generic Collections in there\n",
    "\n",
    "var list = new List<int>();\n",
    "var linkedList = new LinkedList<int>();"
   ]
  }
 ],
 "metadata": {
  "kernelspec": {
   "display_name": ".NET (C#)",
   "language": "C#",
   "name": ".net-csharp"
  },
  "language_info": {
   "name": "polyglot-notebook"
  },
  "polyglot_notebook": {
   "kernelInfo": {
    "defaultKernelName": "csharp",
    "items": [
     {
      "aliases": [],
      "languageName": "csharp",
      "name": "csharp"
     }
    ]
   }
  }
 },
 "nbformat": 4,
 "nbformat_minor": 2
}
