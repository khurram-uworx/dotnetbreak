{
 "cells": [
  {
   "cell_type": "markdown",
   "metadata": {},
   "source": [
    "# Quiz❔❓"
   ]
  },
  {
   "cell_type": "markdown",
   "metadata": {},
   "source": [
    "## Question 1"
   ]
  },
  {
   "cell_type": "markdown",
   "metadata": {},
   "source": [
    "What's the output?"
   ]
  },
  {
   "cell_type": "code",
   "execution_count": null,
   "metadata": {
    "dotnet_interactive": {
     "language": "csharp"
    },
    "polyglot_notebook": {
     "kernelName": "csharp"
    },
    "vscode": {
     "languageId": "polyglot-notebook"
    }
   },
   "outputs": [],
   "source": [
    "int i = 5;\n",
    "\n",
    "int j = i++;\n",
    "Console.WriteLine(i);\n",
    "Console.WriteLine(j);\n",
    "\n",
    "i = 5;\n",
    "int k = ++i;\n",
    "Console.WriteLine(i);\n",
    "Console.WriteLine(k);"
   ]
  },
  {
   "cell_type": "markdown",
   "metadata": {},
   "source": [
    "## Question 2"
   ]
  },
  {
   "cell_type": "markdown",
   "metadata": {},
   "source": [
    "What's the output?"
   ]
  },
  {
   "cell_type": "code",
   "execution_count": null,
   "metadata": {
    "dotnet_interactive": {
     "language": "csharp"
    },
    "polyglot_notebook": {
     "kernelName": "csharp"
    },
    "vscode": {
     "languageId": "polyglot-notebook"
    }
   },
   "outputs": [],
   "source": [
    "string location;\n",
    "DateTime time;\n",
    "\n",
    "Console.WriteLine(location == null ? \"location is null\" : location);\n",
    "Console.WriteLine(time == null ? \"time is null\" : time.ToString());"
   ]
  },
  {
   "cell_type": "markdown",
   "metadata": {},
   "source": [
    "## Question 3"
   ]
  },
  {
   "cell_type": "markdown",
   "metadata": {},
   "source": [
    "Person table has 100 records. 60 of these records are active and 40 inactive\n",
    "- On which line does the Database get queried?\n",
    "- Will the database query bring back 100 people or 60 people?\n",
    "- Is there an obvious way to improve the query?"
   ]
  },
  {
   "cell_type": "code",
   "execution_count": null,
   "metadata": {
    "dotnet_interactive": {
     "language": "csharp"
    },
    "polyglot_notebook": {
     "kernelName": "csharp"
    },
    "vscode": {
     "languageId": "polyglot-notebook"
    }
   },
   "outputs": [],
   "source": [
    "/* 1 */ var allPeople = db.People.ToList();\n",
    "/* 2 */ var activePeople = allPeople.Where(p => p.IsActive == true);\n",
    "/* 3 */ foreach (var person in activePeople)\n",
    "/* 4 */     Console.WriteLine($\"{person.Id} : {person.Name}\");"
   ]
  },
  {
   "cell_type": "code",
   "execution_count": null,
   "metadata": {
    "dotnet_interactive": {
     "language": "csharp"
    },
    "polyglot_notebook": {
     "kernelName": "csharp"
    },
    "vscode": {
     "languageId": "polyglot-notebook"
    }
   },
   "outputs": [],
   "source": [
    "var allPeople = db.People.ToList();\n",
    "var activePeople = allPeople.Where(p => p.IsActive == true);\n",
    "foreach (var person in activePeople)\n",
    "    Console.WriteLine($\"{person.Id} : {person.Name}\");"
   ]
  },
  {
   "cell_type": "markdown",
   "metadata": {},
   "source": [
    "## Question 4"
   ]
  },
  {
   "cell_type": "code",
   "execution_count": null,
   "metadata": {
    "dotnet_interactive": {
     "language": "csharp"
    },
    "polyglot_notebook": {
     "kernelName": "csharp"
    },
    "vscode": {
     "languageId": "polyglot-notebook"
    }
   },
   "outputs": [],
   "source": [
    "string[] data = { \"1.2\", \"2\", \"3.5\" };\n",
    "var list = new List<float>();\n",
    "\n",
    "// populate list; parsing strings from data array; it should only include 1.2 and 3.5; we dont want ints\n",
    "// hint; most data types have static methods; Parse and TryParse\n",
    "\n",
    "list.ToArray()"
   ]
  },
  {
   "cell_type": "markdown",
   "metadata": {},
   "source": [
    "## Question 5"
   ]
  },
  {
   "cell_type": "markdown",
   "metadata": {},
   "source": [
    "- Why Duck class is giving error even though we have Eat() implementation?\n",
    "- Why Fly() method is not working through duck instance even though Duck class implements IBird and we do have a Fly() implementation"
   ]
  },
  {
   "cell_type": "code",
   "execution_count": null,
   "metadata": {
    "dotnet_interactive": {
     "language": "csharp"
    },
    "polyglot_notebook": {
     "kernelName": "csharp"
    },
    "vscode": {
     "languageId": "polyglot-notebook"
    }
   },
   "outputs": [],
   "source": [
    "interface IBird { void Fly(); }\n",
    "abstract class Animal { public abstract void Eat(); }\n",
    "\n",
    "class Duck : Animal, IBird\n",
    "{\n",
    "    public void Eat() => Console.WriteLine(\"eating...\");\n",
    "\n",
    "    void IBird.Fly() => Console.WriteLine(\"flying...\");\n",
    "}\n",
    "\n",
    "var duck = new Duck();\n",
    "duck.Fly();"
   ]
  }
 ],
 "metadata": {
  "kernelspec": {
   "display_name": ".NET (C#)",
   "language": "C#",
   "name": ".net-csharp"
  },
  "language_info": {
   "name": "python",
   "version": "3.11.4"
  },
  "polyglot_notebook": {
   "kernelInfo": {
    "defaultKernelName": "csharp",
    "items": [
     {
      "aliases": [],
      "languageName": "csharp",
      "name": "csharp"
     }
    ]
   }
  }
 },
 "nbformat": 4,
 "nbformat_minor": 2
}
