{
 "cells": [
  {
   "cell_type": "markdown",
   "metadata": {},
   "source": [
    "# Workload of the day"
   ]
  },
  {
   "cell_type": "markdown",
   "metadata": {},
   "source": [
    "<img src=images/maui-workload.png>\n",
    "\n",
    "<img src=images/maui-projects.png>"
   ]
  },
  {
   "cell_type": "markdown",
   "metadata": {},
   "source": [
    "## Xamarin before acquisition"
   ]
  },
  {
   "cell_type": "markdown",
   "metadata": {},
   "source": [
    "- https://www.mono-project.com\n",
    "- https://github.com/mono\n",
    "- https://en.wikipedia.org/wiki/Mono_%28software%29\n",
    "- https://tirania.org/blog/archive/2011/May-16.html"
   ]
  },
  {
   "cell_type": "markdown",
   "metadata": {},
   "source": [
    "## Xamarin after acquisition"
   ]
  },
  {
   "cell_type": "markdown",
   "metadata": {},
   "source": [
    "<img src=images/xamarin-forms.png width=800>\n",
    "\n",
    "<img src=images/dotnet5_platform.png width=800>\n",
    "- https://devblogs.microsoft.com/dotnet/introducing-net-5"
   ]
  },
  {
   "cell_type": "markdown",
   "metadata": {},
   "source": [
    "## .NET MAUI"
   ]
  },
  {
   "cell_type": "markdown",
   "metadata": {},
   "source": [
    "Multiplatform App UI\n",
    "- https://dotnet.microsoft.com/en-us/apps/maui\n",
    "- https://github.com/dotnet/maui\n",
    "\n",
    "<img src=images/maui-weather.png width=900>"
   ]
  },
  {
   "cell_type": "markdown",
   "metadata": {},
   "source": [
    "__Resources__\n",
    "\n",
    "__Github__\n",
    "- https://github.com/dotnet/maui-samples\n",
    "- https://github.com/jsuarezruiz/dotnet-maui-showcase\n",
    "- https://github.com/jsuarezruiz/awesome-dotnet-maui\n",
    "\n",
    "__Youtube__\n",
    "- https://www.youtube.com/@dotnet\n",
    "    - Xamarin for Beginners; https://www.youtube.com/watch?v=JH8ekYJrFHs&list=PLdo4fOcmZ0oU10SXt2W58pu2L0v2dOW-1\n",
    "    - .NET MAUI for Beginners; https://www.youtube.com/watch?v=Hh279ES_FNQ&list=PLdo4fOcmZ0oUBAdL2NwBpDs32zwGqb9DY\n",
    "\n"
   ]
  },
  {
   "cell_type": "markdown",
   "metadata": {},
   "source": [
    "# Threading 101"
   ]
  },
  {
   "cell_type": "code",
   "execution_count": null,
   "metadata": {
    "dotnet_interactive": {
     "language": "javascript"
    },
    "polyglot_notebook": {
     "kernelName": "javascript"
    }
   },
   "outputs": [],
   "source": [
    "// Java\n",
    "Runnable r = new Runnable() {\n",
    "    @Override\n",
    "    public void run() {\n",
    "        // do something\n",
    "    }\n",
    "};\n",
    "\n",
    "Thread t = new Thread(r);\n",
    "t.start();\n",
    "// do something else\n",
    "t.join();"
   ]
  },
  {
   "cell_type": "code",
   "execution_count": null,
   "metadata": {
    "dotnet_interactive": {
     "language": "javascript"
    },
    "polyglot_notebook": {
     "kernelName": "javascript"
    }
   },
   "outputs": [],
   "source": [
    "// Java\n",
    "Thread t = new Thread(new Runnable() {\n",
    "    public void run() {\n",
    "        // do something\n",
    "    }\n",
    "});\n",
    "t.start();\n",
    "// do something else\n",
    "t.join();"
   ]
  },
  {
   "cell_type": "code",
   "execution_count": null,
   "metadata": {
    "dotnet_interactive": {
     "language": "csharp"
    },
    "polyglot_notebook": {
     "kernelName": "csharp"
    }
   },
   "outputs": [],
   "source": [
    "using System.Threading;\n",
    "\n",
    "var thread = new Thread(new ThreadStart(() =>\n",
    "{\n",
    "    // do something\n",
    "}));\n",
    "\n",
    "thread.Start();\n",
    "// do something else\n",
    "thread.Join();"
   ]
  },
  {
   "cell_type": "code",
   "execution_count": null,
   "metadata": {
    "dotnet_interactive": {
     "language": "csharp"
    },
    "polyglot_notebook": {
     "kernelName": "csharp"
    }
   },
   "outputs": [],
   "source": [
    "using System.Threading;\n",
    "\n",
    "var thread = new Thread(() =>       // this is ThreadStart with inference\n",
    "{\n",
    "    // do something\n",
    "});\n",
    "\n",
    "thread.Start();\n",
    "// do something else\n",
    "thread.Join();"
   ]
  },
  {
   "cell_type": "markdown",
   "metadata": {},
   "source": [
    "- https://docs.oracle.com/javase/8/docs/api/java/lang/Runnable.html\n",
    "- https://learn.microsoft.com/en-us/dotnet/api/system.threading.threadstart\n",
    "    - ThreadStart is a delegate; even if we have similar looking signature; type of delegates were different\n",
    "    - Having Action<..> and Func<..> simplfied things; but needed newer APIs"
   ]
  },
  {
   "cell_type": "code",
   "execution_count": null,
   "metadata": {
    "dotnet_interactive": {
     "language": "csharp"
    },
    "polyglot_notebook": {
     "kernelName": "csharp"
    }
   },
   "outputs": [],
   "source": [
    "using System.Threading.Tasks;   // Tasks based; i think 4.5 / Windows 8 time frame\n",
    "\n",
    "var task1 = Task.Factory.StartNew(() =>\n",
    "{\n",
    "    // do something\n",
    "});\n",
    "//task1.Wait();\n",
    "\n",
    "var task2 = Task.Run(() =>\n",
    "{\n",
    "    // do something\n",
    "});\n",
    "//task2.Wait();\n",
    "\n",
    "Task.WaitAll(task1, task2);"
   ]
  },
  {
   "cell_type": "markdown",
   "metadata": {},
   "source": [
    "## Example"
   ]
  },
  {
   "cell_type": "code",
   "execution_count": null,
   "metadata": {
    "dotnet_interactive": {
     "language": "csharp"
    },
    "polyglot_notebook": {
     "kernelName": "csharp"
    }
   },
   "outputs": [],
   "source": [
    "using System.Diagnostics;\n",
    "using System.IO;\n",
    "using System.Threading;\n",
    "using System.Threading.Tasks;\n",
    "\n",
    "void scanFolder(string folder, bool inParallel)\n",
    "{\n",
    "    long totalSize = 0;\n",
    "    var stopWatch = new Stopwatch();\n",
    "    stopWatch.Start();\n",
    "\n",
    "    string[] files = Directory.GetFiles(folder);\n",
    "\n",
    "    if (!inParallel)\n",
    "    {\n",
    "        foreach(var f in files)\n",
    "        {\n",
    "            var fi = new FileInfo(f);\n",
    "            totalSize += fi.Length;\n",
    "        }\n",
    "    }\n",
    "    else\n",
    "    {\n",
    "        Parallel.For(0, files.Length, index =>\n",
    "        {\n",
    "            var fi = new FileInfo(files[index]);\n",
    "            long size = fi.Length;\n",
    "            Interlocked.Add(ref totalSize, size);\n",
    "        });\n",
    "    }\n",
    "\n",
    "    stopWatch.Stop();\n",
    "\n",
    "    Console.WriteLine($\"{files.Length:N0} files, {totalSize:N0} bytes, took {stopWatch.Elapsed}\");\n",
    "}\n",
    "\n",
    "scanFolder(@\"C:\\Windows\\System32\", inParallel: false);\n",
    "scanFolder(@\"C:\\Windows\\System32\", inParallel: true);"
   ]
  },
  {
   "cell_type": "markdown",
   "metadata": {},
   "source": [
    "__Further Readings__\n",
    "- https://learn.microsoft.com/en-us/dotnet/standard/threading/managed-threading-basics"
   ]
  },
  {
   "cell_type": "markdown",
   "metadata": {},
   "source": [
    "## C# Wish: Java Inline Implementation"
   ]
  },
  {
   "cell_type": "code",
   "execution_count": null,
   "metadata": {
    "dotnet_interactive": {
     "language": "csharp"
    },
    "polyglot_notebook": {
     "kernelName": "csharp"
    }
   },
   "outputs": [],
   "source": [
    "// Duck Typing\n",
    "interface IBird\n",
    "{\n",
    "    void MakeSound();\n",
    "    void Fly();\n",
    "}\n",
    "\n",
    "var duck = new  // someway to tell that this shape implemented iBird\n",
    "                // may be like IBird duck = new { }\n",
    "{\n",
    "    MakeSound = new Action(() => { Console.WriteLine(\"Making sound...\"); }),\n",
    "    Fly = new Action(() => {})\n",
    "};\n",
    "\n",
    "duck.MakeSound();\n",
    "\n",
    "void use(dynamic duck)\n",
    "{\n",
    "    duck.themethodthatdoestexist(); //compiler will not help; if we mistype; we can have runtime errors like Python and other dynamic languages\n",
    "}"
   ]
  },
  {
   "cell_type": "markdown",
   "metadata": {},
   "source": [
    "# Volatile"
   ]
  },
  {
   "cell_type": "markdown",
   "metadata": {},
   "source": [
    "- https://learn.microsoft.com/en-us/dotnet/csharp/language-reference/keywords/volatile\n",
    "    - a field might be modified by multiple threads that are executing at the same time\n",
    "    - The compiler, the runtime system, and even hardware may rearrange reads and writes to memory locations for performance reasons\n",
    "- https://ericlippert.com/2011/06/16/atomicity-volatility-and-immutability-are-different-part-three\n",
    "    - make sure that the compiler and the jitter do not perform any code reordering or register caching optimizations on this variable\n",
    "    - tell the processors to do whatever it is they need to do to ensure that I am reading the latest value, even if that means halting other processors and making them synchronize main memory with their caches\n",
    "    - its a lie\n",
    "    - they provide weaker guarantees about how memory accesses before and after reads and writes may be observed to be ordered with respect to each other"
   ]
  },
  {
   "cell_type": "code",
   "execution_count": null,
   "metadata": {
    "dotnet_interactive": {
     "language": "csharp"
    },
    "polyglot_notebook": {
     "kernelName": "csharp"
    }
   },
   "outputs": [],
   "source": [
    "class VolatileTest\n",
    "{\n",
    "    static volatile int sharedStorage;\n",
    "\n",
    "    public void Test(int i)\n",
    "    {\n",
    "        sharedStorage = i;\n",
    "    }\n",
    "}\n",
    "\n",
    "var vt1 = new VolatileTest();\n",
    "var vt2 = new VolatileTest();\n",
    "vt1.Test(1);    //what if they are in seperate threads\n",
    "vt2.Test(5);    //is volatile enough or should we do something more"
   ]
  },
  {
   "cell_type": "markdown",
   "metadata": {},
   "source": [
    "## Juriba Example"
   ]
  },
  {
   "cell_type": "code",
   "execution_count": null,
   "metadata": {
    "dotnet_interactive": {
     "language": "csharp"
    },
    "polyglot_notebook": {
     "kernelName": "csharp"
    }
   },
   "outputs": [],
   "source": [
    "using System.Collections.Concurrent;\n",
    "\n",
    "var flags = new ConcurrentDictionary<string, bool>();\n",
    "\n",
    "bool setFlag(string key) => flags.TryAdd(key, true); // from concurrent dictionary; if we succeed we get true\n",
    "// indirectly one thread who will be able to add flag will get to know about it"
   ]
  },
  {
   "cell_type": "code",
   "execution_count": null,
   "metadata": {
    "dotnet_interactive": {
     "language": "csharp"
    },
    "polyglot_notebook": {
     "kernelName": "csharp"
    }
   },
   "outputs": [],
   "source": [
    "if (setFlag(\"Connection_Successful\"))\n",
    "    Console.WriteLine(\"Connection is successfully established.\"); // we dont want to log too much; just once\n",
    "\n",
    "string vmName = \"AzureVM11\";\n",
    "string flagKey = $\"Machine.InternalDnsName:{vmName}\";\n",
    "if (setFlag(flagKey))\n",
    "    Console.WriteLine($\"Failing to determine DNS name of {vmName}\");"
   ]
  },
  {
   "cell_type": "markdown",
   "metadata": {},
   "source": [
    "# Singleton 1️⃣"
   ]
  },
  {
   "cell_type": "markdown",
   "metadata": {},
   "source": [
    "<img src=images/singleton-meme.jpg>\n",
    "\n",
    "We dont need to think about it that much due to Dependency Injection etc; but lets see what it takes"
   ]
  },
  {
   "cell_type": "code",
   "execution_count": null,
   "metadata": {
    "dotnet_interactive": {
     "language": "csharp"
    },
    "polyglot_notebook": {
     "kernelName": "csharp"
    }
   },
   "outputs": [],
   "source": [
    "using System.Threading;\n",
    "\n",
    "class Singleton\n",
    "{\n",
    "    static readonly object lockObject = new object();\n",
    "    static volatile Singleton instance; //volatile importance\n",
    "\n",
    "    Singleton() //why it private\n",
    "    {\n",
    "    }\n",
    "\n",
    "    public static Singleton Instance\n",
    "    {\n",
    "        get\n",
    "        {\n",
    "            if (instance == null)\n",
    "            {\n",
    "                lock (lockObject)\n",
    "                {\n",
    "                    if (instance == null) // why double null check\n",
    "                        instance = new Singleton();\n",
    "                }\n",
    "            }\n",
    "            return instance;\n",
    "        }\n",
    "    }\n",
    "}"
   ]
  },
  {
   "cell_type": "markdown",
   "metadata": {},
   "source": [
    "## Singleton with Database"
   ]
  },
  {
   "cell_type": "code",
   "execution_count": null,
   "metadata": {
    "dotnet_interactive": {
     "language": "csharp"
    },
    "polyglot_notebook": {
     "kernelName": "csharp"
    }
   },
   "outputs": [],
   "source": [
    "#r \"nuget: Microsoft.EntityFrameworkCore.SqlServer, 8.0.2\""
   ]
  },
  {
   "cell_type": "code",
   "execution_count": null,
   "metadata": {
    "dotnet_interactive": {
     "language": "csharp"
    },
    "polyglot_notebook": {
     "kernelName": "csharp"
    }
   },
   "outputs": [],
   "source": [
    "using Microsoft.EntityFrameworkCore;\n",
    "\n",
    "class Reading\n",
    "{\n",
    "    public int DataId { get; set; }\n",
    "\n",
    "    public int Number1 { get; set; }\n",
    "    public int Number2 { get; set; }\n",
    "    public int Number3 { get; set; }\n",
    "    public int Number4 { get; set; }\n",
    "    public int Number5 { get; set; }\n",
    "\n",
    "    public double WideNumber1 { get; set; }\n",
    "    public double WideNumber2 { get; set; }\n",
    "    public double WideNumber3 { get; set; }\n",
    "    public double WideNumber4 { get; set; }\n",
    "    public double WideNumber5 { get; set; }\n",
    "\n",
    "    public string String1 { get; set; }\n",
    "    public string String2 { get; set; }\n",
    "    public string String3 { get; set; }\n",
    "    public string String4 { get; set; }\n",
    "    public string String5 { get; set; }\n",
    "}\n",
    "\n",
    "class JiraDbContext : DbContext\n",
    "{\n",
    "    public DbSet<Reading> Readings { get; set; }\n",
    "\n",
    "    protected override void OnConfiguring(DbContextOptionsBuilder optionsBuilder)\n",
    "    {\n",
    "        var connectionString = \"Server=.;Database=JiraDb;Trusted_Connection=True;TrustServerCertificate=True;\";\n",
    "        optionsBuilder.UseSqlServer(connectionString);\n",
    "    }\n",
    "\n",
    "    protected override void OnModelCreating(ModelBuilder modelBuilder)\n",
    "    {\n",
    "        //base.OnModelCreating(modelBuilder);\n",
    "        modelBuilder.Entity<Reading>(entity =>\n",
    "        {\n",
    "            entity.HasKey(e => e.DataId);\n",
    "            entity.HasIndex(e => e.DataId).IsUnique();\n",
    "        });\n",
    "    }\n",
    "}"
   ]
  },
  {
   "cell_type": "code",
   "execution_count": null,
   "metadata": {
    "dotnet_interactive": {
     "language": "csharp"
    },
    "polyglot_notebook": {
     "kernelName": "csharp"
    }
   },
   "outputs": [],
   "source": [
    "// this cell can take some time; due to lot of random numbers\n",
    "// may be we can generate them all before hand using Parallel loop and store them in some stack consume them\n",
    "\n",
    "var random = new Random(Guid.NewGuid().GetHashCode());\n",
    "\n",
    "using(var db = new JiraDbContext())\n",
    "{\n",
    "    db.Database.EnsureCreated();\n",
    "\n",
    "    for(int i = 1; i <= 25000; i ++) //lets generate some random data\n",
    "    {\n",
    "        db.Readings.Add(new Reading()\n",
    "        {\n",
    "            Number1 = random.Next(), Number2 = random.Next(), Number3 = random.Next(),\n",
    "            Number4 = random.Next(), Number5 = random.Next(),\n",
    "\n",
    "            WideNumber1 = random.Next() * random.Next(),\n",
    "            WideNumber2 = random.Next() * random.Next(),\n",
    "            WideNumber3 = random.Next() * random.Next(),\n",
    "            WideNumber4 = random.Next() * random.Next(),\n",
    "            WideNumber5 = random.Next() * random.Next(),\n",
    "\n",
    "            String1 = random.Next().GetHashCode().ToString(),\n",
    "            String2 = random.Next().GetHashCode().ToString(),\n",
    "            String3 = random.Next().GetHashCode().ToString(),\n",
    "            String4 = random.Next().GetHashCode().ToString(),\n",
    "            String5 = random.Next().GetHashCode().ToString()\n",
    "        });\n",
    "        db.SaveChanges();\n",
    "    }\n",
    "}"
   ]
  },
  {
   "cell_type": "code",
   "execution_count": null,
   "metadata": {
    "dotnet_interactive": {
     "language": "csharp"
    },
    "polyglot_notebook": {
     "kernelName": "csharp"
    }
   },
   "outputs": [],
   "source": [
    "using System.Threading;\n",
    "\n",
    "class Singleton\n",
    "{\n",
    "    static readonly object lockObject = new object();\n",
    "    static volatile Singleton instance;\n",
    "\n",
    "    Reading[] data = null;\n",
    "\n",
    "    void print(string s)\n",
    "    {\n",
    "        Console.WriteLine($\"{DateTime.Now} {s}\");\n",
    "    }\n",
    "\n",
    "    Singleton() \n",
    "    {\n",
    "        print(\"ctor started\");\n",
    "        using(var db = new JiraDbContext())\n",
    "        {\n",
    "            var q = from d in db.Readings\n",
    "                    select d;\n",
    "            data = q.ToArray();\n",
    "        }\n",
    "        print(\"ctor finished\");\n",
    "    }\n",
    "\n",
    "    public Reading[] Data => data;\n",
    "\n",
    "    public static Singleton Instance\n",
    "    {\n",
    "        get\n",
    "        {\n",
    "            if (instance == null)\n",
    "            {\n",
    "                lock (lockObject)\n",
    "                {\n",
    "                    if (instance == null)\n",
    "                    {\n",
    "                        instance = new Singleton();\n",
    "                    }\n",
    "                }\n",
    "            }\n",
    "            return instance;\n",
    "        }\n",
    "    }\n",
    "}"
   ]
  },
  {
   "cell_type": "code",
   "execution_count": null,
   "metadata": {
    "dotnet_interactive": {
     "language": "csharp"
    },
    "polyglot_notebook": {
     "kernelName": "csharp"
    }
   },
   "outputs": [],
   "source": [
    "using System.Linq;\n",
    "\n",
    "void firstRandomRow()\n",
    "{\n",
    "    var randomRow = Singleton.Instance.Data.OrderBy(d => Guid.NewGuid()).FirstOrDefault();\n",
    "    if (null != randomRow)\n",
    "        Console.WriteLine($\"{DateTime.Now} [{Thread.CurrentThread.ManagedThreadId}] {randomRow.DataId} is selected\");\n",
    "}\n",
    "\n",
    "var tasks = new []\n",
    "{\n",
    "    new Task(firstRandomRow),\n",
    "    new Task(firstRandomRow),\n",
    "    new Task(firstRandomRow),\n",
    "    new Task(firstRandomRow),\n",
    "    new Task(firstRandomRow)\n",
    "};\n",
    "\n",
    "Parallel.ForEach(tasks, task =>\n",
    "{\n",
    "    task.Start();\n",
    "});\n",
    "\n",
    "await Task.WhenAll(tasks).ContinueWith(done =>\n",
    "{\n",
    "    Console.WriteLine($\"{DateTime.Now} Completed...\");\n",
    "});"
   ]
  },
  {
   "cell_type": "markdown",
   "metadata": {},
   "source": [
    "## Simple Singleton"
   ]
  },
  {
   "cell_type": "code",
   "execution_count": null,
   "metadata": {
    "dotnet_interactive": {
     "language": "csharp"
    },
    "polyglot_notebook": {
     "kernelName": "csharp"
    }
   },
   "outputs": [],
   "source": [
    "class Singleton\n",
    "{\n",
    "    static Singleton singleton = new();\n",
    "\n",
    "    Singleton()\n",
    "    {\n",
    "        // your initialization logic\n",
    "    }\n",
    "\n",
    "    public static Singleton Instance { get => singleton; }\n",
    "}\n",
    "\n",
    "//people on internet say its not thread safe; lets try"
   ]
  },
  {
   "cell_type": "code",
   "execution_count": null,
   "metadata": {
    "dotnet_interactive": {
     "language": "csharp"
    },
    "polyglot_notebook": {
     "kernelName": "csharp"
    }
   },
   "outputs": [],
   "source": [
    "using System.Threading;\n",
    "\n",
    "class Singleton\n",
    "{\n",
    "    static Singleton singleton = new();\n",
    "\n",
    "    Singleton()\n",
    "    {\n",
    "        Console.WriteLine($\"ctor started in {Thread.CurrentThread.ManagedThreadId}\");\n",
    "        Thread.Sleep(5000);\n",
    "        Console.WriteLine($\"ctor finished in {Thread.CurrentThread.ManagedThreadId}\");\n",
    "    }\n",
    "\n",
    "    public static Singleton Instance { get => singleton; }\n",
    "\n",
    "    public override string ToString() => \"Singleton\";\n",
    "}\n",
    "\n",
    "\n",
    "Console.WriteLine(\"Setting things up\");\n",
    "\n",
    "var inline = new ThreadStart(() =>\n",
    "{\n",
    "    Console.WriteLine($\"Action is running in {Thread.CurrentThread.ManagedThreadId}\");\n",
    "    Console.WriteLine(Singleton.Instance);\n",
    "});\n",
    "\n",
    "var t1 = new Thread(inline);\n",
    "var t2 = new Thread(inline);\n",
    "\n",
    "t1.Start();\n",
    "t2.Start();\n",
    "\n",
    "Thread.Sleep(2000);\n",
    "Console.WriteLine(\"Joining threads\");\n",
    "t1.Join();\n",
    "t2.Join();\n",
    "\n",
    "Console.WriteLine(\"Done...\");"
   ]
  },
  {
   "cell_type": "markdown",
   "metadata": {},
   "source": [
    "__Further Readings__\n",
    "\n",
    "For the whole list\n",
    "- https://refactoring.guru/design-patterns/singleton/csharp/example\n",
    "\n",
    "Last year we had Design Pattern sessions; material is available @ https://github.com/khurram-uworx/design-patterns"
   ]
  }
 ],
 "metadata": {
  "kernelspec": {
   "display_name": ".NET (C#)",
   "language": "C#",
   "name": ".net-csharp"
  },
  "language_info": {
   "name": "polyglot-notebook"
  },
  "polyglot_notebook": {
   "kernelInfo": {
    "defaultKernelName": "csharp",
    "items": [
     {
      "aliases": [],
      "languageName": "csharp",
      "name": "csharp"
     }
    ]
   }
  }
 },
 "nbformat": 4,
 "nbformat_minor": 2
}
