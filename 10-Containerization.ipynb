{
 "cells": [
  {
   "cell_type": "markdown",
   "metadata": {},
   "source": [
    "# PowerShell"
   ]
  },
  {
   "cell_type": "code",
   "execution_count": null,
   "metadata": {
    "dotnet_interactive": {
     "language": "pwsh"
    },
    "polyglot_notebook": {
     "kernelName": "pwsh"
    },
    "vscode": {
     "languageId": "polyglot-notebook"
    }
   },
   "outputs": [],
   "source": [
    "New-Item C:\\app -ItemType Directory\n",
    "New-Item C:\\app\\1.txt\n",
    "New-Item C:\\app\\2.txt\n",
    "New-Item C:\\app\\3.txt"
   ]
  },
  {
   "cell_type": "code",
   "execution_count": null,
   "metadata": {
    "dotnet_interactive": {
     "language": "pwsh"
    },
    "polyglot_notebook": {
     "kernelName": "pwsh"
    },
    "vscode": {
     "languageId": "polyglot-notebook"
    }
   },
   "outputs": [],
   "source": [
    "$path1 = Join-Path $pwd \"large1.dat\"\n",
    "$path2 = Join-Path $pwd \"large2.dat\"\n",
    "$path3 = Join-Path $pwd \"large3.dat\"\n",
    "\n",
    "$size = 1.9GB\n",
    "$content = New-Object byte[] $size\n",
    "\n",
    "(New-Object System.Random).NextBytes($content)\n",
    "[System.IO.File]::WriteAllBytes($path1, $content)\n",
    "\n",
    "(New-Object System.Random).NextBytes($content)\n",
    "[System.IO.File]::WriteAllBytes($path2, $content)\n",
    "\n",
    "(New-Object System.Random).NextBytes($content)\n",
    "[System.IO.File]::WriteAllBytes($path3, $content)"
   ]
  },
  {
   "cell_type": "code",
   "execution_count": null,
   "metadata": {
    "dotnet_interactive": {
     "language": "pwsh"
    },
    "polyglot_notebook": {
     "kernelName": "pwsh"
    },
    "vscode": {
     "languageId": "polyglot-notebook"
    }
   },
   "outputs": [],
   "source": [
    "New-Item C:\\app -ItemType Directory\n",
    "New-Item C:\\app\\1.txt\n",
    "New-Item C:\\app\\2.txt\n",
    "New-Item C:\\app\\3.txt\n",
    "\n",
    "$open = [System.IO.FileMode]::Open\n",
    "$access = [System.IO.FileAccess]::Read\n",
    "$share = [System.IO.FileShare]::None\n",
    "$f = [System.IO.File]::Open(\"C:\\app\\1.txt\", $open, $access, $share)"
   ]
  },
  {
   "cell_type": "markdown",
   "metadata": {},
   "source": [
    "- https://github.com/microsoft/winget-cli"
   ]
  },
  {
   "cell_type": "markdown",
   "metadata": {},
   "source": [
    "# .NET: Open Source, Linux and Containers Journey"
   ]
  },
  {
   "cell_type": "markdown",
   "metadata": {},
   "source": [
    "- https://techcommunity.microsoft.com/t5/educator-developer-blog/the-history-of-microsoft-azure/ba-p/3574204\n",
    "- https://weblogs.asp.net/scottgu/asp-net-mvc-web-api-razor-and-open-source (2012)\n",
    "- https://dotnetfoundation.org/projects/current-projects\n",
    "- https://www.mono-project.com\n",
    "- https://cloudblogs.microsoft.com/windowsserver/2015/05/06/microsoft-loves-linux (2015)\n",
    "- https://weblogs.asp.net/scottgu/welcoming-the-xamarin-team-to-microsoft\n",
    "- https://devblogs.microsoft.com/dotnet/announcing-net-core-1-0 (2016)\n",
    "- https://learn.microsoft.com/en-us/sql/linux/quickstart-install-connect-docker?view=sql-server-ver16&pivots=cs1-bash"
   ]
  },
  {
   "cell_type": "markdown",
   "metadata": {},
   "source": [
    "# Visual Studio"
   ]
  },
  {
   "cell_type": "markdown",
   "metadata": {},
   "source": [
    "- Projects & Solutions\n",
    "- Text Editor; IntelliSense; API/Comments\n",
    "- Object Browser\n",
    "- Windows: Class View, Test Explorer\n",
    "- Debugger\n",
    "- Git in Visual Studio\n",
    "\n",
    "https://www.youtube.com/watch?v=lGovrXGSFWc\n",
    "\n",
    "- Workloads"
   ]
  },
  {
   "cell_type": "markdown",
   "metadata": {},
   "source": [
    "# Logging\n",
    "- https://learn.microsoft.com/en-us/dotnet/core/extensions/logging\n",
    "- https://learn.microsoft.com/en-us/aspnet/core/fundamentals/logging\n",
    "- https://learn.microsoft.com/en-us/dotnet/core/diagnostics/observability-with-otel"
   ]
  },
  {
   "cell_type": "code",
   "execution_count": 1,
   "metadata": {
    "dotnet_interactive": {
     "language": "csharp"
    },
    "polyglot_notebook": {
     "kernelName": "csharp"
    },
    "vscode": {
     "languageId": "polyglot-notebook"
    }
   },
   "outputs": [
    {
     "data": {
      "text/html": [
       "<div><div></div><div></div><div><strong>Installed Packages</strong><ul><li><span>Microsoft.Extensions.Logging.Console, 8.0.0</span></li></ul></div></div>"
      ]
     },
     "metadata": {},
     "output_type": "display_data"
    }
   ],
   "source": [
    "//#r \"nuget: Microsoft.Extensions.Logging, 8.0.0\"\n",
    "#r \"nuget: Microsoft.Extensions.Logging.Console, 8.0.0\""
   ]
  },
  {
   "cell_type": "code",
   "execution_count": 2,
   "metadata": {
    "dotnet_interactive": {
     "language": "csharp"
    },
    "polyglot_notebook": {
     "kernelName": "csharp"
    },
    "vscode": {
     "languageId": "polyglot-notebook"
    }
   },
   "outputs": [
    {
     "name": "stdout",
     "output_type": "stream",
     "text": [
      "info: Program[0]\r\n",
      "      Hello World! Logging is fun.\r\n"
     ]
    }
   ],
   "source": [
    "using Microsoft.Extensions.Logging;\n",
    "\n",
    "using (ILoggerFactory factory = LoggerFactory.Create(builder => builder.AddConsole()))\n",
    "{\n",
    "    ILogger logger = factory.CreateLogger(\"Program\");\n",
    "    logger.LogInformation(\"Hello World! Logging is {Description}.\", \"fun\");     // Structured Logging\n",
    "}"
   ]
  },
  {
   "cell_type": "markdown",
   "metadata": {},
   "source": [
    "# Containerizing ASP.NET MVC App"
   ]
  },
  {
   "cell_type": "markdown",
   "metadata": {},
   "source": [
    "- https://hub.docker.com/_/postgres\n",
    "    - docker run -e POSTGRES_PASSWORD=uworx -d -p 5432:5432 postgres\n",
    "- Azure Data Studio; https://azure.microsoft.com/en-us/products/data-studio\n",
    "    - You can use it to connect to SQL, PostgreSQL, mySQL\n",
    "    - Query or create Notebooks\n",
    "    - https://www.youtube.com/watch?v=o7S8s9-5C4k"
   ]
  },
  {
   "cell_type": "code",
   "execution_count": null,
   "metadata": {
    "dotnet_interactive": {
     "language": "csharp"
    },
    "polyglot_notebook": {
     "kernelName": "csharp"
    },
    "vscode": {
     "languageId": "polyglot-notebook"
    }
   },
   "outputs": [],
   "source": [
    "//dotnet add package Npgsql.EntityFrameworkCore.PostgreSQL\n",
    "//UseNpgsql\n",
    "//Connection String: Server=localhost;Database=postgres;UserName=postgres;Password=uworx;\n",
    "//\"PostgresConnectionString\": \"Server=postgres;Database=postgres;UserName=postgres;Password=password;\"\n",
    "//recreate migrations\n",
    "//controller generate apply migration\n",
    "\n",
    "//run iis-express version against PostgreSQL"
   ]
  },
  {
   "cell_type": "markdown",
   "metadata": {},
   "source": [
    "__Docker Tooling in Visual Studio__\n",
    "- Dockerfile in Project\n",
    "- Multi-stage builds https://docs.docker.com/build/building/multi-stage/\n",
    "- Orchestration\n",
    "- Option to run & debug using Container\n",
    "\n",
    "<img src=images/multi-stage-dockerfile.webp>\n",
    "\n",
    "- https://hub.docker.com/_/microsoft-dotnet-runtime\n",
    "- https://github.com/dotnet/dotnet-docker/blob/main/documentation/ubuntu-chiseled.md\n",
    "- https://docs.docker.com/compose"
   ]
  },
  {
   "cell_type": "code",
   "execution_count": null,
   "metadata": {
    "dotnet_interactive": {
     "language": "csharp"
    },
    "polyglot_notebook": {
     "kernelName": "csharp"
    },
    "vscode": {
     "languageId": "polyglot-notebook"
    }
   },
   "outputs": [],
   "source": [
    "//run docker version and notice it will fail\n",
    "  postgres:\n",
    "    container_name: postgres\n",
    "    image: postgres\n",
    "    environment:\n",
    "      POSTGRES_PASSWORD: uworx\n",
    "//Connection String: Server=postgres;Database=postgres;UserName=postgres;Password=uworx;"
   ]
  },
  {
   "cell_type": "code",
   "execution_count": null,
   "metadata": {
    "dotnet_interactive": {
     "language": "csharp"
    },
    "polyglot_notebook": {
     "kernelName": "csharp"
    },
    "vscode": {
     "languageId": "polyglot-notebook"
    }
   },
   "outputs": [],
   "source": [
    "volumes:\n",
    "- pgdata:/var/lib/postgresql/data\n",
    "\n",
    "volumes:\n",
    "- \"C:/Users/Joey/Desktop/backend:/var/www/html\""
   ]
  },
  {
   "cell_type": "markdown",
   "metadata": {},
   "source": [
    "- https://stackoverflow.com/questions/26598738/how-to-create-user-database-in-script-for-docker-postgres\n",
    "- https://docs.docker.com/engine/reference/commandline/volume_create\n",
    "- https://stackoverflow.com/questions/41637505/how-to-persist-data-in-a-dockerized-postgres-database-using-volumes"
   ]
  },
  {
   "cell_type": "code",
   "execution_count": null,
   "metadata": {
    "dotnet_interactive": {
     "language": "csharp"
    },
    "polyglot_notebook": {
     "kernelName": "csharp"
    },
    "vscode": {
     "languageId": "polyglot-notebook"
    }
   },
   "outputs": [],
   "source": []
  },
  {
   "cell_type": "code",
   "execution_count": null,
   "metadata": {
    "dotnet_interactive": {
     "language": "csharp"
    },
    "polyglot_notebook": {
     "kernelName": "csharp"
    },
    "vscode": {
     "languageId": "polyglot-notebook"
    }
   },
   "outputs": [],
   "source": []
  },
  {
   "cell_type": "markdown",
   "metadata": {},
   "source": [
    "- https://github.com/dotnet/extensions"
   ]
  },
  {
   "cell_type": "markdown",
   "metadata": {},
   "source": [
    "# The Philosphy"
   ]
  },
  {
   "cell_type": "markdown",
   "metadata": {},
   "source": [
    "__Unix Philosphy__\n",
    "- Make each program do one thing well. To do a new job, build afresh rather than complicate old programs by adding new \"features\"\n",
    "- Expect the output of every program to become the input to another, as yet unknown, program. Don't clutter output with extraneous information. Avoid stringently columnar or binary input formats. Don't insist on interactive input\n",
    "- Design and build software, even operating systems, to be tried early, ideally within weeks. Don't hesitate to throw away the clumsy parts and rebuild them\n",
    "- Use tools in preference to unskilled help to lighten a programming task, even if you have to detour to build the tools and expect to throw some of them out after you've finished using them\n",
    "\n",
    "__New Jersey Style: Worse is better__\n",
    "- Software quality does not necessarily increase with functionality: that there is a point where less functionality (\"worse\") is a preferable option (\"better\") in terms of practicality and usability. Software that is limited, but simple to use, may be more appealing to the user and market than the reverse\n",
    "\n",
    "__The MIT Approach / Stanford style of design__\n",
    "- Simplicity: The design must be simple, both in implementation and interface. It is more important for the interface to be simple than the implementation.\n",
    "- Correctness: The design must be correct in all observable aspects. Incorrectness is simply not allowed.\n",
    "- Consistency: The design must be consistent. A design is allowed to be slightly less simple and less complete to avoid inconsistency. Consistency is as important as correctness.\n",
    "- Completeness: The design must cover as many important situations as is practical. All reasonably expected cases must be covered. Simplicity is not allowed to overly reduce completeness."
   ]
  }
 ],
 "metadata": {
  "kernelspec": {
   "display_name": ".NET (C#)",
   "language": "C#",
   "name": ".net-csharp"
  },
  "language_info": {
   "name": "python",
   "version": "3.11.4"
  },
  "polyglot_notebook": {
   "kernelInfo": {
    "defaultKernelName": "csharp",
    "items": [
     {
      "aliases": [],
      "languageName": "csharp",
      "name": "csharp"
     }
    ]
   }
  }
 },
 "nbformat": 4,
 "nbformat_minor": 2
}
