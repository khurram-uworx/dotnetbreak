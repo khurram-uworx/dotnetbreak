{
 "cells": [
  {
   "cell_type": "markdown",
   "metadata": {},
   "source": [
    "# ASP.NET / Quick Introduction\n",
    "\n",
    "- https://learn.microsoft.com/en-us/aspnet/core/fundamentals/choose-aspnet-framework\n",
    "- https://learn.microsoft.com/en-us/aspnet/core"
   ]
  },
  {
   "cell_type": "markdown",
   "metadata": {},
   "source": [
    "<img src=\"images/mvc.png\" width=\"800\">\n",
    "\n",
    "## MVC\n",
    "\n",
    "- Model View Controller: Desktop Era\n",
    "- Routing; Ruby on Rails\n",
    "- Dependency Injection\n",
    "- Attribute based Routing\n",
    "- Views; ASP / PHP / JSP\n",
    "- Scaffolding; Ruby on Rails \n",
    "- Convention over Configuration; Ruby on Rails, MVC"
   ]
  },
  {
   "cell_type": "markdown",
   "metadata": {},
   "source": [
    "//start sql service\n",
    "\n",
    "//appsettings.json\n",
    "Server=.;Database=JiraDb;MultipleActiveResultSets=True;Trusted_Connection=True;TrustServerCertificate=True;\n",
    "\n",
    "//Models\n",
    "public class TeamMember\n",
    "{\n",
    "    public int TeamMemberId { get; set; }\n",
    "    public string FirstName { get; set; }\n",
    "    public string LastName { get; set; }\n",
    "    public string Email { get; set; }\n",
    "}\n",
    "\n",
    "\n",
    "//Index.cshtml\n",
    "<form asp-controller=\"Home\" asp-action=\"Generate\" method=\"post\">\n",
    "    <input type=\"submit\" value=\"Generate\" />\n",
    "</form>\n",
    "\n",
    "\n",
    "//Application DB Context\n",
    "public DbSet<TeamMember> TeamMembers { get; set; }\n",
    "\n",
    "//Developer Command Prompt\n",
    "dotnet install -g dotnet-ef\n",
    "dotnet ef migrations add TeamMembers\n",
    "\n",
    "\n",
    "//Controller\n",
    "private readonly ApplicationDbContext context;\n",
    "\n",
    "[HttpPost]\n",
    "public IActionResult Generate()\n",
    "{\n",
    "    this.context.Database.Migrate();\n",
    "    for(int i = 0; i < 100; i ++)\n",
    "    {\n",
    "        this.context.TeamMembers.Add(new TeamMember()\n",
    "        {\n",
    "            FirstName = Guid.NewGuid().ToString(),\n",
    "            LastName = Guid.NewGuid().ToString(),\n",
    "            Email = $\"{Guid.NewGuid()}@local.com\"\n",
    "        });\n",
    "    }\n",
    "    this.context.SaveChanges();\n",
    "    return this.Redirect(\"~/\");\n",
    "}"
   ]
  },
  {
   "cell_type": "code",
   "execution_count": null,
   "metadata": {
    "dotnet_interactive": {
     "language": "csharp"
    },
    "polyglot_notebook": {
     "kernelName": "csharp"
    }
   },
   "outputs": [],
   "source": [
    "//Create Data Controller to show data in \"table\"\n",
    "\n",
    "//this.ViewData[\"Collection\"] = collection.ToArray();\n",
    "//this.ViewBag.Collection = collection.ToArray();\n",
    "//return View(\"View\", collection.ToArray());\n",
    "\n",
    "//foreach\n",
    "\n",
    "// @page \n",
    "// @model Type\n",
    "\n",
    "<table id=\"collectionTable\" class=\"table\">\n",
    "    <thead>\n",
    "        <tr>\n",
    "            <th scope=\"col\">Header 1</th>\n",
    "            <th scope=\"col\">Header 2</th>\n",
    "            <th scope=\"col\">Header 3</th>\n",
    "        </tr>\n",
    "    </thead>\n",
    "    <tbody>\n",
    "        @* @foreach(Type entity in this.ViewBag.Collection)\n",
    "        {\n",
    "            <tr>\n",
    "                <td>@entity.ID</td>\n",
    "                <td>@entity.FirstName</td>\n",
    "                <td>@entity.LastName</td>\n",
    "            </tr>\n",
    "        } *@\n",
    "    </tbody>\n",
    "</table>"
   ]
  },
  {
   "cell_type": "markdown",
   "metadata": {},
   "source": [
    "__Further Readings__\n",
    "\n",
    "- https://learn.microsoft.com/en-us/aspnet/core/data/ef-mvc/intro\n",
    "    - Microsoft.AspNetCore.Diagnostics.EntityFrameworkCore\n",
    "    - Microsoft.EntityFrameworkCore.SqlServer\n",
    "    - dotnet install -g dotnet-ef\n",
    "    - dotnet ef migrations add SomeName\n",
    "- https://learn.microsoft.com/en-us/aspnet/core/data/ef-mvc/migrations\n",
    "- https://learn.microsoft.com/en-us/aspnet/core/mvc/views/working-with-forms\n",
    "- https://learn.microsoft.com/en-us/aspnet/core/web-api"
   ]
  }
 ],
 "metadata": {
  "kernelspec": {
   "display_name": ".NET (C#)",
   "language": "C#",
   "name": ".net-csharp"
  },
  "language_info": {
   "name": "polyglot-notebook"
  },
  "polyglot_notebook": {
   "kernelInfo": {
    "defaultKernelName": "csharp",
    "items": [
     {
      "aliases": [],
      "languageName": "csharp",
      "name": "csharp"
     }
    ]
   }
  }
 },
 "nbformat": 4,
 "nbformat_minor": 2
}
