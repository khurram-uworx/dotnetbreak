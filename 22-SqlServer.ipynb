{
 "cells": [
  {
   "cell_type": "markdown",
   "metadata": {},
   "source": [
    "# SQL Server"
   ]
  },
  {
   "cell_type": "markdown",
   "metadata": {},
   "source": [
    "## Overview 🪂"
   ]
  },
  {
   "cell_type": "markdown",
   "metadata": {},
   "source": [
    "__Services__\n",
    "\n",
    "- Browser Service\n",
    "- Database Service\n",
    "- Agent Service\n",
    "- Other Services\n",
    "    - Analysis Service\n",
    "    - Reporting Service\n",
    "    - Integration Service\n",
    "    - Full Text Search\n",
    "    - Replay\n",
    "\n",
    "__Network Configuration__\n",
    "\n",
    "- Server Network COnfiguration"
   ]
  },
  {
   "cell_type": "markdown",
   "metadata": {},
   "source": [
    "__Database Features__\n",
    "- Memory and Process Management\n",
    "- Database Files Management\n",
    "    - Data and Log Files\n",
    "    - Truncating Log Files\n",
    "- System Databases\n",
    "    - System Objects in Databases\n",
    "\n",
    "__Security__\n",
    "- Authentication Types\n",
    "- Server and Database Users"
   ]
  },
  {
   "cell_type": "markdown",
   "metadata": {},
   "source": [
    "## Database Features 🗄️"
   ]
  },
  {
   "cell_type": "markdown",
   "metadata": {},
   "source": [
    "### Relational Features"
   ]
  },
  {
   "cell_type": "markdown",
   "metadata": {},
   "source": [
    "__Database Building Blocks__\n",
    "- Schemas\n",
    "- Tables\n",
    "- Views\n",
    "- Stored Procedures\n",
    "- Functions\n",
    "- Triggers\n",
    "\n",
    "__Data Types__\n",
    "- int and bigint\n",
    "- char and ncahr\n",
    "- varchar and nvarchar\n",
    "- date and datetime\n",
    "- uniqueidentifier\n",
    "\n",
    "__Data__\n",
    "- null-ability\n",
    "- default values\n",
    "- identity\n",
    "\n",
    "__Indexing__\n",
    "- Primary Keys\n",
    "- Index Keys"
   ]
  },
  {
   "cell_type": "markdown",
   "metadata": {},
   "source": [
    "### Permissions and ACID"
   ]
  },
  {
   "cell_type": "markdown",
   "metadata": {},
   "source": [
    "__Permissions__\n",
    "- How permissions can be used for encapsulation\n",
    "\n",
    "__Transactions__"
   ]
  },
  {
   "cell_type": "markdown",
   "metadata": {},
   "source": [
    "### Beyond Relational Database"
   ]
  },
  {
   "cell_type": "markdown",
   "metadata": {},
   "source": [
    "- Blob\n",
    "    - Filestream, FileTable, Blog\n",
    "- XML\n",
    "    - https://learn.microsoft.com/en-us/sql/relational-databases/xml/xml-data-sql-server\n",
    "- Hierarchical\n",
    "    - https://learn.microsoft.com/en-us/sql/relational-databases/hierarchical-data-sql-server\n",
    "- Json\n",
    "    - https://learn.microsoft.com/en-us/sql/relational-databases/json/json-data-sql-server\n",
    "- Temporal\n",
    "    - https://learn.microsoft.com/en-us/sql/relational-databases/tables/temporal-tables\n",
    "    - Point in Time Values\n",
    "- Graphs\n",
    "    - https://learn.microsoft.com/en-us/sql/relational-databases/graphs/sql-graph-overview\n",
    "- Column Store (Evolving)\n",
    "    - https://learn.microsoft.com/en-us/sql/relational-databases/indexes/columnstore-indexes-overview\n",
    "- Time Series (Evolving)\n",
    "    - https://www.microsoft.com/en-us/sql-server/blog/2023/01/12/working-with-time-series-data-in-sql-server-2022-and-azure-sql\n",
    "- Service Broker\n",
    "    - Queueing in Database (Standard + Enterprise)\n",
    "    - https://learn.microsoft.com/en-us/sql/database-engine/configure-windows/sql-server-service-broker"
   ]
  },
  {
   "cell_type": "markdown",
   "metadata": {},
   "source": [
    "### Additional Features in Database Engine"
   ]
  },
  {
   "cell_type": "markdown",
   "metadata": {},
   "source": [
    "- External Tables\n",
    "- Linked Databases\n",
    "- CLR in Database\n",
    "- __ML Services__\n",
    "    - R\n",
    "    - Python\n",
    "        - k-means example\n",
    "    - Java"
   ]
  },
  {
   "cell_type": "markdown",
   "metadata": {},
   "source": [
    "## Accessing SQL Server 🛜"
   ]
  },
  {
   "cell_type": "markdown",
   "metadata": {},
   "source": [
    "### Drivers"
   ]
  },
  {
   "cell_type": "markdown",
   "metadata": {},
   "source": [
    "Official Drivers\n",
    "- ODBC\n",
    "- OLEDB\n",
    "- ADO.NET\n",
    "- Golang\n",
    "- Jdbc\n",
    "- Node.js\n",
    "- Php\n",
    "- Python\n",
    "- Ruby\n",
    "- Spark Connector"
   ]
  },
  {
   "cell_type": "markdown",
   "metadata": {},
   "source": [
    "### .NET Options"
   ]
  },
  {
   "cell_type": "markdown",
   "metadata": {},
   "source": [
    "- System.Data.SqlClient\n",
    "    - Out of box, We have OdbcClient, OleDbClient, OracleClient and SqlClient\n",
    "- Data Access Application Block (Practices & Patterns)\n",
    "    - The Enterprise Library\n",
    "    - Something custom on similar lines\n",
    "- LINQ to SQL\n",
    "- ORMs\n",
    "    - __Entity Framework__\n",
    "    - Dapper; https://github.com/DapperLib/Dapper\n",
    "    - Custom\n",
    "    - Others\n",
    "- __Microsoft.Data.SqlClient and why?__\n",
    "    - Why the heck there is https://www.nuget.org/packages/System.Data.SqlClient"
   ]
  },
  {
   "cell_type": "code",
   "execution_count": 1,
   "metadata": {
    "dotnet_interactive": {
     "language": "csharp"
    },
    "polyglot_notebook": {
     "kernelName": "csharp"
    }
   },
   "outputs": [
    {
     "name": "stdout",
     "output_type": "stream",
     "text": [
      "Connection successful!\n",
      "1 9baac790-1a18-49e3-99f8-c0a676224aaa\n",
      "2 cdbd5df4-a5b9-4e7a-9a45-9fcab49b06b9\n",
      "3 aff3f86a-dd06-444e-999f-e4b9e07978fa\n",
      "4 78dcbd28-38fb-4ac0-8d34-156dc92ade62\n",
      "5 4744669d-0a5c-4388-8646-e4719022309b\n"
     ]
    }
   ],
   "source": [
    "#r \"System.Data\"\n",
    "\n",
    "using System;\n",
    "using System.Data.SqlClient;\n",
    "\n",
    "string connectionString = \"Server=.;Database=JiraDb;Integrated Security=True;\";\n",
    "\n",
    "using (var connection = new SqlConnection(connectionString))\n",
    "{\n",
    "    try\n",
    "    {\n",
    "        connection.Open();\n",
    "        Console.WriteLine(\"Connection successful!\");\n",
    "\n",
    "        string sql = \"select top 5 TeamMemberId, FirstName, LastName, Email from TeamMembers\";\n",
    "        var command = new SqlCommand(sql, connection);\n",
    "        SqlDataReader reader = command.ExecuteReader();\n",
    "        \n",
    "        while (reader.Read())\n",
    "            Console.WriteLine($\"{reader.GetInt32(0)} {reader.GetString(1)}\");\n",
    "\n",
    "        reader.Close();\n",
    "    }\n",
    "    catch (Exception ex)\n",
    "    {\n",
    "        Console.WriteLine(\"Error: \" + ex.Message);\n",
    "    }\n",
    "}"
   ]
  },
  {
   "cell_type": "markdown",
   "metadata": {},
   "source": [
    "- We might need to restart Kernel; as System.Data is loaded and in scope\n",
    "- We will need to specify TrustServerCertificate=True; as local server certificate is not valid"
   ]
  },
  {
   "cell_type": "code",
   "execution_count": 2,
   "metadata": {
    "dotnet_interactive": {
     "language": "csharp"
    },
    "polyglot_notebook": {
     "kernelName": "csharp"
    }
   },
   "outputs": [
    {
     "data": {
      "text/html": [
       "<div><div></div><div></div><div><strong>Installed Packages</strong><ul><li><span>Microsoft.Data.SqlClient, 5.2.0</span></li></ul></div></div>"
      ]
     },
     "metadata": {},
     "output_type": "display_data"
    },
    {
     "name": "stdout",
     "output_type": "stream",
     "text": [
      "Connection successful!\n",
      "1 9baac790-1a18-49e3-99f8-c0a676224aaa\n",
      "2 cdbd5df4-a5b9-4e7a-9a45-9fcab49b06b9\n",
      "3 aff3f86a-dd06-444e-999f-e4b9e07978fa\n",
      "4 78dcbd28-38fb-4ac0-8d34-156dc92ade62\n",
      "5 4744669d-0a5c-4388-8646-e4719022309b\n"
     ]
    }
   ],
   "source": [
    "#r \"nuget:Microsoft.Data.SqlClient\"\n",
    "\n",
    "using System;\n",
    "using Microsoft.Data.SqlClient;\n",
    "\n",
    "string connectionString = \"Server=.;Database=JiraDb;Integrated Security=True;TrustServerCertificate=True;Application Name=Code\";\n",
    "\n",
    "using (var connection = new SqlConnection(connectionString))\n",
    "{\n",
    "    try\n",
    "    {\n",
    "        connection.Open();\n",
    "        Console.WriteLine(\"Connection successful!\");\n",
    "\n",
    "        string sql = \"select top 5 TeamMemberId, FirstName, LastName, Email from TeamMembers\";\n",
    "        var command = new SqlCommand(sql, connection);\n",
    "        SqlDataReader reader = command.ExecuteReader();\n",
    "        \n",
    "        while (reader.Read())\n",
    "            Console.WriteLine($\"{reader.GetInt32(0)} {reader.GetString(1)}\");\n",
    "\n",
    "        reader.Close();\n",
    "    }\n",
    "    catch (Exception ex)\n",
    "    {\n",
    "        Console.WriteLine(\"Error: \" + ex.Message);\n",
    "    }\n",
    "}"
   ]
  },
  {
   "cell_type": "markdown",
   "metadata": {},
   "source": [
    "### Linq to SQL & Entity Framework"
   ]
  },
  {
   "cell_type": "markdown",
   "metadata": {},
   "source": [
    "- One to One Mapping vs Skewed/Flattened Mapping\n",
    "- One Provider vs Multi Provider\n",
    "- Fast vs Slower"
   ]
  },
  {
   "cell_type": "markdown",
   "metadata": {},
   "source": [
    "## SQL Server Tools 🔨 ⛏️"
   ]
  },
  {
   "cell_type": "markdown",
   "metadata": {},
   "source": [
    "### SQL Server Management Studio (SSMS) 🔨"
   ]
  },
  {
   "cell_type": "markdown",
   "metadata": {},
   "source": [
    "- SSMS and Azure Data Studio"
   ]
  },
  {
   "cell_type": "markdown",
   "metadata": {},
   "source": [
    "#### Script"
   ]
  },
  {
   "cell_type": "code",
   "execution_count": null,
   "metadata": {
    "dotnet_interactive": {
     "language": "value"
    },
    "polyglot_notebook": {
     "kernelName": "value"
    }
   },
   "outputs": [],
   "source": [
    "adding user\n",
    "\twe want createdate to be not null, but user can skip it and when user skips it should pick current time\n",
    "\tpick current time\n",
    "\twe want username to be not null\n",
    "\n",
    "avoid adding multiple user - roles\n",
    "    we want userid to be unique\n",
    "    we want roleid to be unique\n",
    "\n",
    "query user and roles\n",
    "\tselect columns from tree\n",
    "\n",
    "m - n association\n",
    "\n",
    "query user having roles\n",
    "query user having roles and if no role should have row\n",
    "\n",
    "create sproc\n",
    "\n",
    "create procedure [dbo].[UserHasRole]\n",
    "\t@UserId nvarchar(50), @RoleId nvarchar(50)\n",
    "as\n",
    "begin\n",
    "\tif exists (select ur.UserRoleIndex\n",
    "\t\tfrom Users u join UserRoles ur on u.UserIndex = ur.UserIndex\n",
    "\t\t\tjoin Roles r on ur.RoleIndex = r.RoleIndex\n",
    "\t\twhere u.UserId = @UserId\n",
    "\t\t\tand r.RoleId = @RoleId\n",
    "\t)\n",
    "\tbegin\n",
    "\t\tselect 1 [Exist];\n",
    "\tend\n",
    "\telse\n",
    "\tbegin\n",
    "\t\tselect 0 [Exist];\n",
    "\tend\n",
    "end\n",
    "go\n"
   ]
  },
  {
   "cell_type": "markdown",
   "metadata": {},
   "source": [
    "### SQL Server Data Tools (SSDT) ⛏️"
   ]
  },
  {
   "cell_type": "markdown",
   "metadata": {},
   "source": [
    "- Database Schema as Code\n",
    "    - Project Oriented\n",
    "    - Offline\n",
    "- Schema Compare\n",
    "- Data Compare\n",
    "\n",
    "- Dac Compatibility/Integration\n",
    "- Unit Tests"
   ]
  },
  {
   "cell_type": "markdown",
   "metadata": {},
   "source": [
    "### VS Code Extensions 🧾"
   ]
  },
  {
   "cell_type": "markdown",
   "metadata": {},
   "source": [
    "- Name: SQL Server (mssql)\n",
    "    - https://marketplace.visualstudio.com/items?itemName=ms-mssql.mssql\n",
    "- Name: SQL Database Projects\n",
    "    - https://marketplace.visualstudio.com/items?itemName=ms-mssql.sql-database-projects-vscode"
   ]
  },
  {
   "cell_type": "markdown",
   "metadata": {},
   "source": [
    "## Change Management 📚"
   ]
  },
  {
   "cell_type": "markdown",
   "metadata": {},
   "source": [
    "### Overview"
   ]
  },
  {
   "cell_type": "markdown",
   "metadata": {},
   "source": [
    "<img src=images/sql-change-management.png>"
   ]
  },
  {
   "cell_type": "markdown",
   "metadata": {},
   "source": [
    "__Data Definition Language__\n",
    "- create, alter\n",
    "- drop\n",
    "- truncate, comment, rename\n",
    "\n",
    "__Data Query/Manipulation Language__\n",
    "- select\n",
    "- update, delete, insert\n",
    "- lock, call, explain\n",
    "\n",
    "__Data Control Language__\n",
    "- grant, revoke\n",
    "\n",
    "__Transaction Control Language__\n",
    "- begin commit transactions\n",
    "- rollback, savepoint"
   ]
  },
  {
   "cell_type": "markdown",
   "metadata": {},
   "source": [
    "__Ways__\n",
    "\n",
    "1. Hand written Scripts\n",
    "2. Applicattion generated DDL\n",
    "    - Seperate Tool / Setup\n",
    "        - From - To concerns\n",
    "            - Dynamics Example\n",
    "        - Post Migration Steps\n",
    "            - Dynamics Example\n",
    "    - Integrated\n",
    "        - Migrations\n",
    "            - Ruby on Rails\n",
    "            - Entity Framework\n",
    "3. Tool generated DDL\n",
    "    - SQL Compare\n",
    "    - Dac / Dacpac / Demo"
   ]
  },
  {
   "cell_type": "markdown",
   "metadata": {},
   "source": [
    "<img src=images/gp-utilities.webp>"
   ]
  },
  {
   "cell_type": "markdown",
   "metadata": {},
   "source": [
    "### Script"
   ]
  },
  {
   "cell_type": "code",
   "execution_count": null,
   "metadata": {
    "dotnet_interactive": {
     "language": "value"
    },
    "polyglot_notebook": {
     "kernelName": "value"
    }
   },
   "outputs": [],
   "source": [
    "create Khoji 2\n",
    "\tscript generate from Khoji 1\n",
    "\tbe careful use dbs\n",
    "\tcreate Khoji 2\n",
    "\n",
    "add isdeleted in user and roles\n",
    "\tupdate sproc\n",
    "\n",
    "\tcreate dacpac\n",
    "\tapply dacpac\n",
    "\n",
    "delete isdeleted from user and roles\n",
    "\tsproc is out of sync and will fail when run"
   ]
  },
  {
   "cell_type": "markdown",
   "metadata": {},
   "source": [
    "### Real World Example"
   ]
  },
  {
   "cell_type": "markdown",
   "metadata": {},
   "source": [
    "<img src=images/db-changes.png>"
   ]
  },
  {
   "cell_type": "markdown",
   "metadata": {},
   "source": [
    "### Configuration Management"
   ]
  },
  {
   "cell_type": "markdown",
   "metadata": {},
   "source": [
    "<img src=images/config-management.webp>"
   ]
  }
 ],
 "metadata": {
  "kernelspec": {
   "display_name": ".NET (C#)",
   "language": "C#",
   "name": ".net-csharp"
  },
  "language_info": {
   "name": "polyglot-notebook"
  },
  "polyglot_notebook": {
   "kernelInfo": {
    "defaultKernelName": "csharp",
    "items": [
     {
      "aliases": [],
      "name": "csharp"
     }
    ]
   }
  }
 },
 "nbformat": 4,
 "nbformat_minor": 2
}
