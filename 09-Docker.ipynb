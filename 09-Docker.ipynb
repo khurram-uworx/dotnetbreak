{
 "cells": [
  {
   "cell_type": "markdown",
   "metadata": {},
   "source": [
    "# Containers"
   ]
  },
  {
   "cell_type": "markdown",
   "metadata": {},
   "source": [
    "- What?\n",
    "    - Solution for Packaging, Distributing and Running applications\n",
    "    - Encapsulate dependencies, runtime, libraries and system tools; and give us an isolated unit\n",
    "    - Consistent and Reproduceable Environments\n",
    "- Why?\n",
    "    - Time and Cost Savings\n",
    "    - Portability\n",
    "    - Continous Deployments\n",
    "    - Resource Efficiency?\n",
    "    - Isolation?\n",
    "    - Scalability?\n",
    "- How?\n",
    "\n",
    "__Trainings__\n",
    "- https://www.linkedin.com/learning/docker-for-developers-14493163\n",
    "- https://learn.microsoft.com/en-us/training/modules/intro-to-docker-containers\n",
    "- https://www.docker.com/101-tutorial\n",
    "- https://www.docker.com/play-with-docker"
   ]
  },
  {
   "cell_type": "markdown",
   "metadata": {},
   "source": [
    "# Windows: Developer OS"
   ]
  },
  {
   "cell_type": "markdown",
   "metadata": {},
   "source": [
    "- Application Server; Win32 APIs, IIS, COM+, MSMQ and others\n",
    "- PowerShell\n",
    "- HyperV; Virtual Machine Platform\n",
    "- WSL; Windows Subsystem for Linux\n",
    "- WSA; Windows Subsystem for Android\n",
    "- Docker"
   ]
  },
  {
   "cell_type": "code",
   "execution_count": 1,
   "metadata": {
    "dotnet_interactive": {
     "language": "csharp"
    },
    "polyglot_notebook": {
     "kernelName": "csharp"
    },
    "vscode": {
     "languageId": "polyglot-notebook"
    }
   },
   "outputs": [
    {
     "ename": "Error",
     "evalue": "(1,26): error CS0234: The type or namespace name 'Messaging' does not exist in the namespace 'System' (are you missing an assembly reference?)",
     "output_type": "error",
     "traceback": [
      "(1,26): error CS0234: The type or namespace name 'Messaging' does not exist in the namespace 'System' (are you missing an assembly reference?)"
     ]
    }
   ],
   "source": [
    "var message = new System.Messaging.Message();\n",
    "// Framework Console project"
   ]
  },
  {
   "cell_type": "markdown",
   "metadata": {},
   "source": [
    "<img src=images/wsl.jpg><br>\n",
    "<img src=images/powershell.jpg><br>\n",
    "<img src=images/vm-docker-wsl-emulator.jpg>\n",
    "\n",
    "__Additional Resources__\n",
    "- https://learn.microsoft.com/en-us/windows/dev-environment\n",
    "- https://learn.microsoft.com/en-us/windows/wsl\n",
    "- https://learn.microsoft.com/en-us/windows/android/wsa"
   ]
  },
  {
   "cell_type": "markdown",
   "metadata": {},
   "source": [
    "# Docker Desktop"
   ]
  },
  {
   "cell_type": "markdown",
   "metadata": {},
   "source": [
    "<img src=images/docker-desktop.png>"
   ]
  },
  {
   "cell_type": "markdown",
   "metadata": {},
   "source": [
    "# Docker"
   ]
  },
  {
   "cell_type": "markdown",
   "metadata": {},
   "source": [
    "<img src=images/docker-taxonomy.png>\n",
    "\n",
    "- https://hub.docker.com/_/postgres\n",
    "- https://stackoverflow.com/questions/26598738/how-to-create-user-database-in-script-for-docker-postgres\n",
    "- https://docs.docker.com/engine/reference/commandline/volume_create\n",
    "- https://stackoverflow.com/questions/41637505/how-to-persist-data-in-a-dockerized-postgres-database-using-volumes"
   ]
  }
 ],
 "metadata": {
  "kernelspec": {
   "display_name": ".NET (C#)",
   "language": "C#",
   "name": ".net-csharp"
  },
  "language_info": {
   "name": "python",
   "version": "3.11.4"
  },
  "polyglot_notebook": {
   "kernelInfo": {
    "defaultKernelName": "csharp",
    "items": [
     {
      "aliases": [],
      "languageName": "csharp",
      "name": "csharp"
     }
    ]
   }
  }
 },
 "nbformat": 4,
 "nbformat_minor": 2
}
