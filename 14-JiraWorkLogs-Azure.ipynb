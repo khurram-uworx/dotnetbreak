{
 "cells": [
  {
   "cell_type": "markdown",
   "metadata": {},
   "source": [
    "# Today's Agenda"
   ]
  },
  {
   "cell_type": "markdown",
   "metadata": {},
   "source": [
    "- Need volunteer(s) for Microsoft 365 / Power Platform sessions of next week\n",
    "    - Office, Sharepoint, Teams etc\n",
    "    - Power Apps / Power Automate / Power BI etc\n",
    "- Serverless Computing & Azure Functions\n",
    "- Migrating JiraWorkLogs to Azure"
   ]
  },
  {
   "cell_type": "markdown",
   "metadata": {},
   "source": [
    "## Assignment"
   ]
  },
  {
   "cell_type": "markdown",
   "metadata": {},
   "source": [
    "- https://github.com/khurram-uworx/jiraworklogs/issues/12\n",
    "    - JQL is hardcoded; it should be definable; may be it can be specified as an environment variable\n",
    "- https://github.com/khurram-uworx/jiraworklogs/issues/13\n",
    "    - List of our people (emails) are hardcoded; it should be definable; maybe it can be specified in some txt file that is mounted to container and used accordingly"
   ]
  },
  {
   "cell_type": "markdown",
   "metadata": {},
   "source": [
    "# Serverless Computing"
   ]
  },
  {
   "cell_type": "markdown",
   "metadata": {},
   "source": [
    "- Traditional Web App; you have to do your work in couple of seconds max for an acceptable UX against a single request\n",
    "- Ajax / SPA Web Apps; you can have multiple but reasonable amount of requests and work needs to be done in couple of seconds and in some acceptable order\n",
    "- A Scheduler that calculate and cache results that we then show\n",
    "    - Off Peak Time; what it is for you or customer; what if its global app\n",
    "- A Service that process / do calculations and give back result; Asynchronously; we have to make some UX\n",
    "- Compartmentalization; dividing the processing\n",
    "    - Ford Assembly Line; https://en.wikipedia.org/wiki/Assembly_line\n",
    "    - Scalability\n",
    "    - Brings its own complexity\n",
    "        - Keeping track of failures, buffering inputs and outputs\n",
    "        - JiraWorklogs; what if Redis is not available; what if RabbitMQ is not available"
   ]
  },
  {
   "cell_type": "markdown",
   "metadata": {},
   "source": [
    "Serverless computing is a cloud computing execution model in which the cloud provider allocates machine resources on demand, taking care of the servers on behalf of their customers. __\"Serverless\" is a misnomer in the sense that servers are still used__ by cloud service providers to execute code for developers\n",
    "\n",
    "- https://en.wikipedia.org/wiki/Serverless_computing"
   ]
  },
  {
   "cell_type": "markdown",
   "metadata": {},
   "source": [
    "- Why its good for Hosting / Cloud Providers\n",
    "- Why __Functional Programming Concepts__ are best suited for this"
   ]
  },
  {
   "cell_type": "markdown",
   "metadata": {},
   "source": [
    "# F#"
   ]
  },
  {
   "cell_type": "markdown",
   "metadata": {},
   "source": [
    "- Basic is fun language; https://en.wikipedia.org/wiki/BASIC\n",
    "- 2nd generation Structured Basic (subroutines, functions; lets not use this, methods)\n",
    "- 3rd generation Object Oriented Basic; Visual Basic (Classic) was nice; Visual Basic.NET was/is a mess\n",
    "    - Verbosity due to types\n",
    "    - No Individuality due to BCL\n",
    "    - BCL/CLR was not ready for dynamic languages\n",
    "    - C# had all the BCL/CLR features; VB.NET always lacking\n",
    "    - Pascal Casing\n",
    "- Iron Languages\n",
    "    - IronPython and IronRuby\n",
    "        - https://en.wikipedia.org/wiki/Jim_Hugunin; the guy behind Jython, AspectJ and IronPython\n",
    "        - https://ironpython.net\n",
    "        - https://en.wikipedia.org/wiki/Guido_van_Rossum; the Python guy; working at MS\n",
    "    - Silverlight; .NET/WPFe in browser/phone coupled with dynamic languages\n",
    "    - iPhone and Azure effect\n",
    "- https://www.microsoft.com/en-us/research/lab/microsoft-research-cambridge\n",
    "- https://en.wikipedia.org/wiki/Don_Syme\n",
    "    - https://dl.acm.org/doi/10.1145/378795.378797; Design and implementation of generics for the .NET Common language runtime\n",
    "\n",
    "<img src=images/binaries.jpg>\n",
    "\n",
    "<p>\n",
    "Given CLR and BCL are two gravitational pulls; can there be a language that can offer something new and something different than what C#/BCL offer?\n",
    "</p>\n",
    "\n",
    "- https://en.wikipedia.org/wiki/ML_(programming_language)\n",
    "- https://ocaml.org\n",
    "- https://fsharp.org\n",
    "    - Algebraic datatypes\n",
    "    - __Pattern matching__\n",
    "    - __Type inference__\n",
    "    - Succinct syntax; *brief and clear*\n",
    "    - Sequence expressions\n",
    "    - __Asynchronous workflows__\n",
    "    - Units of measure"
   ]
  },
  {
   "cell_type": "code",
   "execution_count": null,
   "metadata": {
    "dotnet_interactive": {
     "language": "fsharp"
    },
    "polyglot_notebook": {
     "kernelName": "fsharp"
    },
    "vscode": {
     "languageId": "polyglot-notebook"
    }
   },
   "outputs": [],
   "source": [
    "let r = System.Random() // let is bind\n",
    "\n",
    "let random () = r.Next()\n",
    "let square a = a * a\n",
    "let print n = printfn \"%d\" n\n",
    "\n",
    "random()\n",
    "|> square\n",
    "|> print"
   ]
  },
  {
   "cell_type": "code",
   "execution_count": null,
   "metadata": {
    "dotnet_interactive": {
     "language": "csharp"
    },
    "polyglot_notebook": {
     "kernelName": "csharp"
    },
    "vscode": {
     "languageId": "polyglot-notebook"
    }
   },
   "outputs": [],
   "source": [
    "static void Pipe<T>(this T obj, Action<T> action) => action(obj);       // Extension Method to simulate Pipe with Fluent API\n",
    "static T Pipe<T>(this T obj, Func<T, T> func) => func(obj);             // Generics + little bit of succinct syntax that C# is picking\n",
    "\n",
    "class Something\n",
    "{\n",
    "    public void DoSomething()\n",
    "    {\n",
    "        Random r = new();\n",
    "        Func<int> random = r.Next;                      // we dont need to create type for delegate; we got Funcs and Actions\n",
    "                                                        // we dont even need them anymore as C# compiler is aware of them and can infer\n",
    "                                                        // but here its failing because Next() has two overloads\n",
    "        Func<int, int> square = a => a * a;             // sadly we have to tell type so C# compiler can figure out * operator\n",
    "                                                        //  this is now simpler in .NET 8 because of Generic Maths where i can use generics\n",
    "                                                        //  saying my T is not just any T; its INumber inherited T and INumber has * operation\n",
    "        Action<int> print = n => Console.WriteLine(n);  // Console.WriteLine has too many overrides; we had to specify type\n",
    "                                                        //  we now even have using System and can just use WriteLine; but I do like Object Orientation\n",
    "        random()\n",
    "            .Pipe(square)                               // we can simulate Piping by using Fluent APIs\n",
    "            .Pipe(print);                               // and this was kind of termination point; we had to create extension for Action\n",
    "    }\n",
    "}"
   ]
  },
  {
   "cell_type": "markdown",
   "metadata": {},
   "source": [
    "<p><img src=images/streams-linq.jpg height=350></p>\n",
    "\n",
    "We will IA try to cover Operator Overloading tomorrow\n",
    "- https://learn.microsoft.com/en-us/dotnet/standard/generics/math"
   ]
  },
  {
   "cell_type": "code",
   "execution_count": null,
   "metadata": {
    "dotnet_interactive": {
     "language": "csharp"
    },
    "polyglot_notebook": {
     "kernelName": "csharp"
    },
    "vscode": {
     "languageId": "polyglot-notebook"
    }
   },
   "outputs": [],
   "source": [
    "/*\n",
    "static T Add<T>(T left, T right)\n",
    "    where T : INumber<T>\n",
    "{\n",
    "    return left + right;\n",
    "}\n",
    "\n",
    "static T Add<T>(T left, T right) where T : INumber<T> => left + right;\n",
    "*/"
   ]
  },
  {
   "cell_type": "markdown",
   "metadata": {},
   "source": [
    "## Azure Serverless"
   ]
  },
  {
   "cell_type": "markdown",
   "metadata": {},
   "source": [
    "- __Compute__\n",
    "    - Azure Container Apps; we can scale/trigger them with Http / Events\n",
    "    - Azure App Service; https://azure.microsoft.com/en-us/products/app-service\n",
    "    - Azure Functions; https://azure.microsoft.com/en-us/products/functions\n",
    "    - Azure Kubernetes Service (AKS); https://azure.microsoft.com/en-us/products/kubernetes-service/\n",
    "        - Virtual Kubelets support; https://virtual-kubelet.io\n",
    "        - Keda: Kubernetes Event-Driven Autoscaling support; https://keda.sh\n",
    "- __Storage__\n",
    "    - Azure SQL Database; https://azure.microsoft.com/en-us/products/azure-sql/database\n",
    "    - Azure Cosmos DB; https://azure.microsoft.com/en-us/products/cosmos-db\n",
    "    - Azure Blob Strage support events"
   ]
  },
  {
   "cell_type": "markdown",
   "metadata": {},
   "source": [
    "<img src=images/serverless-billing.png>"
   ]
  },
  {
   "cell_type": "markdown",
   "metadata": {},
   "source": [
    "__Further Readings__\n",
    "- https://azure.microsoft.com/en-us/solutions/serverless\n",
    "- https://learn.microsoft.com/en-us/azure/azure-sql/database/serverless-tier-overview"
   ]
  },
  {
   "cell_type": "markdown",
   "metadata": {},
   "source": [
    "# Blazor and Azure Web App"
   ]
  },
  {
   "cell_type": "markdown",
   "metadata": {},
   "source": [
    "- https://dotnet.microsoft.com/en-us/apps/aspnet/web-apps/blazor\n",
    "- https://learn.microsoft.com/en-us/aspnet/core/blazor\n",
    "- <img src=images/blazor-webassembly.png>\n",
    "- <img src=images/blazor-server.png>"
   ]
  },
  {
   "cell_type": "markdown",
   "metadata": {},
   "source": [
    "- Lets create a simple Blazor App with Identity; TimeLoggingBlazorApp in AzureProjects\n",
    "    - Project Structure\n",
    "    - Razor\n",
    "    - PageTitle and HeadOutlet\n",
    "    - Routing; using Reflection; @page\n",
    "    - @attribute [Authorize]\n",
    "    - AuthorizeView\n",
    "    - StateHasChanged in NavMenu and what it does\n",
    "    - IIS Express and Stream Rendering https://github.com/dotnet/aspnetcore/issues/52323\n",
    "    - How to use different layout on some page; say Registration\n",
    "        - @using TimeLoggingBlazorApp.Components.Layout\n",
    "        - @layout RegistrationLayout\n",
    "        - https://stackoverflow.com/questions/66370860/how-to-switch-the-main-layout-in-blazor\n"
   ]
  },
  {
   "cell_type": "markdown",
   "metadata": {},
   "source": [
    "- Connect it to Application Insights; https://learn.microsoft.com/en-us/azure/azure-monitor/app/app-insights-overview\n",
    "    - https://learn.microsoft.com/en-us/azure/azure-monitor/app/opentelemetry-enable?tabs=aspnetcore\n",
    "        - https://learn.microsoft.com/en-us/azure/azure-monitor/#5-minute-quickstarts\n",
    "    - https://azure.microsoft.com/en-us/pricing/details/monitor/\n",
    "    - https://github.com/toddkitta/azure-content/blob/master/articles/application-insights/app-analytics-queries.md\n",
    "    - https://learn.microsoft.com/en-us/azure/azure-monitor/app/live-stream"
   ]
  },
  {
   "cell_type": "code",
   "execution_count": null,
   "metadata": {
    "dotnet_interactive": {
     "language": "csharp"
    },
    "polyglot_notebook": {
     "kernelName": "csharp"
    },
    "vscode": {
     "languageId": "polyglot-notebook"
    }
   },
   "outputs": [],
   "source": [
    "requests\n",
    "\n",
    "// Top 10 countries by traffic \n",
    "// Chart the amount of requests from the top 10 countries. \n",
    "requests\n",
    "| summarize CountByCountry=count() by client_CountryOrRegion\n",
    "| top 10 by CountByCountry\n",
    "| render piechart"
   ]
  },
  {
   "cell_type": "markdown",
   "metadata": {},
   "source": [
    "- Connect it to Azure SQL Server\n",
    "    - https://learn.microsoft.com/en-us/azure/azure-sql/database/free-offer\n",
    "    - https://learn.microsoft.com/en-us/azure/azure-sql/managed-instance/free-offer\n",
    "- dotnet ef database update"
   ]
  },
  {
   "cell_type": "markdown",
   "metadata": {},
   "source": [
    "- Lets check out creating Azure Web App using Azure Portal\n",
    "- Lets publish this on Azure\n",
    "    - https://learn.microsoft.com/en-us/azure/app-service/deploy-continuous-deployment"
   ]
  },
  {
   "cell_type": "markdown",
   "metadata": {},
   "source": [
    "# JiraWorkLogs for Azure"
   ]
  },
  {
   "cell_type": "markdown",
   "metadata": {},
   "source": [
    "## Developer's Journey of Cloud Migration\n",
    "- Concept of total cost of ownership"
   ]
  },
  {
   "cell_type": "markdown",
   "metadata": {},
   "source": [
    "### Phase 1: Lift & Shift"
   ]
  },
  {
   "cell_type": "markdown",
   "metadata": {},
   "source": [
    "- VM; cutting hardware / utility cost\n",
    "- Base OS and install all things yourself\n",
    "- __Azure__\n",
    "    - Install Docker in Linux VM; Ubuntu maintained base images for VM and run your containers\n",
    "    - SQL Server VM if you need SQL; usage based billing; no upfront license cost\n",
    "    - https://learn.microsoft.com/en-us/azure/container-instances/tutorial-docker-compose\n",
    "\n",
    "<p>\n",
    "    <img src=images/acr-to-aks.webp><br>\n",
    "    <img src=images/docker-context.png>\n",
    "</p>"
   ]
  },
  {
   "cell_type": "markdown",
   "metadata": {},
   "source": [
    "### Phase 2: Cloud PaaS / SaaS"
   ]
  },
  {
   "cell_type": "markdown",
   "metadata": {},
   "source": [
    "- Databases, Messaging, Caching, Orchestration\n",
    "- Cutting administration / maintainance cost\n",
    "- __Azure__\n",
    "    - Azure Web Apps; https://azure.microsoft.com/en-us/products/app-service/web\n",
    "        - Multiple Stacks are supported; ASP.NET, Python, Node.js, PHP, Wordpress, Custom Container, Java\n",
    "        - https://learn.microsoft.com/en-us/azure/app-service\n",
    "    - Azure Web App for Containers; https://azure.microsoft.com/en-us/products/app-service/containers\n",
    "        - https://learn.microsoft.com/en-us/azure/container-apps/overview\n",
    "        - Serverless Containers\n",
    "    - Azure Cache for Redis 2; https://azure.microsoft.com/en-us/products/cache\n",
    "    - https://azure.microsoft.com/en-us/products/functions\n",
    "        - Multiple Stacks are supported; .NET, Node.js, Java, PowerShell, Python\n",
    "    - mySQL or PostgreSQL / SQL or Oracle\n",
    "- Vendor Lock-in Trap\n",
    "    - Using stack that's vendor specific; e-g SQL Server or Oracle\n",
    "    - Using stack that's available on particular vendor\n",
    "        - AWS RDS, AWS DynamoDB, Azure CosmosDB, Azure Functions, AWS Lambda \n",
    "    - Depending on cloud service\n",
    "        - Azure Functions, AWS Lambda\n",
    "        - Security (Firewall / DDoS)\n",
    "        - Analytics"
   ]
  },
  {
   "cell_type": "markdown",
   "metadata": {},
   "source": [
    "### Phase 3: Cloud Native & Neutrality"
   ]
  },
  {
   "cell_type": "markdown",
   "metadata": {},
   "source": [
    "- Containerization, CNCF\n",
    "- Freedom of deployment; on premises / in cloud / any cloud provider\n",
    "- __Azure__\n",
    "    - Azure Web App for Containers\n",
    "    - Azure Container Instances; https://azure.microsoft.com/en-us/products/container-instances\n",
    "        - https://learn.microsoft.com/en-us/azure/container-instances/tutorial-docker-compose\n",
    "    - Azure Kubernetes Service (AKS); https://azure.microsoft.com/en-us/products/kubernetes-service\n",
    "        - https://learn.microsoft.com/en-us/azure/aks"
   ]
  },
  {
   "cell_type": "markdown",
   "metadata": {},
   "source": [
    "## Azure Services for JiraWorklogs"
   ]
  },
  {
   "cell_type": "markdown",
   "metadata": {},
   "source": [
    "<img src=images/jiraworklogs.png width=700>\n",
    "\n",
    "- Application Insights\n",
    "- Entity Framework Supported RDBMS\n",
    "    - SQL Server, PostgreSQL, CosmosDB\n",
    "    - https://azure.microsoft.com/en-us/products/azure-sql\n",
    "        - https://learn.microsoft.com/en-us/azure/azure-sql/azure-sql-iaas-vs-paas-what-is-overview\n",
    "    - https://azure.microsoft.com/en-us/products/postgresql\n",
    "        - https://learn.microsoft.com/en-us/azure/postgresql\n",
    "- Azure Redis Cache or CosmosDB\n",
    "    - https://azure.microsoft.com/en-us/products/cache\n",
    "        - https://learn.microsoft.com/en-us/azure/azure-cache-for-redis/cache-overview\n",
    "    - https://azure.microsoft.com/en-us/products/cosmos-db\n",
    "        - https://learn.microsoft.com/en-us/azure/azure-cache-for-redis/cache-overview\n",
    "- Azure Functions\n",
    "    - https://azure.microsoft.com/en-us/products/functions\n",
    "        - https://learn.microsoft.com/en-us/azure/azure-functions/functions-overview\n",
    "- https://learn.microsoft.com/en-us/azure/azure-functions/functions-create-your-first-function-visual-studio"
   ]
  },
  {
   "cell_type": "markdown",
   "metadata": {},
   "source": [
    "# Azure Resources"
   ]
  },
  {
   "cell_type": "markdown",
   "metadata": {},
   "source": [
    "- __Getting Started__\n",
    "    - https://azure.microsoft.com/en-us/get-started\n",
    "    - https://azure.microsoft.com/en-us/solutions/microservice-applications/\n",
    "- __Azure Architectures__\n",
    "    - https://learn.microsoft.com/en-us/azure/architecture/browse\n",
    "    - https://learn.microsoft.com/en-us/azure/architecture/serverless-quest/serverless-overview\n",
    "    - https://learn.microsoft.com/en-us/azure/architecture/serverless-quest/reference-architectures\n",
    "    - https://learn.microsoft.com/en-us/azure/architecture/solution-ideas/articles/onboarding-customers-with-a-cloud-native-serverless-architecture\n",
    "- __Github__\n",
    "    - https://github.com/Azure\n",
    "        - https://github.com/Azure/azure-sdk-for-net\n",
    "        - https://github.com/Azure/azure-sdk-for-python\n",
    "    - https://github.com/Azure-Samples\n",
    "- __Youtube__\n",
    "    - https://www.youtube.com/@dotnet\n",
    "        - .NET on Azure for Beginners Playlist: https://www.youtube.com/watch?v=EzdqO6jX8u4&list=PLdo4fOcmZ0oVSBX3Lde8owu6dSgZLIXfu&index=1\n",
    "    - https://www.youtube.com/@MicrosoftAzure\n",
    "        - Azure Friday Playlist: https://www.youtube.com/watch?v=qMFMHl6OcxQ&list=PLLasX02E8BPDT2Z2pdCHNCkENpcQWy5n6\n",
    "        - Go Serverless Playlist: https://www.youtube.com/watch?v=UFxQhszT450&list=PLLasX02E8BPCHVcT5DnGpjUIDT5-9ewne\n",
    "    - Azure Application Insights Tutorial | Amazing telemetry service; https://www.youtube.com/watch?v=A0jAeGf2zUQ"
   ]
  }
 ],
 "metadata": {
  "kernelspec": {
   "display_name": ".NET (C#)",
   "language": "C#",
   "name": ".net-csharp"
  },
  "language_info": {
   "name": "python",
   "version": "3.11.4"
  },
  "polyglot_notebook": {
   "kernelInfo": {
    "defaultKernelName": "csharp",
    "items": [
     {
      "aliases": [],
      "languageName": "csharp",
      "name": "csharp"
     }
    ]
   }
  }
 },
 "nbformat": 4,
 "nbformat_minor": 2
}
