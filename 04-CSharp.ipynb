{
 "cells": [
  {
   "cell_type": "markdown",
   "metadata": {},
   "source": [
    "# OOP: Encapsulation\n",
    "\n",
    "- Value and Reference Types; Structs and Classes\n",
    "- Members; list below limited to items not being used in following example\n",
    "    - Fields\n",
    "    - Indexers\n",
    "    - Operators\n",
    "    - Nested Types\n",
    "- Accessibility; list below limited to items not being used in following example\n",
    "    - internal\n",
    "    - protected internal\n",
    "    - private protected"
   ]
  },
  {
   "cell_type": "code",
   "execution_count": null,
   "metadata": {
    "dotnet_interactive": {
     "language": "csharp"
    },
    "polyglot_notebook": {
     "kernelName": "csharp"
    }
   },
   "outputs": [],
   "source": [
    "interface IServer {}\n",
    "\n",
    "interface IConnectionManagement\n",
    "{\n",
    "    void Connect();\n",
    "    void Disconnect();\n",
    "}\n",
    "\n",
    "abstract class TdsServer\n",
    "{\n",
    "    protected void Connect(string server, int port, string userName, string password)\n",
    "    {}\n",
    "}\n",
    "\n",
    "class SqlServer : TdsServer, IConnectionManagement, IServer\n",
    "{\n",
    "    const int DEFAULTPORT = 1433;\n",
    "\n",
    "    public event EventHandler OnConnected;\n",
    "\n",
    "    public string Server { get; set; }\n",
    "    public string UserName { get; set; }\n",
    "    public string Password { get; set; }\n",
    "\n",
    "    public SqlServer()\n",
    "    {}\n",
    "\n",
    "    ~SqlServer()\n",
    "    {}\n",
    "\n",
    "    public void Dispose() {}\n",
    "\n",
    "    public void Connect()\n",
    "    {}\n",
    "\n",
    "    public void Disconnect()\n",
    "    {}\n",
    "}\n",
    "\n",
    "//using(var server = new SqlServer()) {}"
   ]
  },
  {
   "cell_type": "code",
   "execution_count": null,
   "metadata": {
    "dotnet_interactive": {
     "language": "csharp"
    },
    "polyglot_notebook": {
     "kernelName": "csharp"
    }
   },
   "outputs": [],
   "source": [
    "//improvements ^^\n",
    "\n",
    "//abstract\n",
    "//sealed"
   ]
  },
  {
   "cell_type": "markdown",
   "metadata": {},
   "source": [
    "# Expressions"
   ]
  },
  {
   "cell_type": "code",
   "execution_count": null,
   "metadata": {
    "dotnet_interactive": {
     "language": "csharp"
    },
    "polyglot_notebook": {
     "kernelName": "csharp"
    }
   },
   "outputs": [],
   "source": [
    "Expression<Func<int, bool>> expression = num => num < 5;\n",
    "var lambda = expression.Compile();\n",
    "lambda(3)"
   ]
  },
  {
   "cell_type": "code",
   "execution_count": null,
   "metadata": {
    "dotnet_interactive": {
     "language": "csharp"
    },
    "polyglot_notebook": {
     "kernelName": "csharp"
    }
   },
   "outputs": [],
   "source": [
    "using System.Linq.Expressions;\n",
    "\n",
    "class Validator<T>\n",
    "{\n",
    "    private readonly List<Expression<Func<T, bool>>> validationRules = new List<Expression<Func<T, bool>>>();\n",
    "\n",
    "    public void AddRule(Expression<Func<T, bool>> rule) => validationRules.Add(rule);\n",
    "\n",
    "    public bool Validate(T entity)\n",
    "    {\n",
    "        bool isValid = validationRules.All(rule => rule.Compile()(entity));\n",
    "        return isValid;\n",
    "    }\n",
    "}"
   ]
  },
  {
   "cell_type": "code",
   "execution_count": null,
   "metadata": {
    "dotnet_interactive": {
     "language": "csharp"
    },
    "polyglot_notebook": {
     "kernelName": "csharp"
    }
   },
   "outputs": [],
   "source": [
    "class Person\n",
    "{\n",
    "    public string Name { get; set; }\n",
    "    public int Age { get; set; }\n",
    "    public string Email { get; set; }\n",
    "}\n",
    "\n",
    "var personValidator = new Validator<Person>();\n",
    "\n",
    "personValidator.AddRule(p => !string.IsNullOrEmpty(p.Name));\n",
    "personValidator.AddRule(p => p.Age >= 18);\n",
    "personValidator.AddRule(p => p.Email.Contains(\"@\"));\n",
    "\n",
    "personValidator.Validate(new Person() { Name = \"Khurram Aziz\", Age = 45, Email = \"khurram@uworx.co.uk\" })"
   ]
  },
  {
   "cell_type": "markdown",
   "metadata": {},
   "source": [
    "\n",
    "- https://learn.microsoft.com/en-us/dotnet/api/system.linq.iqueryable\n",
    "- AsQueryable()\n"
   ]
  },
  {
   "cell_type": "code",
   "execution_count": null,
   "metadata": {
    "dotnet_interactive": {
     "language": "csharp"
    },
    "polyglot_notebook": {
     "kernelName": "csharp"
    }
   },
   "outputs": [],
   "source": [
    "using System.Linq;\n",
    "\n",
    "var numbers = new[] { 78, 92, 100, 37, 81 };\n",
    "IQueryable<int> query = numbers.AsQueryable();\n",
    "var expressionTree = query.Expression;\n",
    "Console.WriteLine($\"NodeType:   {expressionTree.NodeType}\");\n",
    "Console.WriteLine($\"Type:       {expressionTree.Type.Name}\");\n",
    "\n",
    "//query = query.OrderBy(s => s);\n",
    "//shuffle?\n",
    "\n",
    "query.ToArray()"
   ]
  },
  {
   "cell_type": "markdown",
   "metadata": {},
   "source": [
    "# Delegates\n",
    "\n",
    "- Contravariance: Using one method for different event / Delegates\n",
    "- Covariance: Delegate can be more generatlized say object or base type and method can use specialized types\n",
    "\n",
    "Uses\n",
    "\n",
    "- Callbacks / Lazy Loadings\n",
    "- Multicasting\n",
    "- Events\n",
    "- *Async Programming*"
   ]
  },
  {
   "cell_type": "code",
   "execution_count": null,
   "metadata": {
    "dotnet_interactive": {
     "language": "csharp"
    },
    "polyglot_notebook": {
     "kernelName": "csharp"
    }
   },
   "outputs": [],
   "source": [
    "//Async; but will not work here\n",
    "using System.Threading;\n",
    "\n",
    "delegate void LongProcess();\n",
    "\n",
    "void Process()\n",
    "{\n",
    "    Console.WriteLine($\"Running Process in {Thread.CurrentThread.ManagedThreadId}\");\n",
    "    Thread.Sleep(5000); //simulating\n",
    "}\n",
    "\n",
    "LongProcess lp = Process;\n",
    "var handler = lp.BeginInvoke(null, null);\n",
    "Console.WriteLine($\"Running Main in {Thread.CurrentThread.ManagedThreadId}\");\n",
    "Thread.Sleep(3000); //simulating bit faster\n",
    "//lp.EndInvoke(handler);"
   ]
  },
  {
   "cell_type": "code",
   "execution_count": 12,
   "metadata": {
    "dotnet_interactive": {
     "language": "csharp"
    },
    "polyglot_notebook": {
     "kernelName": "csharp"
    }
   },
   "outputs": [],
   "source": [
    "// Async / Await Intro; we will revisit\n",
    "\n",
    "using System.Threading;\n",
    "\n",
    "var random = new Random(Guid.NewGuid().GetHashCode());\n",
    "\n",
    "// we want to make this async\n",
    "bool CpuHeavyMethod()\n",
    "{\n",
    "    var next = random.Next();\n",
    "    Thread.Sleep(1000);\n",
    "    return next > (int.MaxValue / 2);\n",
    "}\n",
    "\n",
    "async Task<bool> CpuHeavyMethodAsync()\n",
    "{\n",
    "    var next = random.Next();\n",
    "    //Thread.Sleep(1000);\n",
    "    \n",
    "    await Task.Delay(1000);\n",
    "\n",
    "    //Task t = Task.Delay(1000);\n",
    "    //can do some more stuff\n",
    "    //t.Wait();\n",
    "\n",
    "    //Task.FromResult\n",
    "    return next > (int.MaxValue / 2);\n",
    "}"
   ]
  }
 ],
 "metadata": {
  "kernelspec": {
   "display_name": ".NET (C#)",
   "language": "C#",
   "name": ".net-csharp"
  },
  "language_info": {
   "name": "polyglot-notebook"
  },
  "polyglot_notebook": {
   "kernelInfo": {
    "defaultKernelName": "csharp",
    "items": [
     {
      "aliases": [],
      "languageName": "csharp",
      "name": "csharp"
     }
    ]
   }
  }
 },
 "nbformat": 4,
 "nbformat_minor": 2
}
