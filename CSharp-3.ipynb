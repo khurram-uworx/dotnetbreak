{
 "cells": [
  {
   "cell_type": "markdown",
   "metadata": {},
   "source": [
    "Common Types have \"character\"; how they implement different interfaces (behaviors) which enables them to use them in interesting ways\n",
    "\n",
    "- https://learn.microsoft.com/en-us/dotnet/api/system.int32?view=netframework-4.8\n",
    "\n",
    "# Value and Reference Types\n",
    "\n",
    "- Passing By Value and By Reference"
   ]
  },
  {
   "cell_type": "code",
   "execution_count": null,
   "metadata": {
    "dotnet_interactive": {
     "language": "csharp"
    },
    "polyglot_notebook": {
     "kernelName": "csharp"
    }
   },
   "outputs": [],
   "source": [
    "class Shape\n",
    "{\n",
    "     public int X; public int Y;\n",
    "\n",
    "     public override string ToString()\n",
    "     {\n",
    "        return $\"X: {X}, Y: {Y}\";\n",
    "     }\n",
    "}\n",
    "\n",
    "void increment(ref int x) // passing value types by reference\n",
    "{\n",
    "    x++;\n",
    "}\n",
    "\n",
    "void move(Shape shape, int x, int y)\n",
    "{\n",
    "    shape.X += x;\n",
    "    shape.Y += y;\n",
    "}\n",
    "\n",
    "int x = 5;\n",
    "var square = new Shape() { X = 5, Y = 5 };\n",
    "\n",
    "void print()\n",
    "{\n",
    "    Console.WriteLine($\"x: {x}\");\n",
    "    Console.WriteLine($\"shape: {square}\");\n",
    "}\n",
    "\n",
    "print();\n",
    "increment(ref x);\n",
    "move(square, 3, 3);\n",
    "print();"
   ]
  },
  {
   "cell_type": "markdown",
   "metadata": {},
   "source": [
    "Links\n",
    "\n",
    "- https://learn.microsoft.com/en-us/dotnet/api/system.int32?view=net-8.0; with each new release common types are implementing more and more behaviors\n",
    "- https://learn.microsoft.com/en-us/dotnet/csharp/fundamentals/types/\n",
    "- https://learn.microsoft.com/en-us/dotnet/csharp/programming-guide/events/how-to-raise-base-class-events-in-derived-classes\n",
    "- https://source.dot.net/#System.Private.CoreLib/src/libraries/System.Private.CoreLib/src/System/Reflection/ConstructorInvoker.cs,309; just to scare you guys; we can go deep\n",
    "\n",
    "*The Type System and Base Class Library are done tastefully*"
   ]
  },
  {
   "cell_type": "code",
   "execution_count": null,
   "metadata": {
    "dotnet_interactive": {
     "language": "csharp"
    },
    "polyglot_notebook": {
     "kernelName": "csharp"
    }
   },
   "outputs": [],
   "source": [
    "// IDisposable\n",
    "// https://learn.microsoft.com/en-us/dotnet/api/system.idisposable\n",
    "\n",
    "class HeavyResource: IDisposable\n",
    "{\n",
    "    string data = \"someLargeLookupThing\";\n",
    "\n",
    "    public void SomeOperation() { }\n",
    "\n",
    "    public void Dispose()\n",
    "    {\n",
    "        Console.WriteLine(\"Disposing resources\");\n",
    "        data = null;\n",
    "    }\n",
    "}\n",
    "\n",
    "using(var resource = new HeavyResource())\n",
    "{\n",
    "    // do something with heavy resource\n",
    "}"
   ]
  },
  {
   "cell_type": "markdown",
   "metadata": {},
   "source": [
    "- https://learn.microsoft.com/en-us/dotnet/api/system.collections.ienumerable\n",
    "\n",
    "IEnumerable plays a central role in all things collections; LINQ takes it a one step further"
   ]
  },
  {
   "cell_type": "code",
   "execution_count": null,
   "metadata": {
    "dotnet_interactive": {
     "language": "csharp"
    },
    "polyglot_notebook": {
     "kernelName": "csharp"
    }
   },
   "outputs": [],
   "source": [
    "// yield\n",
    "\n",
    "IEnumerable<int> GenerateDate()\n",
    "{\n",
    "    yield return 1;\n",
    "    yield return 2;\n",
    "    yield return 3;\n",
    "}\n",
    "\n",
    "foreach(var d in GenerateDate())\n",
    "    Console.WriteLine(d);"
   ]
  },
  {
   "cell_type": "code",
   "execution_count": null,
   "metadata": {
    "dotnet_interactive": {
     "language": "csharp"
    },
    "polyglot_notebook": {
     "kernelName": "csharp"
    }
   },
   "outputs": [],
   "source": [
    "// anonymous type\n",
    "\n",
    "var data = new { Key = 1, Value = \"Something\" };\n",
    "data.Key // its anonymous but still \"typed\""
   ]
  },
  {
   "cell_type": "markdown",
   "metadata": {},
   "source": [
    "Convinced? C# and other OOP languages are not always Java Clones; they share the OOP foundations and may look familiar because of C family language\n",
    "\n",
    "![Java Clone?](images/java-clones.jpg)"
   ]
  },
  {
   "cell_type": "markdown",
   "metadata": {},
   "source": [
    "# Extension Methods"
   ]
  },
  {
   "cell_type": "code",
   "execution_count": null,
   "metadata": {
    "dotnet_interactive": {
     "language": "csharp"
    },
    "polyglot_notebook": {
     "kernelName": "csharp"
    }
   },
   "outputs": [],
   "source": [
    "//Extension Methods\n",
    "\n",
    "abstract class Shape\n",
    "{\n",
    "    public int X;\n",
    "    public int Y;\n",
    "}\n",
    "\n",
    "class Square : Shape\n",
    "{\n",
    "    public int Side { get; set; }\n",
    "}\n",
    "\n",
    "static void Move(this Shape shape, int x, int y) // class, interface\n",
    "{\n",
    "    shape.X += x;\n",
    "    shape.Y += y;\n",
    "}\n",
    "\n",
    "var square = new Square() { X = 3, Y = 3, Side = 5 };\n",
    "square.Move(3, 4);\n",
    "\n",
    "// but why?"
   ]
  },
  {
   "cell_type": "markdown",
   "metadata": {},
   "source": [
    "# LINQ"
   ]
  },
  {
   "cell_type": "code",
   "execution_count": null,
   "metadata": {
    "dotnet_interactive": {
     "language": "csharp"
    },
    "polyglot_notebook": {
     "kernelName": "csharp"
    }
   },
   "outputs": [],
   "source": [
    "using System.Linq;\n",
    "\n",
    "abstract class Person\n",
    "{\n",
    "    public string FirstName { get; set; }\n",
    "    public string LastName { get; set; }\n",
    "\n",
    "    public override string ToString()\n",
    "    {\n",
    "        return $\"{FirstName} {LastName}\";\n",
    "    }\n",
    "}\n",
    "\n",
    "class Teacher : Person\n",
    "{\n",
    "    public string Subject { get; set; }\n",
    "\n",
    "    public override string ToString()\n",
    "    {\n",
    "        return $\"{base.ToString()}, Subject: {Subject}\";\n",
    "    }\n",
    "}\n",
    "\n",
    "var teachers = new Teacher[]\n",
    "{\n",
    "    new Teacher() { FirstName = \"Teacher\", LastName = \"A\", Subject = \"Maths\" },\n",
    "    new Teacher() { FirstName = \"Teacher\", LastName = \"B\", Subject = \"Physics\" },\n",
    "    new Teacher() { FirstName = \"Teacher\", LastName = \"C\", Subject = \"Biology\" },\n",
    "    new Teacher() { FirstName = \"Teacher\", LastName = \"D\", Subject = \"Chemistry\" }\n",
    "};\n",
    "\n",
    "var subjects = new[] { \"Maths\", \"Physics\" };\n",
    "\n",
    "var q = from t in teachers\n",
    "        where subjects.Contains(t.Subject)\n",
    "        select t;\n",
    "\n",
    "var results = q.ToArray();\n",
    "var q2 = results.OrderByDescending(s => s.LastName);\n",
    "\n",
    "foreach(var r in q2)\n",
    "    Console.WriteLine(r);"
   ]
  },
  {
   "cell_type": "code",
   "execution_count": null,
   "metadata": {
    "dotnet_interactive": {
     "language": "csharp"
    },
    "polyglot_notebook": {
     "kernelName": "csharp"
    }
   },
   "outputs": [],
   "source": [
    "// projection\n",
    "var q3 = from r in results\n",
    "         select new { r.LastName, r.Subject };\n",
    "foreach(var r in q3)\n",
    "    Console.WriteLine($\"{r.LastName} teaches {r.Subject}\");"
   ]
  },
  {
   "cell_type": "code",
   "execution_count": null,
   "metadata": {
    "dotnet_interactive": {
     "language": "csharp"
    },
    "polyglot_notebook": {
     "kernelName": "csharp"
    }
   },
   "outputs": [],
   "source": [
    "#r \"nuget: Microsoft.EntityFrameworkCore.SqlServer, *-*\""
   ]
  },
  {
   "cell_type": "markdown",
   "metadata": {},
   "source": [
    "# SQL Server Introduction"
   ]
  },
  {
   "cell_type": "code",
   "execution_count": null,
   "metadata": {
    "dotnet_interactive": {
     "language": "csharp"
    },
    "polyglot_notebook": {
     "kernelName": "csharp"
    }
   },
   "outputs": [],
   "source": [
    "using Microsoft.EntityFrameworkCore;\n",
    "\n",
    "\n",
    "class TeamMember\n",
    "{\n",
    "    public int TeamMemberId { get; set; }\n",
    "    public string TeamMemberName { get; set; } = string.Empty;\n",
    "    public string TeamMemberEmail { get; set; } = string.Empty;\n",
    "    public bool Concerned { get; set; } = false;\n",
    "}\n",
    "\n",
    "class JiraDbContext : DbContext\n",
    "{\n",
    "    public DbSet<TeamMember> TeamMembers { get; set; }\n",
    "\n",
    "    protected override void OnConfiguring(DbContextOptionsBuilder optionsBuilder)\n",
    "    {\n",
    "        var connectionString = \"Server=.;Database=JiraDb;Trusted_Connection=True;TrustServerCertificate=True;\";\n",
    "        optionsBuilder.UseSqlServer(connectionString);\n",
    "    }\n",
    "\n",
    "    protected override void OnModelCreating(ModelBuilder modelBuilder)\n",
    "    {\n",
    "        //base.OnModelCreating(modelBuilder);\n",
    "        modelBuilder.Entity<TeamMember>(entity =>\n",
    "        {\n",
    "            entity.HasIndex(e => e.TeamMemberEmail).IsUnique();\n",
    "        });\n",
    "    }\n",
    "}"
   ]
  },
  {
   "cell_type": "code",
   "execution_count": null,
   "metadata": {
    "dotnet_interactive": {
     "language": "csharp"
    },
    "polyglot_notebook": {
     "kernelName": "csharp"
    }
   },
   "outputs": [],
   "source": [
    "using(var db = new JiraDbContext())\n",
    "{\n",
    "    db.Database.EnsureCreated();\n",
    "\n",
    "    db.TeamMembers.Add(new TeamMember()\n",
    "    {\n",
    "            TeamMemberEmail = \"khurram.aziz@uworx.co.uk\", Concerned = true,\n",
    "            TeamMemberName = \"Khurram Aziz\"\n",
    "    });\n",
    "    db.SaveChanges();\n",
    "\n",
    "    var q = from m in db.TeamMembers\n",
    "            select m;\n",
    "        \n",
    "    foreach(var r in q)\n",
    "        Console.WriteLine($\"{r.TeamMemberId} - {r.TeamMemberEmail} - {r.TeamMemberName}\");\n",
    "}"
   ]
  },
  {
   "cell_type": "markdown",
   "metadata": {},
   "source": [
    "# Oracle?\n",
    "\n",
    "![Oracle?](images/stay-away.jpg)"
   ]
  }
 ],
 "metadata": {
  "kernelspec": {
   "display_name": ".NET (C#)",
   "language": "C#",
   "name": ".net-csharp"
  },
  "language_info": {
   "name": "polyglot-notebook"
  },
  "polyglot_notebook": {
   "kernelInfo": {
    "defaultKernelName": "csharp",
    "items": [
     {
      "aliases": [],
      "languageName": "csharp",
      "name": "csharp"
     }
    ]
   }
  }
 },
 "nbformat": 4,
 "nbformat_minor": 2
}
