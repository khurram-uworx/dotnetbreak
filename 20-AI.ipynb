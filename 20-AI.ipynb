{
 "cells": [
  {
   "cell_type": "markdown",
   "metadata": {},
   "source": [
    "# AI is \"cool\" with C#/.NET/Azure"
   ]
  },
  {
   "cell_type": "markdown",
   "metadata": {},
   "source": [
    "<img src=images/jupyter-notebook-meme.webp>"
   ]
  },
  {
   "cell_type": "markdown",
   "metadata": {},
   "source": [
    "__C# / .NET__\n",
    "- SIMD; Single instruction, multiple data\n",
    "    - https://learn.microsoft.com/en-us/dotnet/standard/simd\n",
    "- Numerics\n",
    "    - https://learn.microsoft.com/en-us/dotnet/api/system.numerics\n",
    "- AVX-512 ISA extension; Vector512 and AVX-512\n",
    "- Parallel Programming in C#/.NET\n",
    "- Functional Programming features of C#/.NET\n",
    "    - Async Programming\n",
    "    - Tuples, Immutable Data Types, Collections\n",
    "- Dataflow Library\n",
    "- Generic Math\n",
    "    - https://learn.microsoft.com/en-us/dotnet/standard/generics/math\n",
    "- F#\n",
    "- .NET Interactive"
   ]
  },
  {
   "cell_type": "code",
   "execution_count": null,
   "metadata": {
    "dotnet_interactive": {
     "language": "csharp"
    },
    "polyglot_notebook": {
     "kernelName": "csharp"
    }
   },
   "outputs": [],
   "source": [
    "public static System.Threading.Tasks.Task ForAsync<T>(T fromInclusive, T toExclusive,\n",
    "    System.Threading.Tasks.ParallelOptions parallelOptions,\n",
    "    Func<T,System.Threading.CancellationToken,System.Threading.Tasks.ValueTask> body)\n",
    "    \n",
    "    where T : System.Numerics.IBinaryInteger<T>;\n"
   ]
  },
  {
   "cell_type": "code",
   "execution_count": null,
   "metadata": {
    "dotnet_interactive": {
     "language": "csharp"
    },
    "polyglot_notebook": {
     "kernelName": "csharp"
    }
   },
   "outputs": [],
   "source": [
    "#r \"System.Runtime.Intrinsics\"\n",
    "System.Runtime.Intrinsics.Vector512.IsHardwareAccelerated"
   ]
  },
  {
   "cell_type": "markdown",
   "metadata": {},
   "source": [
    "__AI in .NET__\n",
    "- Data Science libraries\n",
    "- ML.NET\n",
    "    - https://www.nuget.org/packages/System.Numerics.Tensors\n",
    "    - https://www.nuget.org/packages/Microsoft.Data.Analysis\n",
    "- AutoML / Visual Studio\n",
    "- Semantic Kernel\n",
    "- Data Science Tools\n",
    "    - IronPython\n",
    "    - Python in Visual Studio and VS Code\n",
    "    - Polyglot Notebooks\n",
    "\n",
    "__Microsoft__\n",
    "- https://github.com/microsoft/CNTK; Microsoft Cognitive Toolkit\n",
    "\n",
    "*What about PyTorch and TensorFlow?*\n",
    "\n",
    "__Community__\n",
    "- https://github.com/dotnet/TorchSharp\n",
    "- https://scisharp.github.io/SciSharp\n",
    "\n",
    "\n",
    "__AI in Azure__\n",
    "- Azure AI Services\n",
    "- Azure Services that integrates well in AI Workloads; Serverless Computing; Cosmos DB (Notebooks)\n",
    "- OpenAI Services\n",
    "- AI Studio"
   ]
  },
  {
   "cell_type": "markdown",
   "metadata": {},
   "source": [
    "# .NET 💖 AI"
   ]
  },
  {
   "cell_type": "markdown",
   "metadata": {},
   "source": [
    "- https://dotnet.microsoft.com/en-us/apps/machinelearning-ai"
   ]
  },
  {
   "cell_type": "markdown",
   "metadata": {},
   "source": [
    "## Overview"
   ]
  },
  {
   "cell_type": "markdown",
   "metadata": {},
   "source": [
    "<img src=images/ai-net.jpg width=800>\n",
    "\n",
    "<img src=images/ai-net-2.jpg width=800>"
   ]
  },
  {
   "cell_type": "markdown",
   "metadata": {},
   "source": [
    "## Microsoft.Data.Analysis"
   ]
  },
  {
   "cell_type": "code",
   "execution_count": null,
   "metadata": {
    "dotnet_interactive": {
     "language": "csharp"
    },
    "polyglot_notebook": {
     "kernelName": "csharp"
    }
   },
   "outputs": [],
   "source": [
    "#r \"nuget:Microsoft.Data.Analysis\""
   ]
  },
  {
   "cell_type": "code",
   "execution_count": null,
   "metadata": {
    "dotnet_interactive": {
     "language": "csharp"
    },
    "polyglot_notebook": {
     "kernelName": "csharp"
    }
   },
   "outputs": [],
   "source": [
    "using Microsoft.Data.Analysis;\n",
    "\n",
    "var series = new PrimitiveDataFrameColumn<int>(\"MySeries\");\n",
    "\n",
    "series.Append(1);\n",
    "series.Append(2);\n",
    "series.Append(3);\n",
    "\n",
    "Console.WriteLine(series.Length);\n",
    "Console.WriteLine(series[0]);       // it works like array + something more\n",
    "\n",
    "series.CumulativeProduct() // pandas has cumprod; multiply value with previous value; 1 as is; 2 will become 2 x 1; 3 will become 3 x 2"
   ]
  },
  {
   "cell_type": "markdown",
   "metadata": {},
   "source": [
    "- https://pandas.pydata.org/docs/reference/api/pandas.DataFrame.cumprod.html"
   ]
  },
  {
   "cell_type": "code",
   "execution_count": null,
   "metadata": {
    "dotnet_interactive": {
     "language": "csharp"
    },
    "polyglot_notebook": {
     "kernelName": "csharp"
    }
   },
   "outputs": [],
   "source": [
    "// its .NET flavored; implements IEnumerable and hence you can use LINQ\n",
    "series.OrderByDescending(s => s).Take(1).FirstOrDefault();\n",
    "// linq and relational queries are good for row level computation\n",
    "// but its become hard to do reduce like operations where at row operation has some sense of positional context\n",
    "\n",
    "// in nutshell; you are getting best of both worlds"
   ]
  },
  {
   "cell_type": "code",
   "execution_count": null,
   "metadata": {
    "dotnet_interactive": {
     "language": "csharp"
    },
    "polyglot_notebook": {
     "kernelName": "csharp"
    }
   },
   "outputs": [],
   "source": [
    "using System.IO;\n",
    "using System.Linq;\n",
    "using Microsoft.Data.Analysis;\n",
    "\n",
    "var dataPath = Path.GetFullPath(@\"data\\house-prices.csv\");\n",
    "var dataFrame = DataFrame.LoadCsv(dataPath);"
   ]
  },
  {
   "cell_type": "code",
   "execution_count": null,
   "metadata": {
    "dotnet_interactive": {
     "language": "csharp"
    },
    "polyglot_notebook": {
     "kernelName": "csharp"
    }
   },
   "outputs": [],
   "source": [
    "//dataFrame.Info()\n",
    "dataFrame.Description()"
   ]
  },
  {
   "cell_type": "code",
   "execution_count": null,
   "metadata": {
    "dotnet_interactive": {
     "language": "csharp"
    },
    "polyglot_notebook": {
     "kernelName": "csharp"
    }
   },
   "outputs": [],
   "source": [
    "dataFrame[\"ComputedPrices\"] = dataFrame[\"HistoricalPrice\"].Multiply(2);"
   ]
  },
  {
   "cell_type": "code",
   "execution_count": null,
   "metadata": {
    "dotnet_interactive": {
     "language": "csharp"
    },
    "polyglot_notebook": {
     "kernelName": "csharp"
    }
   },
   "outputs": [],
   "source": [
    "dataFrame.GroupBy(\"Size\")"
   ]
  },
  {
   "cell_type": "code",
   "execution_count": null,
   "metadata": {
    "dotnet_interactive": {
     "language": "csharp"
    },
    "polyglot_notebook": {
     "kernelName": "csharp"
    }
   },
   "outputs": [],
   "source": [
    "PrimitiveDataFrameColumn<bool> boolFilter = dataFrame[\"CurrentPrice\"].ElementwiseGreaterThan(200000);\n",
    "DataFrame filteredDataFrame = dataFrame.Filter(boolFilter);\n",
    "filteredDataFrame"
   ]
  },
  {
   "cell_type": "markdown",
   "metadata": {},
   "source": [
    "- https://learn.microsoft.com/en-us/dotnet/machine-learning/how-to-guides/getting-started-dataframe\n",
    "- https://learn.microsoft.com/en-us/dotnet/machine-learning/how-to-guides/train-machine-learning-model-ml-net"
   ]
  },
  {
   "cell_type": "markdown",
   "metadata": {},
   "source": [
    "## ML.NET"
   ]
  },
  {
   "cell_type": "markdown",
   "metadata": {},
   "source": [
    "- https://devblogs.microsoft.com/dotnet/category/ml-dotnet/"
   ]
  },
  {
   "cell_type": "markdown",
   "metadata": {},
   "source": [
    "### Overview"
   ]
  },
  {
   "cell_type": "markdown",
   "metadata": {},
   "source": [
    "- https://www.nuget.org/packages/Microsoft.ML\n",
    "- https://dotnet.microsoft.com/en-us/apps/machinelearning-ai/ml-dotnet\n",
    "    - https://dotnet.microsoft.com/en-us/learn/ml-dotnet\n",
    "- https://github.com/dotnet/machinelearning"
   ]
  },
  {
   "cell_type": "markdown",
   "metadata": {},
   "source": [
    "<img src=images/mlnet-1.png>\n",
    "\n",
    "<img src=images/mlnet-architecture.png>"
   ]
  },
  {
   "cell_type": "code",
   "execution_count": null,
   "metadata": {
    "dotnet_interactive": {
     "language": "csharp"
    },
    "polyglot_notebook": {
     "kernelName": "csharp"
    }
   },
   "outputs": [],
   "source": [
    "#r \"nuget: Microsoft.ML\""
   ]
  },
  {
   "cell_type": "code",
   "execution_count": null,
   "metadata": {
    "dotnet_interactive": {
     "language": "csharp"
    },
    "polyglot_notebook": {
     "kernelName": "csharp"
    }
   },
   "outputs": [],
   "source": [
    "using Microsoft.ML;\n",
    "using Microsoft.ML.Data;\n",
    "\n",
    "var mlContext = new MLContext();"
   ]
  },
  {
   "cell_type": "code",
   "execution_count": null,
   "metadata": {
    "dotnet_interactive": {
     "language": "csharp"
    },
    "polyglot_notebook": {
     "kernelName": "csharp"
    }
   },
   "outputs": [],
   "source": [
    "class HouseData\n",
    "{\n",
    "    public float Size { get; set; }\n",
    "    public float Price { get; set; }\n",
    "}\n",
    "\n",
    "class Prediction\n",
    "{\n",
    "    [ColumnName(\"Score\")]\n",
    "    public float Price { get; set; }\n",
    "}\n",
    "\n",
    "HouseData[] houseData = {\n",
    "    new HouseData() { Size = 1.1F, Price = 1.2F },\n",
    "    new HouseData() { Size = 1.9F, Price = 2.3F },\n",
    "    new HouseData() { Size = 2.8F, Price = 3.0F },\n",
    "    new HouseData() { Size = 3.4F, Price = 3.7F } };\n",
    "\n",
    "\n",
    "IDataView trainingData = mlContext.Data.LoadFromEnumerable(houseData);"
   ]
  },
  {
   "cell_type": "code",
   "execution_count": null,
   "metadata": {
    "dotnet_interactive": {
     "language": "csharp"
    },
    "polyglot_notebook": {
     "kernelName": "csharp"
    }
   },
   "outputs": [],
   "source": [
    "var pipeline = mlContext.Transforms.Concatenate(\"Features\", new[] { \"Size\" })\n",
    "    .Append(mlContext.Regression.Trainers.Sdca(labelColumnName: \"Price\", maximumNumberOfIterations: 100));\n",
    "    \n",
    "var model = pipeline.Fit(trainingData);"
   ]
  },
  {
   "cell_type": "markdown",
   "metadata": {},
   "source": [
    "Now that we have the trained model; let test it out"
   ]
  },
  {
   "cell_type": "code",
   "execution_count": null,
   "metadata": {
    "dotnet_interactive": {
     "language": "csharp"
    },
    "polyglot_notebook": {
     "kernelName": "csharp"
    }
   },
   "outputs": [],
   "source": [
    "HouseData[] testData = {\n",
    "    new HouseData() { Size = 1.1F, Price = 1.2F },\n",
    "    new HouseData() { Size = 1.2F, Price = 1.5F },\n",
    "    new HouseData() { Size = 1.4F, Price = 1.7F },\n",
    "    new HouseData() { Size = 1.6F, Price = 1.9F },\n",
    "    new HouseData() { Size = 1.9F, Price = 2.3F },\n",
    "    new HouseData() { Size = 2.8F, Price = 3.0F },\n",
    "    new HouseData() { Size = 3.2F, Price = 3.5F },\n",
    "    new HouseData() { Size = 3.3F, Price = 3.6F },\n",
    "    new HouseData() { Size = 3.5F, Price = 3.9F }, \n",
    "    new HouseData() { Size = 3.7F, Price = 4.3F }, \n",
    "    new HouseData() { Size = 4.0F, Price = 6.1F }, \n",
    "    new HouseData() { Size = 5.0F, Price = 7.2F }, \n",
    "    new HouseData() { Size = 6.0F, Price = 8.5F }, \n",
    "    new HouseData() { Size = 7.0F, Price = 9.8F }, \n",
    "    new HouseData() { Size = 8.0F, Price = 10.3F }, \n",
    "};\n",
    "\n",
    "IDataView trainingTestData = mlContext.Data.LoadFromEnumerable(testData);\n",
    "IDataView transformedTestData = model.Transform(trainingTestData);\n",
    "\n",
    "RegressionMetrics trainedModelMetrics = mlContext.Regression.Evaluate(transformedTestData, labelColumnName: \"Size\");\n",
    "\n",
    "// Print the R-Squared value. The Closer to 1 indicates a better fitted model.\n",
    "Console.WriteLine($\"Coefficient of determination for the trained model: {trainedModelMetrics.RSquared:0.00}\");"
   ]
  },
  {
   "cell_type": "markdown",
   "metadata": {},
   "source": [
    "If we are happy with the model; we can use this for prediction"
   ]
  },
  {
   "cell_type": "code",
   "execution_count": null,
   "metadata": {
    "dotnet_interactive": {
     "language": "csharp"
    },
    "polyglot_notebook": {
     "kernelName": "csharp"
    }
   },
   "outputs": [],
   "source": [
    "var predictionEngine = mlContext.Model.CreatePredictionEngine<HouseData, Prediction>(model);\n",
    "\n",
    "var size = new HouseData() { Size = 2.5F };\n",
    "var price = predictionEngine.Predict(size);\n",
    "Console.WriteLine($\"Predicted price for size: {size.Size*1000} sq ft= {price.Price*100:C}k\");"
   ]
  },
  {
   "cell_type": "markdown",
   "metadata": {},
   "source": [
    "__Resources__\n",
    "- https://github.com/dotnet/csharp-notebooks/blob/main/machine-learning/01-Intro%20to%20Machine%20Learning.ipynb"
   ]
  },
  {
   "cell_type": "markdown",
   "metadata": {},
   "source": [
    "<img src=images/mlnet-2.png width=900>"
   ]
  },
  {
   "cell_type": "markdown",
   "metadata": {},
   "source": [
    "### Yolo"
   ]
  },
  {
   "cell_type": "markdown",
   "metadata": {},
   "source": [
    "Visual Studio ML.sln / ML.Onnx\n",
    "\n",
    "<img src=images/yolo.png>\n",
    "\n",
    "- https://netron.app; open onnx\n",
    "    - https://github.com/lutzroeder/netron desktop version"
   ]
  },
  {
   "cell_type": "markdown",
   "metadata": {},
   "source": [
    "__Further Readings__\n",
    "- https://learn.microsoft.com/en-us/dotnet/machine-learning/how-to-guides/save-load-machine-learning-models-ml-net\n",
    "- https://learn.microsoft.com/en-us/dotnet/machine-learning/tutorials/object-detection-onnx\n",
    "    - https://github.com/dotnet/machinelearning-samples/tree/main/samples/csharp/getting-started/DeepLearning_ObjectDetection_Onnx\n",
    "- https://learn.microsoft.com/en-us/azure/machine-learning/how-to-use-automl-onnx-model-dotnet"
   ]
  },
  {
   "cell_type": "markdown",
   "metadata": {},
   "source": [
    "### Bert"
   ]
  },
  {
   "cell_type": "markdown",
   "metadata": {},
   "source": [
    "Visual Studio ML.sln / ML.Classifier\n",
    "\n",
    "- https://blog.google/products/search/search-language-understanding-bert\n",
    "- https://huggingface.co/docs/transformers/model_doc/bert\n",
    "\n",
    "<img src=images/bert-embedings.png width=800>"
   ]
  },
  {
   "cell_type": "markdown",
   "metadata": {},
   "source": [
    "__Further Readings__\n",
    "- 👉 https://txt.cohere.com/what-are-transformer-models\n",
    "- https://learn.microsoft.com/en-us/dotnet/machine-learning/tutorials/object-detection-onnx\n",
    "    - https://github.com/dotnet/machinelearning-samples/tree/main/samples/csharp/getting-started/DeepLearning_ObjectDetection_Onnx\n",
    "- https://learn.microsoft.com/en-us/azure/machine-learning/how-to-use-automl-onnx-model-dotnet"
   ]
  },
  {
   "cell_type": "markdown",
   "metadata": {},
   "source": [
    "## Model Builder"
   ]
  },
  {
   "cell_type": "markdown",
   "metadata": {},
   "source": [
    "<img src=images/model-builder-train-done.png width=800>\n",
    "\n",
    "- https://chat.openai.com/share/a507e145-8d85-4850-b00f-e8c2cb612c56"
   ]
  },
  {
   "cell_type": "markdown",
   "metadata": {},
   "source": [
    "__Further ML.NET Resources__\n",
    "- https://learn.microsoft.com/en-us/dotnet/machine-learning/tutorials\n",
    "- https://github.com/dotnet/machinelearning-samples"
   ]
  },
  {
   "cell_type": "markdown",
   "metadata": {},
   "source": [
    "## Semantic Kernel"
   ]
  },
  {
   "cell_type": "markdown",
   "metadata": {},
   "source": [
    "- https://github.com/microsoft/semantic-kernel\n",
    "\n",
    "<img src=images/sk.png>"
   ]
  }
 ],
 "metadata": {
  "kernelspec": {
   "display_name": ".NET (C#)",
   "language": "C#",
   "name": ".net-csharp"
  },
  "language_info": {
   "name": "polyglot-notebook"
  },
  "polyglot_notebook": {
   "kernelInfo": {
    "defaultKernelName": "csharp",
    "items": [
     {
      "aliases": [],
      "languageName": "csharp",
      "name": "csharp"
     }
    ]
   }
  }
 },
 "nbformat": 4,
 "nbformat_minor": 2
}
