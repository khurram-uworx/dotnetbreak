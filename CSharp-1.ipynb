{
 "cells": [
  {
   "cell_type": "markdown",
   "metadata": {},
   "source": [
    "# Common Type System\n",
    "\n",
    "Object\n",
    "\n",
    "Reference Types\n",
    "Value Types\n",
    "\n",
    "Classes, Structure"
   ]
  },
  {
   "cell_type": "code",
   "execution_count": null,
   "metadata": {
    "dotnet_interactive": {
     "language": "csharp"
    },
    "polyglot_notebook": {
     "kernelName": "csharp"
    }
   },
   "outputs": [],
   "source": [
    "System.Int32 i;         //the underlying common type; its structure btw and hence value type\n",
    "int j;                  //C#\n",
    "//Dim k As Integer      might be in BASIC; not sure for exact syntax\n",
    "//let x:int32 = 10      F# syntax; mouthful; int32 is optional; we usually use let x = 10\n",
    "\n",
    "class Person\n",
    "{\n",
    "    public string Name { get; set; }\n",
    "}\n",
    "\n",
    "var p = new Person();\n",
    "int k = 5;"
   ]
  },
  {
   "cell_type": "markdown",
   "metadata": {},
   "source": [
    "# Delegates\n",
    "\n",
    "https://learn.microsoft.com/en-us/dotnet/csharp/delegates-overview"
   ]
  },
  {
   "cell_type": "code",
   "execution_count": null,
   "metadata": {
    "dotnet_interactive": {
     "language": "csharp"
    },
    "polyglot_notebook": {
     "kernelName": "csharp"
    }
   },
   "outputs": [],
   "source": [
    "delegate void DelegateString(string s);\n",
    "\n",
    "void print(string s)\n",
    "{\n",
    "    Console.WriteLine($\"Printing {s}\");\n",
    "}\n",
    "\n",
    "DelegateString d = print;\n",
    "\n",
    "//lets call our delegate\n",
    "d(\"Hi there\");\n",
    "d.Invoke(\"Hello World\");    //delegate itself is \"type\" and Invoke() is coming from there\n",
    "d?.Invoke(\"Hello World\");   //ensuring delegate is not null before calling it"
   ]
  },
  {
   "cell_type": "code",
   "execution_count": null,
   "metadata": {
    "dotnet_interactive": {
     "language": "csharp"
    },
    "polyglot_notebook": {
     "kernelName": "csharp"
    }
   },
   "outputs": [],
   "source": [
    "//Multicasting\n",
    "void log(string s)\n",
    "{\n",
    "    Console.WriteLine($\"Wrote {s} in log file\");\n",
    "}\n",
    "                            //C# has support of operator overloading; similar to C/C++\n",
    "d += log;                   //for delegate type; += operator is overloaded for \"Multicasting\"\n",
    "\n",
    "d(\"Lets see\");              //we should be invoking print and log methods"
   ]
  },
  {
   "cell_type": "code",
   "execution_count": null,
   "metadata": {
    "dotnet_interactive": {
     "language": "csharp"
    },
    "polyglot_notebook": {
     "kernelName": "csharp"
    }
   },
   "outputs": [],
   "source": [
    "delegate int Calculate(int x, int y);\n",
    "Calculate add = (x, y) => { Console.WriteLine($\"add({x}, {y})\"); return x + y; };\n",
    "var addition = add(1, 2);\n",
    "\n",
    "add += (x, y) => { Console.WriteLine($\"add-2({x}, {y})\"); return 2 + x + y; };\n",
    "add(3, 4)"
   ]
  },
  {
   "cell_type": "markdown",
   "metadata": {},
   "source": [
    "# OOP\n",
    "\n",
    "- Abstract Classes cannt be instantiated\n",
    "- Properties is first class concept\n",
    "- Interfaces; names are ISomething; classes and interfaces can inherit multiple interfaces\n",
    "- Sealed Classes; how they are important for Performance (Virtual Table is finalized)"
   ]
  },
  {
   "cell_type": "code",
   "execution_count": null,
   "metadata": {
    "dotnet_interactive": {
     "language": "csharp"
    },
    "polyglot_notebook": {
     "kernelName": "csharp"
    }
   },
   "outputs": [],
   "source": [
    "interface IResizeable\n",
    "{}\n",
    "\n",
    "interface IMoveable\n",
    "{}\n",
    "\n",
    "abstract class Shape : IResizeable, IMoveable\n",
    "{}\n",
    "\n",
    "//var s = new Shape();  will not work\n",
    "\n",
    "class Square : Shape\n",
    "{\n",
    "    public int Side { get; set; }\n",
    "}\n",
    "\n",
    "sealed class Rectange : Shape\n",
    "{\n",
    "    public int Height { get; set; }\n",
    "    public int Width { get; set; }\n",
    "}"
   ]
  }
 ],
 "metadata": {
  "kernelspec": {
   "display_name": ".NET (C#)",
   "language": "C#",
   "name": ".net-csharp"
  },
  "language_info": {
   "name": "polyglot-notebook"
  },
  "polyglot_notebook": {
   "kernelInfo": {
    "defaultKernelName": "csharp",
    "items": [
     {
      "aliases": [],
      "languageName": "csharp",
      "name": "csharp"
     }
    ]
   }
  }
 },
 "nbformat": 4,
 "nbformat_minor": 2
}
