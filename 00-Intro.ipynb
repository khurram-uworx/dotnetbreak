{
 "cells": [
  {
   "cell_type": "markdown",
   "metadata": {},
   "source": [
    "# Recap"
   ]
  },
  {
   "cell_type": "markdown",
   "metadata": {},
   "source": [
    "<p><img src=images/csharp-features.png></p>\n",
    "\n",
    "- C# is COOL (C Object Oriented Language)\n",
    "    - Its Java; but closer to C/C++ and something more\n",
    "- Working and picking ASP.NET is fine; other than Dependency Injection\n",
    "- LINQ is nice\n",
    "\n",
    "<p><img src=images/csharp-linux-azure.png width=600></p>"
   ]
  },
  {
   "cell_type": "markdown",
   "metadata": {},
   "source": [
    "# This Week: Azure"
   ]
  },
  {
   "cell_type": "markdown",
   "metadata": {},
   "source": [
    "- .NET Ecosystem: Open Source / Community Stuff; how we assembled JiraWorklogs\n",
    "- Azure: Any Platform; Any Language; .NET is supported by all Cloud Providers\n",
    "- __.NET Ecosystem for Azure__\n",
    "\n",
    "<p><img src=images/cloud-meme.webp></p>"
   ]
  },
  {
   "cell_type": "markdown",
   "metadata": {},
   "source": [
    "# C# Language; Runtime; Tools"
   ]
  },
  {
   "cell_type": "markdown",
   "metadata": {},
   "source": [
    "- Object Oriented First / *Wanna Be Functional*\n",
    "- Code should look & feel cool\n",
    "- Compiler has some tricks\n",
    "- Base Class Library is tastefully done\n",
    "- InterOp is important\n",
    "- Performance is important\n",
    "- Tooling is great\n",
    "- Cool Libraries can be made\n",
    "    - https://learn.microsoft.com/en-us/dotnet/csharp/linq/\n",
    "    - https://reactivex.io\n",
    "    - https://github.com/louthy/language-ext"
   ]
  },
  {
   "cell_type": "markdown",
   "metadata": {},
   "source": [
    "# Windows Server"
   ]
  },
  {
   "cell_type": "markdown",
   "metadata": {},
   "source": [
    "- Internet Information Services (IIS); https://en.wikipedia.org/wiki/Internet_Information_Services\n",
    "- COM / COM+; https://en.wikipedia.org/wiki/Component_Object_Model\n",
    "- MSMQ; https://en.wikipedia.org/wiki/Microsoft_Message_Queuing"
   ]
  },
  {
   "cell_type": "markdown",
   "metadata": {},
   "source": [
    "# SQL Server"
   ]
  },
  {
   "cell_type": "markdown",
   "metadata": {},
   "source": [
    "- Windows, Linux, Docker, Azure/AWS\n",
    "- Its not just Relational Database Engine (OTLP)\n",
    "    - OLAP: Analysis Server\n",
    "    - BI: Reporting Server\n",
    "    - ETL: Integration Services\n",
    "    - ML: Machine Learning Services /w R, Python, Java and C#"
   ]
  },
  {
   "cell_type": "markdown",
   "metadata": {},
   "source": [
    "# ASP.NET"
   ]
  },
  {
   "cell_type": "markdown",
   "metadata": {},
   "source": [
    "- ASP.NET and ASP.NET Core\n",
    "- MVC & Web APIs\n",
    "- Entity Framework"
   ]
  },
  {
   "cell_type": "markdown",
   "metadata": {},
   "source": [
    "# Ramblings"
   ]
  },
  {
   "cell_type": "markdown",
   "metadata": {},
   "source": [
    "<img src=images/top-programming-languages-2023.webp width=900>\n",
    "\n",
    "<img src=images/github-top-languages-by-percentage-growth.webp width=900>"
   ]
  }
 ],
 "metadata": {
  "kernelspec": {
   "display_name": ".NET (C#)",
   "language": "C#",
   "name": ".net-csharp"
  },
  "language_info": {
   "name": "polyglot-notebook"
  },
  "polyglot_notebook": {
   "kernelInfo": {
    "defaultKernelName": "csharp",
    "items": [
     {
      "aliases": [],
      "languageName": "csharp",
      "name": "csharp"
     }
    ]
   }
  }
 },
 "nbformat": 4,
 "nbformat_minor": 2
}
