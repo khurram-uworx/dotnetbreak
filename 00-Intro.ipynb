{
 "cells": [
  {
   "cell_type": "markdown",
   "metadata": {},
   "source": [
    "# Where are we?"
   ]
  },
  {
   "cell_type": "markdown",
   "metadata": {},
   "source": [
    "- C# is COOL\n",
    "- .NET 💖 Linux\n",
    "- Azure 💖 .NET\n",
    "- Its a forward looking ecosystem"
   ]
  },
  {
   "cell_type": "markdown",
   "metadata": {},
   "source": [
    "# Azure Week Recap"
   ]
  },
  {
   "cell_type": "markdown",
   "metadata": {},
   "source": [
    "<img src=images/cloud-meme-2.jpeg>\n",
    "\n",
    "- .NET is supported by all Cloud Providers\n",
    "- Azure: Any Platform; Any Language\n",
    "- .NET shines in Azure\n",
    "\n",
    "<img src=images/azure-arch-ecomm.png width=900><br>\n",
    "https://github.com/Azure/azure-search-vector-samples/blob/main/demo-python/code/azure-search-integrated-vectorization-sample.ipynb<br>\n",
    "https://www.youtube.com/watch?v=_2Ax43Dd3Fg\n",
    "\n",
    "<img src=images/azure-arch-high-web.png width=900><br>\n",
    "https://learn.microsoft.com/en-us/azure/architecture/web-apps/app-service-environment/architectures/ase-high-availability-deployment\n",
    "\n",
    "- https://learn.microsoft.com/en-us/azure/architecture/browse"
   ]
  },
  {
   "cell_type": "markdown",
   "metadata": {},
   "source": [
    "# C# Language; Runtime; Tools"
   ]
  },
  {
   "cell_type": "markdown",
   "metadata": {},
   "source": [
    "<img src=images/csharp-features.png>\n",
    "\n",
    "- COOL (C Object Oriented Language)\n",
    "- Object Oriented First / *Wanna Be Functional*\n",
    "- Code should look & feel cool\n",
    "- Compiler has some tricks\n",
    "- Base Class Library is tastefully done\n",
    "- InterOp is important\n",
    "- Performance is important\n",
    "- Tooling is great\n",
    "- Cool Libraries can be made\n",
    "    - https://learn.microsoft.com/en-us/dotnet/csharp/linq/\n",
    "    - https://reactivex.io\n",
    "    - https://github.com/louthy/language-ext"
   ]
  },
  {
   "cell_type": "markdown",
   "metadata": {},
   "source": [
    "# Windows Server"
   ]
  },
  {
   "cell_type": "markdown",
   "metadata": {},
   "source": [
    "- Internet Information Services (IIS); https://en.wikipedia.org/wiki/Internet_Information_Services\n",
    "- COM / COM+; https://en.wikipedia.org/wiki/Component_Object_Model\n",
    "- MSMQ; https://en.wikipedia.org/wiki/Microsoft_Message_Queuing"
   ]
  },
  {
   "cell_type": "markdown",
   "metadata": {},
   "source": [
    "# SQL Server"
   ]
  },
  {
   "cell_type": "markdown",
   "metadata": {},
   "source": [
    "- Windows, Linux, Docker, Azure/AWS\n",
    "- Its not just Relational Database Engine (OTLP)\n",
    "    - OLAP: Analysis Server\n",
    "    - BI: Reporting Server\n",
    "    - ETL: Integration Services\n",
    "    - ML: Machine Learning Services /w R, Python, Java and C#"
   ]
  },
  {
   "cell_type": "markdown",
   "metadata": {},
   "source": [
    "# ASP.NET"
   ]
  },
  {
   "cell_type": "markdown",
   "metadata": {},
   "source": [
    "- ASP.NET and ASP.NET Core\n",
    "- MVC & Web APIs\n",
    "- Entity Framework"
   ]
  },
  {
   "cell_type": "markdown",
   "metadata": {},
   "source": [
    "# Azure"
   ]
  },
  {
   "cell_type": "markdown",
   "metadata": {},
   "source": [
    "- Azure: Any Platform; Any Language\n",
    "- .NET shines in Azure"
   ]
  },
  {
   "cell_type": "markdown",
   "metadata": {},
   "source": [
    "# Ramblings"
   ]
  },
  {
   "cell_type": "markdown",
   "metadata": {},
   "source": [
    "<img src=images/top-programming-languages-2023.webp width=900>\n",
    "\n",
    "<img src=images/github-top-languages-by-percentage-growth.webp width=900>"
   ]
  }
 ],
 "metadata": {
  "kernelspec": {
   "display_name": ".NET (C#)",
   "language": "C#",
   "name": ".net-csharp"
  },
  "language_info": {
   "name": "polyglot-notebook"
  },
  "polyglot_notebook": {
   "kernelInfo": {
    "defaultKernelName": "csharp",
    "items": [
     {
      "aliases": [],
      "languageName": "csharp",
      "name": "csharp"
     }
    ]
   }
  }
 },
 "nbformat": 4,
 "nbformat_minor": 2
}
