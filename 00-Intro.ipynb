{
 "cells": [
  {
   "cell_type": "markdown",
   "metadata": {},
   "source": [
    "# Where are we?"
   ]
  },
  {
   "cell_type": "markdown",
   "metadata": {},
   "source": [
    "- C# is COOL\n",
    "- .NET 💖 Linux\n",
    "- .NET 💖 AI\n",
    "- Azure 💖 .NET\n",
    "- Azure 💖 AI\n",
    "- Microsoft 365 and Dynamics 365 opportunities\n",
    "- Its a forward looking ecosystem"
   ]
  },
  {
   "cell_type": "markdown",
   "metadata": {},
   "source": [
    "# C# Language; Runtime; Tools"
   ]
  },
  {
   "cell_type": "markdown",
   "metadata": {},
   "source": [
    "<img src=images/csharp-features.png>\n",
    "\n",
    "- COOL (C Object Oriented Language)\n",
    "- Object Oriented First / *Wanna Be Functional*\n",
    "- Code should look & feel cool\n",
    "- Compiler has some tricks\n",
    "- Base Class Library is tastefully done\n",
    "- InterOp is important\n",
    "- Performance is important\n",
    "- Tooling is great\n",
    "- Cool Libraries can be made\n",
    "    - https://learn.microsoft.com/en-us/dotnet/csharp/linq/\n",
    "    - https://reactivex.io\n",
    "    - https://github.com/louthy/language-ext"
   ]
  },
  {
   "cell_type": "markdown",
   "metadata": {},
   "source": [
    "# Windows Server"
   ]
  },
  {
   "cell_type": "markdown",
   "metadata": {},
   "source": [
    "- Internet Information Services (IIS); https://en.wikipedia.org/wiki/Internet_Information_Services\n",
    "- COM / COM+; https://en.wikipedia.org/wiki/Component_Object_Model\n",
    "- MSMQ; https://en.wikipedia.org/wiki/Microsoft_Message_Queuing"
   ]
  },
  {
   "cell_type": "markdown",
   "metadata": {},
   "source": [
    "# SQL Server"
   ]
  },
  {
   "cell_type": "markdown",
   "metadata": {},
   "source": [
    "- Windows, Linux, Docker, Azure/AWS\n",
    "- Its not just Relational Database Engine (OTLP)\n",
    "    - OLAP: Analysis Server\n",
    "    - BI: Reporting Server\n",
    "    - ETL: Integration Services\n",
    "    - ML: Machine Learning Services /w R, Python, Java and C#"
   ]
  },
  {
   "cell_type": "markdown",
   "metadata": {},
   "source": [
    "# ASP.NET"
   ]
  },
  {
   "cell_type": "markdown",
   "metadata": {},
   "source": [
    "- ASP.NET and ASP.NET Core\n",
    "- MVC & Web APIs\n",
    "- Entity Framework"
   ]
  },
  {
   "cell_type": "markdown",
   "metadata": {},
   "source": [
    "# Azure"
   ]
  },
  {
   "cell_type": "markdown",
   "metadata": {},
   "source": [
    "- Azure: Any Platform; Any Language\n",
    "- .NET shines in Azure"
   ]
  },
  {
   "cell_type": "markdown",
   "metadata": {},
   "source": [
    "<img src=images/cloud-meme-2.jpeg>\n",
    "\n",
    "- .NET is supported by all Cloud Providers\n",
    "- Azure: Any Platform; Any Language\n",
    "- .NET shines in Azure\n",
    "\n",
    "<img src=images/azure-arch-ecomm.png width=900><br>\n",
    "https://github.com/Azure/azure-search-vector-samples/blob/main/demo-python/code/azure-search-integrated-vectorization-sample.ipynb<br>\n",
    "https://www.youtube.com/watch?v=_2Ax43Dd3Fg\n",
    "\n",
    "<img src=images/azure-arch-high-web.png width=900><br>\n",
    "https://learn.microsoft.com/en-us/azure/architecture/web-apps/app-service-environment/architectures/ase-high-availability-deployment\n",
    "\n",
    "- https://learn.microsoft.com/en-us/azure/architecture/browse"
   ]
  },
  {
   "cell_type": "markdown",
   "metadata": {},
   "source": [
    "# Ramblings"
   ]
  },
  {
   "cell_type": "markdown",
   "metadata": {},
   "source": [
    "<img src=images/top-programming-languages-2023.webp width=900>\n",
    "\n",
    "<img src=images/github-top-languages-by-percentage-growth.webp width=900>"
   ]
  },
  {
   "cell_type": "markdown",
   "metadata": {},
   "source": [
    "# Conferences"
   ]
  },
  {
   "cell_type": "markdown",
   "metadata": {},
   "source": [
    "## Build"
   ]
  },
  {
   "cell_type": "markdown",
   "metadata": {},
   "source": [
    "an annual conference event aimed at software engineers and web developers using Windows, Microsoft Azure and other Microsoft technologies\n",
    "\n",
    "- https://build.microsoft.com\n",
    "- Last Keynote; May 2023\n",
    "    - https://build.microsoft.com/en-US/archives/81215af5-c813-4dcd-aede-94f4e1a7daa3\n",
    "    - GPT Powered Bing Chat\n",
    "    - Copilots\n",
    "        - Microsoft 365 Copilot and Plugins\n",
    "        - Copilot in Power BI\n",
    "        - Copilots in Windows and Edge\n",
    "    - Azure AI Studio\n",
    "    - Microsoft Fabric\n",
    "    - Github Advanced Security"
   ]
  },
  {
   "cell_type": "markdown",
   "metadata": {},
   "source": [
    "## Ignite"
   ]
  },
  {
   "cell_type": "markdown",
   "metadata": {},
   "source": [
    "an annual conference for developers and IT professionals\n",
    "\n",
    "- https://ignite.microsoft.com\n",
    "- Last Keynote; November 2023\n",
    "    - https://ignite.microsoft.com/en-US/sessions/bff678f5-f533-4ad0-9905-6ac35c9704ad\n",
    "    - Copilots\n",
    "        - Azure, Dynamics 365,\n",
    "        - Copilot Studio\n",
    "        - Copilot for Services\n",
    "    - Windows AI Studio\n",
    "    - AI Chips\n",
    "    - Nvidia Partnership\n",
    "    - AI based Cybersecurity offerings"
   ]
  },
  {
   "cell_type": "markdown",
   "metadata": {},
   "source": [
    "## Inspire"
   ]
  },
  {
   "cell_type": "markdown",
   "metadata": {},
   "source": [
    "conference held annually for Microsoft partner community. At Inspire, partners are taught about Microsoft's roadmap for the upcoming year, network and build connections, share best practices, experience the latest product innovations, and learn new skills and techniques\n",
    "\n",
    "- https://inspire.microsoft.com\n",
    "- Last Keynote; July 2023\n",
    "    - https://inspire.microsoft.com/en-US/sessions/1825ce5e-db73-4a96-9f87-f1c0de86112b\n",
    "    - Microsoft 365 Copilot\n",
    "    - AI Cloud Partner Program\n",
    "    - Bing Chat Enterprise\n",
    "    - Sales Copilot\n",
    "    - AI PoweredProcess Mining in Power Automate\n",
    "    - Llama 2 / Meta"
   ]
  },
  {
   "cell_type": "markdown",
   "metadata": {},
   "source": [
    "## .NET Conf"
   ]
  },
  {
   "cell_type": "markdown",
   "metadata": {},
   "source": [
    "conference held annually for Microsoft partner community. At Inspire, partners are taught about Microsoft's roadmap for the upcoming year, network and build connections, share best practices, experience the latest product innovations, and learn new skills and techniques\n",
    "\n",
    "- https://www.dotnetconf.net\n",
    "- Last Keynote; November 2023\n",
    "    - https://www.youtube.com/watch?v=mna5fg7QGz8\n",
    "    - .NET 8\n",
    "    - .NET MAUI\n",
    "    - Blazor Hybrid"
   ]
  },
  {
   "cell_type": "markdown",
   "metadata": {},
   "source": [
    "# Blogs"
   ]
  },
  {
   "cell_type": "markdown",
   "metadata": {},
   "source": [
    "- https://devblogs.microsoft.com\n",
    "- https://azure.microsoft.com/en-us/blog\n",
    "- https://www.microsoft.com/en-us/microsoft-365/blog\n",
    "- https://blogs.windows.com\n",
    "- https://blogs.microsoft.com"
   ]
  },
  {
   "cell_type": "markdown",
   "metadata": {},
   "source": [
    "# Youtube"
   ]
  },
  {
   "cell_type": "markdown",
   "metadata": {},
   "source": [
    "- https://www.youtube.com/microsoft\n",
    "- https://www.youtube.com/MicrosoftDeveloper\n",
    "- https://www.youtube.com/Microsoft365\n",
    "- https://www.youtube.com/dotnet\n",
    "- https://www.youtube.com/c/MicrosoftIgnite\n",
    "- https://www.youtube.com/@MSFTMechanics\n",
    "- https://www.youtube.com/@visualstudio\n",
    "- https://www.youtube.com/@MicrosoftResearch\n",
    "- https://www.youtube.com/@MicrosoftAzure\n",
    "- https://www.youtube.com/@MicrosoftEDU\n",
    "- https://www.youtube.com/@MicrosoftCloud\n",
    "- https://www.youtube.com/@MicrosoftDynamics365\n",
    "- https://www.youtube.com/@MicrosoftTeams\n",
    "- https://www.youtube.com/@mspowerplatform\n",
    "- https://www.youtube.com/@Microsoft365Developer"
   ]
  }
 ],
 "metadata": {
  "kernelspec": {
   "display_name": ".NET (C#)",
   "language": "C#",
   "name": ".net-csharp"
  },
  "language_info": {
   "name": "polyglot-notebook"
  },
  "polyglot_notebook": {
   "kernelInfo": {
    "defaultKernelName": "csharp",
    "items": [
     {
      "aliases": [],
      "languageName": "csharp",
      "name": "csharp"
     }
    ]
   }
  }
 },
 "nbformat": 4,
 "nbformat_minor": 2
}
