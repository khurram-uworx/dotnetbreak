{
 "cells": [
  {
   "cell_type": "code",
   "execution_count": null,
   "metadata": {
    "dotnet_interactive": {
     "language": "csharp"
    },
    "polyglot_notebook": {
     "kernelName": "csharp"
    },
    "vscode": {
     "languageId": "polyglot-notebook"
    }
   },
   "outputs": [],
   "source": [
    "volumes:\n",
    "  pgdata:\n",
    "\n",
    "  postgres:\n",
    "    container_name: postgres\n",
    "    image: postgres\n",
    "    volumes:\n",
    "    - pgdata:/var/lib/postgresql/data\n",
    "    environment:\n",
    "      POSTGRES_PASSWORD: uworx"
   ]
  },
  {
   "cell_type": "markdown",
   "metadata": {},
   "source": [
    "# Reflection"
   ]
  },
  {
   "cell_type": "markdown",
   "metadata": {},
   "source": [
    "- inspect and manipulate metadata of types and members (such as fields, properties, methods, constructors, etc.)\n",
    "- Java had reflection (API) but annotations were added later; C# always had reflection and attributes (annotation in C# / .NET is called attributes)\n",
    "- Three building blocks\n",
    "    - Query Information; type, properties, methods, their modifiers etc; Attributes compliment Reflection nicely\n",
    "    - Access Properties; values of given object and invoke methods\n",
    "    - the ability to dynamically create instances of types"
   ]
  },
  {
   "cell_type": "code",
   "execution_count": null,
   "metadata": {
    "dotnet_interactive": {
     "language": "csharp"
    },
    "polyglot_notebook": {
     "kernelName": "csharp"
    },
    "vscode": {
     "languageId": "polyglot-notebook"
    }
   },
   "outputs": [],
   "source": [
    "using System.ComponentModel.DataAnnotations;\n",
    "using System.Reflection;\n",
    "\n",
    "class Person\n",
    "{\n",
    "    [Required]\n",
    "    public int PersonId { get; set; }\n",
    "    public string FirstName { get; set; }\n",
    "    public string LastName { get; set; }\n",
    "}\n",
    "\n",
    "var person = new Person() { FirstName = \"Khurram\", LastName = \"Aziz\" };\n",
    "Type type = person.GetType();       //we have typeof() operator; we can do type == typeof(Person) for type checking etc\n",
    "Console.WriteLine(type);\n",
    "\n",
    "foreach(var p in type.GetProperties())  // why its type.GetProperties() and not type.Properties ? \n",
    "{\n",
    "    Console.Write($\"{p.Name} : {p.PropertyType}\");\n",
    "    bool isRequired = Attribute.IsDefined(p, typeof(RequiredAttribute));\n",
    "\n",
    "    if (isRequired)\n",
    "        Console.WriteLine($\" Required; Value: {p.GetValue(person)}\");\n",
    "    else\n",
    "        Console.WriteLine();\n",
    "}"
   ]
  },
  {
   "cell_type": "code",
   "execution_count": null,
   "metadata": {
    "dotnet_interactive": {
     "language": "csharp"
    },
    "polyglot_notebook": {
     "kernelName": "csharp"
    },
    "vscode": {
     "languageId": "polyglot-notebook"
    }
   },
   "outputs": [],
   "source": [
    "// LINQ and Reflection\n",
    "\n",
    "using System.Reflection;\n",
    "\n",
    "var assembly = Assembly.Load(\"System.Private.CoreLib\");//, Version=7.0.0.0, Culture=neutral, PublicKeyToken=7cec85d7bea7798e\");\n",
    "                                                        // assembly full name\n",
    "var query = from type in assembly.GetTypes()\n",
    "            where type.IsPublic\n",
    "            from method in type.GetMethods()\n",
    "            where method.ReturnType.IsArray == true\n",
    "                || (\n",
    "                    method.ReturnType.GetInterface(typeof(System.Collections.Generic.IEnumerable<>).FullName!) != null\n",
    "                    && method.ReturnType.FullName != \"System.String\"\n",
    "                )\n",
    "            group method.ToString() by type.ToString();\n",
    "\n",
    "foreach (var groupOfMethods in query.Take(10))  // lets just take top 10\n",
    "{\n",
    "    Console.WriteLine(\"Type: {0}\", groupOfMethods.Key);\n",
    "    foreach (var method in groupOfMethods)\n",
    "        Console.WriteLine(\"  {0}\", method);\n",
    "}"
   ]
  },
  {
   "cell_type": "markdown",
   "metadata": {},
   "source": [
    "- Replacing / Complimenting Dependency Injection\n",
    "    - https://autofac.org\n",
    "    - https://github.com/khellang/Scrutor"
   ]
  },
  {
   "cell_type": "code",
   "execution_count": null,
   "metadata": {
    "dotnet_interactive": {
     "language": "csharp"
    },
    "polyglot_notebook": {
     "kernelName": "csharp"
    },
    "vscode": {
     "languageId": "polyglot-notebook"
    }
   },
   "outputs": [],
   "source": [
    "//autofac example\n",
    "\n",
    "var builder = new ContainerBuilder();\n",
    "// Register individual components\n",
    "builder.RegisterInstance(new TaskRepository())\n",
    "       .As<ITaskRepository>();\n",
    "builder.RegisterType<TaskController>();\n",
    "builder.Register(c => new LogManager(DateTime.Now))\n",
    "       .As<ILogger>();\n",
    " \n",
    "// Scan an assembly for components\n",
    "builder.RegisterAssemblyTypes(myAssembly)\n",
    "       .Where(t => t.Name.EndsWith(\"Repository\"))\n",
    "       .AsImplementedInterfaces();\n",
    " \n",
    "var container = builder.Build();"
   ]
  },
  {
   "cell_type": "markdown",
   "metadata": {},
   "source": [
    "How to create instances, invoke methods; lets discuss this in next session\n",
    "__Further Readings__\n",
    "- https://learn.microsoft.com/en-us/dotnet/csharp/advanced-topics/reflection-and-attributes"
   ]
  },
  {
   "cell_type": "markdown",
   "metadata": {},
   "source": [
    "# Nuget of the day"
   ]
  },
  {
   "cell_type": "markdown",
   "metadata": {},
   "source": [
    "- https://www.nuget.org/packages/Scrutor\n",
    "- https://github.com/khellang/Scrutor"
   ]
  },
  {
   "cell_type": "code",
   "execution_count": null,
   "metadata": {
    "dotnet_interactive": {
     "language": "csharp"
    },
    "polyglot_notebook": {
     "kernelName": "csharp"
    },
    "vscode": {
     "languageId": "polyglot-notebook"
    }
   },
   "outputs": [],
   "source": [
    "services.Scan(scan =>\n",
    "    scan.FromCallingAssembly()\n",
    "        .AddClasses()\n",
    "        .AsMatchingInterface()\n",
    "        .WithTransientLifetime());  // optional"
   ]
  },
  {
   "cell_type": "markdown",
   "metadata": {},
   "source": [
    "# Microservices"
   ]
  },
  {
   "cell_type": "markdown",
   "metadata": {},
   "source": [
    "- https://learn.microsoft.com/en-us/dotnet/architecture/microservices\n",
    "- Microservices are small, independent, and loosely coupled.\n",
    "- Each service is a separate codebase,  __A single small team of developers can write and maintain a service__\n",
    "- Services can be deployed independently. __A team can update an existing service without rebuilding and redeploying the entire application__\n",
    "- __Supports polyglot programming__. For example, services don't need to share the same technology stack, libraries, or frameworks\n",
    "- Services communicate with each other by using well-defined APIs. Internal implementation details of each service are hidden from other services\n",
    "- __*Services are responsible for persisting their own data or external state*__. This differs from the traditional model, where a separate data layer handles data persistence\n",
    "- __Cloud__: https://learn.microsoft.com/en-us/azure/architecture/microservices"
   ]
  },
  {
   "cell_type": "code",
   "execution_count": null,
   "metadata": {
    "dotnet_interactive": {
     "language": "csharp"
    },
    "polyglot_notebook": {
     "kernelName": "csharp"
    },
    "vscode": {
     "languageId": "polyglot-notebook"
    }
   },
   "outputs": [],
   "source": [
    "/*\n",
    "How services will communicate?\n",
    "\n",
    "Challenges of Distributed Computing\n",
    "\n",
    "    Complexity\n",
    "    Service Discovery; DNS\n",
    "    Network Latencies\n",
    "    Bottlenecks\n",
    "    Data Management\n",
    "    Security\n",
    "    Monitoring, Observability\n",
    "    Resource Management\n",
    "    Testing\n",
    "\n",
    "    Dividing work\n",
    "    Orchestration\n",
    "*/\n",
    "\n",
    "//CNCF"
   ]
  },
  {
   "cell_type": "markdown",
   "metadata": {},
   "source": [
    "# The Dark Side of the Moon"
   ]
  },
  {
   "cell_type": "code",
   "execution_count": null,
   "metadata": {
    "dotnet_interactive": {
     "language": "csharp"
    },
    "polyglot_notebook": {
     "kernelName": "csharp"
    },
    "vscode": {
     "languageId": "polyglot-notebook"
    }
   },
   "outputs": [],
   "source": [
    "// Does it matter in which language some microservice is written in ?"
   ]
  },
  {
   "cell_type": "markdown",
   "metadata": {},
   "source": [
    "<img src=images/dark-side.png>"
   ]
  },
  {
   "cell_type": "markdown",
   "metadata": {},
   "source": [
    "# Extensions"
   ]
  },
  {
   "cell_type": "markdown",
   "metadata": {},
   "source": [
    "<img src=images/extensions.png>\n",
    "\n",
    "- https://learn.microsoft.com/en-us/dotnet/core/diagnostics/observability-with-otel\n",
    "- https://devblogs.microsoft.com/dotnet/building-resilient-cloud-services-with-dotnet-8/\n",
    "- https://github.com/dotnet/extensions"
   ]
  },
  {
   "cell_type": "markdown",
   "metadata": {},
   "source": [
    "# Nuget: Dapplo.Jira"
   ]
  },
  {
   "cell_type": "code",
   "execution_count": null,
   "metadata": {
    "dotnet_interactive": {
     "language": "csharp"
    },
    "polyglot_notebook": {
     "kernelName": "csharp"
    },
    "vscode": {
     "languageId": "polyglot-notebook"
    }
   },
   "outputs": [],
   "source": [
    "#r \"nuget: Dapplo.Jira, *-*\""
   ]
  },
  {
   "cell_type": "code",
   "execution_count": null,
   "metadata": {
    "dotnet_interactive": {
     "language": "csharp"
    },
    "polyglot_notebook": {
     "kernelName": "csharp"
    },
    "vscode": {
     "languageId": "polyglot-notebook"
    }
   },
   "outputs": [],
   "source": [
    "var url = \"https://YOUR-COMPANY.atlassian.net\";\n",
    "var user = \"you@YOUR-COMPNAY.com\";\n",
    "var token = \"YOUR-TOKEN\";"
   ]
  },
  {
   "cell_type": "code",
   "execution_count": null,
   "metadata": {
    "dotnet_interactive": {
     "language": "csharp"
    },
    "polyglot_notebook": {
     "kernelName": "csharp"
    },
    "vscode": {
     "languageId": "polyglot-notebook"
    }
   },
   "outputs": [],
   "source": [
    "using Dapplo.Jira;\n",
    "using Dapplo.Jira.Query;\n",
    "\n",
    "IJiraClient jiraClient = JiraClient.Create(new Uri(url));\n",
    "jiraClient.SetBasicAuthentication(user, token);\n",
    "\n",
    "var jql = Where.Text.Contains(\"BuilderService\");\n",
    "var searchResult = await jiraClient.Issue.SearchAsync(jql);\n",
    "\n",
    "foreach (var issue in searchResult.Issues)\n",
    "{\n",
    "    Console.WriteLine($\"{issue.Key} [{issue.Fields.Status.Name}] {issue.Fields.Summary}\");\n",
    "\n",
    "    var workLogs = await jiraClient.WorkLog.GetAsync(issue.Key);\n",
    "    \n",
    "    foreach (var workLog in workLogs)\n",
    "        Console.WriteLine($\"\\t{workLog.Id} {workLog.Author.EmailAddress} [{workLog.Author.AccountId}] {workLog.Started} {workLog.TimeSpent}\");\n",
    "}"
   ]
  },
  {
   "cell_type": "code",
   "execution_count": null,
   "metadata": {
    "dotnet_interactive": {
     "language": "csharp"
    },
    "polyglot_notebook": {
     "kernelName": "csharp"
    },
    "vscode": {
     "languageId": "polyglot-notebook"
    }
   },
   "outputs": [],
   "source": [
    "searchResult.Issues.FirstOrDefault()"
   ]
  },
  {
   "cell_type": "code",
   "execution_count": null,
   "metadata": {
    "dotnet_interactive": {
     "language": "csharp"
    },
    "polyglot_notebook": {
     "kernelName": "csharp"
    },
    "vscode": {
     "languageId": "polyglot-notebook"
    }
   },
   "outputs": [],
   "source": [
    "var issue = await jiraClient.Issue.GetAsync(\"PROJ-1\"); // some jira ticket id\n",
    "issue"
   ]
  },
  {
   "cell_type": "code",
   "execution_count": null,
   "metadata": {
    "dotnet_interactive": {
     "language": "csharp"
    },
    "polyglot_notebook": {
     "kernelName": "csharp"
    },
    "vscode": {
     "languageId": "polyglot-notebook"
    }
   },
   "outputs": [],
   "source": [
    "foreach(var f in issue.Fields.CustomFields)\n",
    "    Console.WriteLine(f);"
   ]
  },
  {
   "cell_type": "code",
   "execution_count": null,
   "metadata": {
    "dotnet_interactive": {
     "language": "csharp"
    },
    "polyglot_notebook": {
     "kernelName": "csharp"
    },
    "vscode": {
     "languageId": "polyglot-notebook"
    }
   },
   "outputs": [],
   "source": [
    "var fields = await jiraClient.Server.GetFieldsAsync();\n",
    "foreach(var f in fields.OrderBy(s => s.Name))\n",
    "    Console.WriteLine(f.Name);"
   ]
  },
  {
   "cell_type": "code",
   "execution_count": null,
   "metadata": {
    "dotnet_interactive": {
     "language": "csharp"
    },
    "polyglot_notebook": {
     "kernelName": "csharp"
    },
    "vscode": {
     "languageId": "polyglot-notebook"
    }
   },
   "outputs": [],
   "source": [
    "var storyPointField = fields.FirstOrDefault(x => x.Name == \"Story Points\");\n",
    "var planningCodeField = fields.FirstOrDefault(x => x.Name == \"Planning Code\");\n",
    "\n",
    "planningCodeField"
   ]
  },
  {
   "cell_type": "code",
   "execution_count": null,
   "metadata": {
    "dotnet_interactive": {
     "language": "csharp"
    },
    "polyglot_notebook": {
     "kernelName": "csharp"
    },
    "vscode": {
     "languageId": "polyglot-notebook"
    }
   },
   "outputs": [],
   "source": [
    "KeyValuePair<string, object> storyPoints = issue.Fields.CustomFields.FirstOrDefault(x => x.Key == storyPointField.Id);\n",
    "KeyValuePair<string, object> planningCode = issue.Fields.CustomFields.FirstOrDefault(x => x.Key == planningCodeField.Id);\n",
    "//lets inspect these variables in Notebook"
   ]
  },
  {
   "cell_type": "code",
   "execution_count": null,
   "metadata": {
    "dotnet_interactive": {
     "language": "csharp"
    },
    "polyglot_notebook": {
     "kernelName": "csharp"
    },
    "vscode": {
     "languageId": "polyglot-notebook"
    }
   },
   "outputs": [],
   "source": [
    "//storyPoints value is a number that we are looking for\n",
    "Console.WriteLine(storyPoints.Value);\n",
    "\n",
    "//planningCode value is a shape; we need value field out of that shape; a string\n",
    "//we dont need to create a type for this as C#/.NET has dynamic/DLR thing\n",
    "dynamic planningCodeValue = planningCode.Value;\n",
    "Console.WriteLine(planningCodeValue.value);"
   ]
  },
  {
   "cell_type": "markdown",
   "metadata": {},
   "source": [
    "# JiraWorkLogs"
   ]
  },
  {
   "cell_type": "markdown",
   "metadata": {},
   "source": [
    "## Github\n",
    "- https://github.com/khurram-uworx/jiraworklogs\n",
    "- Issues / Closed Issues\n",
    "- Pull Requests / Closed PRs\n",
    "- Opened Issues\n",
    "- Discussions, Wiki\n",
    "- Actions & Security"
   ]
  },
  {
   "cell_type": "markdown",
   "metadata": {},
   "source": [
    "## Requirements and Features"
   ]
  },
  {
   "cell_type": "markdown",
   "metadata": {},
   "source": [
    "__Why (Context)__\n",
    "- Business Case / Actors / Concept / Need\n",
    "- Empowering Managers\n",
    "- Empowering Team\n",
    "- Transparency\n",
    "\n",
    "__What (Requirement Specifications)__\n",
    "- Jira Time Report\n",
    "\n",
    "__How (Functional Spectifications / Design)__\n",
    "- Relational Database / Querying + Reporting Capability\n",
    "- Long running app / \"service\" that retreives Jira Worklogs\n",
    "- Web; jQuery + Bootstrap; we can use ChatGPT and Internet for ready made ideas and html / css code\n",
    "- Deployment Units / Components\n",
    "    - PostgreSQL for RDBMS\n",
    "    - MVC for Web App; we dont need fancy Angular/React/Vue/Blazor app (for time being)\n",
    "    - Redis for Cache\n",
    "    - RabbitMQ for messaging\n",
    "- *Mitigating Risks*; Open Source Culture"
   ]
  },
  {
   "cell_type": "markdown",
   "metadata": {},
   "source": [
    "## Observability"
   ]
  },
  {
   "cell_type": "markdown",
   "metadata": {},
   "source": [
    "- Tracing, Telemetry, Metrics\n",
    "- ILogger, System.Diagnostics (Activity) and System.Diagnostics.Metrics (New, Meter)\n",
    "- https://github.com/open-telemetry/opentelemetry-dotnet/tree/main/examples\n",
    "    - https://github.com/open-telemetry/opentelemetry-dotnet/blob/main/examples/MicroserviceExample/WebApi/Startup.cs\n",
    "    - https://github.com/open-telemetry/opentelemetry-dotnet/blob/main/src/OpenTelemetry.Instrumentation.AspNetCore/README.md\n",
    "    - https://github.com/open-telemetry/opentelemetry-dotnet/blob/main/src/OpenTelemetry.Exporter.Prometheus.AspNetCore/README.md\n",
    "    - https://github.com/open-telemetry/opentelemetry-dotnet/blob/main/src/OpenTelemetry.Exporter.Zipkin/README.md"
   ]
  },
  {
   "cell_type": "code",
   "execution_count": null,
   "metadata": {
    "dotnet_interactive": {
     "language": "csharp"
    },
    "polyglot_notebook": {
     "kernelName": "csharp"
    },
    "vscode": {
     "languageId": "polyglot-notebook"
    }
   },
   "outputs": [],
   "source": [
    "//Fluent APIs\n",
    "class Team {}\n",
    "class Employee\n",
    "{\n",
    "    public Team AssignTeam(Team team) => null;\n",
    "}\n",
    "\n",
    "class HumanResource\n",
    "{\n",
    "    public Employee AddEmployee(Employee employee) => null;\n",
    "}\n",
    "\n",
    "var e = new Employee();\n",
    "var t = new Team();\n",
    "var hr = new HumanResource();\n",
    "hr.AddEmployee(e).AssignTeam(t);     // or we can write second method in next line"
   ]
  },
  {
   "cell_type": "code",
   "execution_count": null,
   "metadata": {
    "dotnet_interactive": {
     "language": "csharp"
    },
    "polyglot_notebook": {
     "kernelName": "csharp"
    },
    "vscode": {
     "languageId": "polyglot-notebook"
    }
   },
   "outputs": [],
   "source": [
    "//Builder and configuration\n",
    "abstract class Builder {}\n",
    "class SpecializedBuilder : Builder {}\n",
    "\n",
    "static void Configure(this Builder builder, Action<SpecializedBuilder> action) // extension method\n",
    "{\n",
    "    //do something with builder\n",
    "    action(builder as SpecializedBuilder);\n",
    "    //do something more with builder\n",
    "}\n",
    "\n",
    "Builder builder = new SpecializedBuilder();\n",
    "//add some specialized stuff in builder instance\n",
    "builder.Configure(b =>\n",
    "{\n",
    "    //b is builder; all the added stuff is available here\n",
    "});     //inversion of control\n",
    "\n",
    "// we can have more Configure methods; say how to setup metrices, telemetry and so on if our builder is open telemetry"
   ]
  },
  {
   "cell_type": "markdown",
   "metadata": {},
   "source": [
    "https://learn.microsoft.com/en-us/dotnet/api/microsoft.extensions.configuration.configurationbuilder"
   ]
  },
  {
   "cell_type": "code",
   "execution_count": null,
   "metadata": {
    "dotnet_interactive": {
     "language": "csharp"
    },
    "polyglot_notebook": {
     "kernelName": "csharp"
    },
    "vscode": {
     "languageId": "polyglot-notebook"
    }
   },
   "outputs": [],
   "source": [
    "class ExpensiveResource : IDisposable\n",
    "{\n",
    "    public void Dispose() {}\n",
    "}\n",
    "\n",
    "using(var resource = new ExpensiveResource())\n",
    "{\n",
    "\n",
    "} //block of code\n",
    "\n",
    "// we can using() block to basically wrap / surround things in block; as pattern\n",
    "// when we wrap things in some block; try/catch or using; we see lot of changes in code when committing\n",
    "// newer simplified sytnax\n",
    "\n",
    "using var resource2 = new ExpensiveResource(); // it will be available for the rest of the block"
   ]
  },
  {
   "cell_type": "code",
   "execution_count": null,
   "metadata": {
    "dotnet_interactive": {
     "language": "csharp"
    },
    "polyglot_notebook": {
     "kernelName": "csharp"
    },
    "vscode": {
     "languageId": "polyglot-notebook"
    }
   },
   "outputs": [],
   "source": [
    "// NULL is your friend\n",
    "\n",
    "class Something { public void SomeMethod() {} }\n",
    "Something ComingFromSomewhere() => null;\n",
    "\n",
    "var something = ComingFromSomewhere(); //something can be null\n",
    "\n",
    "if (null == something) something = new Something(); // if it was null; here's the alternative value\n",
    "var something1 = ComingFromSomewhere() ?? new Something(); // if its null what's the alternative value\n",
    "\n",
    "if (null != something) something.SomeMethod();\n",
    "something?.SomeMethod();        // only call when something is not null"
   ]
  },
  {
   "cell_type": "markdown",
   "metadata": {},
   "source": [
    "## Cache"
   ]
  },
  {
   "cell_type": "markdown",
   "metadata": {},
   "source": [
    "- https://github.com/Azure-Samples/azure-cache-redis-samples\n",
    "    - https://github.com/Azure-Samples/azure-cache-redis-samples/blob/main/quickstart/aspnet-core/ContosoTeamStats/RedisConnection.cs\n",
    "- https://getbootstrap.com/docs/4.0/components/pagination"
   ]
  },
  {
   "cell_type": "code",
   "execution_count": null,
   "metadata": {
    "dotnet_interactive": {
     "language": "csharp"
    },
    "polyglot_notebook": {
     "kernelName": "csharp"
    },
    "vscode": {
     "languageId": "polyglot-notebook"
    }
   },
   "outputs": [],
   "source": [
    "// Why Resilience is important?\n",
    "\n",
    "// Generics / Action<T> and Func<T>; wrapping them in something cool\n",
    "    // Redis retry code"
   ]
  },
  {
   "cell_type": "code",
   "execution_count": null,
   "metadata": {
    "dotnet_interactive": {
     "language": "csharp"
    },
    "polyglot_notebook": {
     "kernelName": "csharp"
    },
    "vscode": {
     "languageId": "polyglot-notebook"
    }
   },
   "outputs": [],
   "source": [
    "//Semaphore\n",
    "using System.Threading;\n",
    "\n",
    "var meetingRooms = new Semaphore(2, 2);\n",
    "\n",
    "void meeting(object coordinator)\n",
    "{\n",
    "    meetingRooms.WaitOne();\n",
    "\n",
    "    Console.WriteLine($\"{coordinator} is running the meeting\");\n",
    "    Thread.Sleep(3000);\n",
    "    Console.WriteLine($\"{coordinator}'s meeting is over\");\n",
    "\n",
    "    meetingRooms.Release();\n",
    "}\n",
    "\n",
    "var threads = new List<Thread>();\n",
    "for (int i = 1; i <= 5; i++)\n",
    "{\n",
    "    Thread t = new Thread(meeting);\n",
    "    t.Start(i);\n",
    "    threads.Add(t);\n",
    "}\n",
    "\n",
    "foreach(var t in threads) t.Join();\n",
    "\n",
    "Console.WriteLine(\"Day ended\");"
   ]
  },
  {
   "cell_type": "markdown",
   "metadata": {},
   "source": [
    "## RabbitMQ"
   ]
  },
  {
   "cell_type": "markdown",
   "metadata": {},
   "source": [
    "- Exchange, Queue\n",
    "- Pub/Sub, Consumer/Producer\n",
    "- Enterprise Service Bus ?\n",
    "- Kafka vs RabbitMQ\n",
    "- RabbitMQ Performance / Througput Issues\n",
    "    - Control Flow vs Data Flow"
   ]
  },
  {
   "cell_type": "markdown",
   "metadata": {},
   "source": [
    "## What we achieved?"
   ]
  },
  {
   "cell_type": "markdown",
   "metadata": {},
   "source": [
    "### Cons\n",
    "- Dependencies increased\n",
    "- Complexity increased\n",
    "- Dev Testing became combursome\n",
    "### Pros\n",
    "- Modularity? How?\n",
    "- Scalability? How?\n",
    "    - https://developer.redis.com/operate/redis-at-scale\n",
    "    - https://blog.rabbitmq.com/posts/2020/07/disaster-recovery-and-high-availability-101\n",
    "- Portability\n",
    "    - __Azure__; https://azure.microsoft.com/en-us/pricing/free-services\n",
    "    - Web App for Containers; https://azure.microsoft.com/en-us/products/app-service/containers\n",
    "    - Azure Container Instances; https://learn.microsoft.com/en-us/azure/container-instances\n",
    "    - Azure Container Apps; https://learn.microsoft.com/en-us/azure/container-apps\n",
    "    - Azure Kubernetes Service; https://learn.microsoft.com/en-us/azure/aks\n",
    "    - https://learn.microsoft.com/en-us/azure/container-instances/tutorial-docker-compose"
   ]
  }
 ],
 "metadata": {
  "kernelspec": {
   "display_name": ".NET (C#)",
   "language": "C#",
   "name": ".net-csharp"
  },
  "language_info": {
   "name": "python",
   "version": "3.11.4"
  },
  "polyglot_notebook": {
   "kernelInfo": {
    "defaultKernelName": "csharp",
    "items": [
     {
      "aliases": [],
      "languageName": "csharp",
      "name": "csharp"
     }
    ]
   }
  }
 },
 "nbformat": 4,
 "nbformat_minor": 2
}
