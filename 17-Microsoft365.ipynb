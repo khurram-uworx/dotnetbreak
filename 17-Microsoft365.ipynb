{
 "cells": [
  {
   "cell_type": "markdown",
   "metadata": {},
   "source": [
    "# Microsoft 365"
   ]
  },
  {
   "cell_type": "markdown",
   "metadata": {},
   "source": [
    "## What is it"
   ]
  },
  {
   "cell_type": "markdown",
   "metadata": {},
   "source": [
    "Its a subscription cloud service\n",
    "- Office\n",
    "- Cloud Services\n",
    "    - OneDrive\n",
    "    - Sharepoint\n",
    "    - Teams\n",
    "- Security and Compliance Services\n",
    "- Device Management\n",
    "- Business Applications\n",
    "    - Forms, Planner\n",
    "    - Power Apps"
   ]
  },
  {
   "cell_type": "markdown",
   "metadata": {},
   "source": [
    "## Development"
   ]
  },
  {
   "cell_type": "markdown",
   "metadata": {},
   "source": [
    "- Office Add ins\n",
    "    - VSTO: Visual Studio Tools for Office\n",
    "    - JS based development options\n",
    "- Sharepoint Solutions\n",
    "- Teams Applications\n",
    "    - Teams SDK; bots and tabs\n",
    "- Power Platform\n",
    "- Microsoft Graph API\n",
    "- Azure Functions and Logic Applications\n",
    "- Active Directory Integration"
   ]
  },
  {
   "cell_type": "markdown",
   "metadata": {},
   "source": [
    "## Power Platform"
   ]
  },
  {
   "cell_type": "markdown",
   "metadata": {},
   "source": [
    "<img src=images/power-platform.png>"
   ]
  },
  {
   "cell_type": "code",
   "execution_count": null,
   "metadata": {
    "dotnet_interactive": {
     "language": "value"
    },
    "polyglot_notebook": {
     "kernelName": "value"
    }
   },
   "outputs": [],
   "source": [
    "// Script\n",
    "\n",
    "- Tenant and what it is\n",
    "- office.com\n",
    "- Sharepoint\n",
    "    - Create a site\n",
    "    - Create a list\n",
    "    - Add some data\n",
    "- Power App\n",
    "    - Create an app\n",
    "    - Add some data\n",
    "- Add the Power Automate Flow\n",
    "    - Update flow\n",
    "    - Run the flow\n",
    "    - Show Approvals\n",
    "- Azure & Graph API\n",
    "    - Connectors for Data and Azure Functions etc\n",
    "    - Graph APIs\n",
    "\n",
    "- Power Apps mobile apps\n",
    "- Approvals app\n",
    "- Lists app\n",
    "- PowerBI / Teams\n",
    "- Dataverse\n",
    "- Power Assistants"
   ]
  },
  {
   "cell_type": "markdown",
   "metadata": {},
   "source": [
    "## Graph API"
   ]
  },
  {
   "cell_type": "markdown",
   "metadata": {},
   "source": [
    "- https://learn.microsoft.com/en-us/graph/use-the-api"
   ]
  },
  {
   "cell_type": "markdown",
   "metadata": {},
   "source": [
    "__Resources__\n",
    "\n",
    "__Microsoft Learn__\n",
    "- https://learn.microsoft.com/en-us/training/paths/m365-msgraph-dotnet-core-scenarios/\n",
    "\n",
    "__Youtube__\n",
    "- https://www.youtube.com/@MSFTMechanics\n",
    "    - How to build your first app using Power Apps | Automatically with Copilot or from scratch: https://www.youtube.com/watch?v=UwbCIZTx59I"
   ]
  }
 ],
 "metadata": {
  "kernelspec": {
   "display_name": ".NET (C#)",
   "language": "C#",
   "name": ".net-csharp"
  },
  "language_info": {
   "name": "polyglot-notebook"
  },
  "polyglot_notebook": {
   "kernelInfo": {
    "defaultKernelName": "csharp",
    "items": [
     {
      "aliases": [],
      "languageName": "csharp",
      "name": "csharp"
     }
    ]
   }
  }
 },
 "nbformat": 4,
 "nbformat_minor": 2
}
