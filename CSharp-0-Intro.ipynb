{
 "cells": [
  {
   "cell_type": "markdown",
   "metadata": {},
   "source": [
    "# Language: C#\n",
    "\n",
    "<img src=images/top-programming-languages-2023.webp width=900>\n",
    "\n",
    "<img src=images/github-top-languages-by-percentage-growth.webp width=900>\n",
    "\n",
    "- Object Oriented First / Wanna Be Functional\n",
    "- Performance is important\n",
    "    - Async/Await is first class concept\n",
    "- Code should look & feel cool\n",
    "- Compiler has some cool tricks\n",
    "- Cool Libraries can be made\n",
    "    - https://learn.microsoft.com/en-us/dotnet/csharp/linq/\n",
    "    - https://reactivex.io\n",
    "    - https://github.com/louthy/language-ext\n",
    "- InterOp is important"
   ]
  },
  {
   "cell_type": "markdown",
   "metadata": {},
   "source": [
    "# Windows Server\n",
    "- Internet Information Services (IIS); https://en.wikipedia.org/wiki/Internet_Information_Services\n",
    "- COM / COM+; https://en.wikipedia.org/wiki/Component_Object_Model\n",
    "- MSMQ; https://en.wikipedia.org/wiki/Microsoft_Message_Queuing"
   ]
  },
  {
   "cell_type": "markdown",
   "metadata": {},
   "source": [
    "# SQL Server\n",
    "- Windows, Linux, Docker, Azure/AWS\n",
    "- Its not just Relational Database Engine (OTLP)\n",
    "    - OLAP: Analysis Server\n",
    "    - BI: Reporting Server\n",
    "    - ETL: Integration Services\n",
    "    - ML: Machine Learning Services /w R, Python, Java and C#"
   ]
  },
  {
   "cell_type": "markdown",
   "metadata": {},
   "source": [
    "# __ASP.NET__\n",
    "- ASP.NET and ASP.NET Core\n",
    "- Entity Framework\n",
    "- MVC"
   ]
  }
 ],
 "metadata": {
  "kernelspec": {
   "display_name": ".NET (C#)",
   "language": "C#",
   "name": ".net-csharp"
  },
  "language_info": {
   "name": "polyglot-notebook"
  },
  "polyglot_notebook": {
   "kernelInfo": {
    "defaultKernelName": "csharp",
    "items": [
     {
      "aliases": [],
      "languageName": "csharp",
      "name": "csharp"
     }
    ]
   }
  }
 },
 "nbformat": 4,
 "nbformat_minor": 2
}
