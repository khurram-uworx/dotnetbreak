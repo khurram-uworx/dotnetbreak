{
 "cells": [
  {
   "cell_type": "markdown",
   "metadata": {},
   "source": [
    "# C# Language + Runtime"
   ]
  },
  {
   "cell_type": "markdown",
   "metadata": {},
   "source": [
    "- Object Oriented First / *Wanna Be Functional*\n",
    "- Code should look & feel cool\n",
    "- Compiler has some tricks\n",
    "- __Base Class Library is tastefully done__\n",
    "- InterOp is important\n",
    "- Performance is important\n",
    "    - Async/Await is first class concept\n",
    "- Cool Libraries can be made\n",
    "    - https://learn.microsoft.com/en-us/dotnet/csharp/linq/\n",
    "    - https://reactivex.io\n",
    "    - https://github.com/louthy/language-ext"
   ]
  },
  {
   "cell_type": "markdown",
   "metadata": {},
   "source": [
    "# Windows Server"
   ]
  },
  {
   "cell_type": "markdown",
   "metadata": {},
   "source": [
    "- Internet Information Services (IIS); https://en.wikipedia.org/wiki/Internet_Information_Services\n",
    "- COM / COM+; https://en.wikipedia.org/wiki/Component_Object_Model\n",
    "- MSMQ; https://en.wikipedia.org/wiki/Microsoft_Message_Queuing"
   ]
  },
  {
   "cell_type": "markdown",
   "metadata": {},
   "source": [
    "# SQL Server"
   ]
  },
  {
   "cell_type": "markdown",
   "metadata": {},
   "source": [
    "- Windows, Linux, Docker, Azure/AWS\n",
    "- Its not just Relational Database Engine (OTLP)\n",
    "    - OLAP: Analysis Server\n",
    "    - BI: Reporting Server\n",
    "    - ETL: Integration Services\n",
    "    - ML: Machine Learning Services /w R, Python, Java and C#"
   ]
  },
  {
   "cell_type": "markdown",
   "metadata": {},
   "source": [
    "# ASP.NET"
   ]
  },
  {
   "cell_type": "markdown",
   "metadata": {},
   "source": [
    "- ASP.NET and ASP.NET Core\n",
    "- Entity Framework\n",
    "- MVC\n",
    "- __*Web APIs*__"
   ]
  }
 ],
 "metadata": {
  "kernelspec": {
   "display_name": ".NET (C#)",
   "language": "C#",
   "name": ".net-csharp"
  },
  "language_info": {
   "name": "polyglot-notebook"
  },
  "polyglot_notebook": {
   "kernelInfo": {
    "defaultKernelName": "csharp",
    "items": [
     {
      "aliases": [],
      "languageName": "csharp",
      "name": "csharp"
     }
    ]
   }
  }
 },
 "nbformat": 4,
 "nbformat_minor": 2
}
