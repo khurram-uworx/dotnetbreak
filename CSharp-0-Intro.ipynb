{
 "cells": [
  {
   "cell_type": "markdown",
   "metadata": {},
   "source": [
    "# C#\n",
    "\n",
    "- Object Oriented First / Wanna Be Functional\n",
    "- __*InterOp is important*__\n",
    "- Performance is important\n",
    "    - __*Parallel Programming*__\n",
    "- Code should look & feel cool\n",
    "- Compiler has some cool tricks\n",
    "- Cool Libraries can be made"
   ]
  },
  {
   "cell_type": "markdown",
   "metadata": {},
   "source": [
    "Libraries\n",
    "\n",
    "- https://learn.microsoft.com/en-us/dotnet/csharp/linq/\n",
    "- https://reactivex.io\n",
    "- https://github.com/louthy/language-ext"
   ]
  }
 ],
 "metadata": {
  "kernelspec": {
   "display_name": ".NET (C#)",
   "language": "C#",
   "name": ".net-csharp"
  },
  "language_info": {
   "name": "polyglot-notebook"
  },
  "polyglot_notebook": {
   "kernelInfo": {
    "defaultKernelName": "csharp",
    "items": [
     {
      "aliases": [],
      "languageName": "csharp",
      "name": "csharp"
     }
    ]
   }
  }
 },
 "nbformat": 4,
 "nbformat_minor": 2
}
