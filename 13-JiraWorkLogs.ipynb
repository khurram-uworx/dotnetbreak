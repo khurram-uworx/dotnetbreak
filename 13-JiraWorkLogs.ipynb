{
 "cells": [
  {
   "cell_type": "markdown",
   "metadata": {},
   "source": [
    "# Today's Agenda\n",
    "- Visual Studio & Azure\n",
    "- .NET & Azure: Azure Functions\n",
    "- JiraWorkLogs\n",
    "    - Compose; Container Names & Networking\n",
    "        - Why Nginx"
   ]
  },
  {
   "cell_type": "markdown",
   "metadata": {},
   "source": [
    "# Nuget of the day"
   ]
  },
  {
   "cell_type": "markdown",
   "metadata": {},
   "source": [
    "- https://www.nuget.org/packages/FluentValidation\n",
    "- https://fluentvalidation.net\n",
    "- https://github.com/FluentValidation/FluentValidation"
   ]
  },
  {
   "cell_type": "markdown",
   "metadata": {},
   "source": [
    "# .NET on AWS"
   ]
  },
  {
   "cell_type": "markdown",
   "metadata": {},
   "source": [
    "- https://aws.amazon.com/developer/language/net\n",
    "- https://aws.amazon.com/developer/language/net/services\n",
    "- https://aws.amazon.com/developer/language/net/solutions"
   ]
  },
  {
   "cell_type": "markdown",
   "metadata": {},
   "source": [
    "# JiraWorkLogs"
   ]
  },
  {
   "cell_type": "markdown",
   "metadata": {},
   "source": [
    "## Github\n",
    "- https://github.com/khurram-uworx/jiraworklogs\n",
    "- *Issues / Closed Issues*\n",
    "- *Pull Requests / Closed PRs*\n",
    "- Opened Issues\n",
    "- Discussions, Wiki\n",
    "- Actions & Security"
   ]
  },
  {
   "cell_type": "markdown",
   "metadata": {},
   "source": [
    "<img src=images/jiraworklogs.png>"
   ]
  },
  {
   "cell_type": "markdown",
   "metadata": {},
   "source": [
    "## Redis & RabbitMQ"
   ]
  },
  {
   "cell_type": "markdown",
   "metadata": {},
   "source": [
    "- https://redis.io\n",
    "    - https://github.com/microsoftarchive/redis\n",
    "    - https://redis.io/docs/connect/clients/dotnet\n",
    "    - https://redis.io/docs/connect/clients/om-clients/stack-dotnet\n",
    "    - https://stackexchange.github.io/StackExchange.Redis\n",
    "- https://rabbitmq.com\n",
    "- https://www.rabbitmq.com/tutorials/tutorial-one-dotnet.html"
   ]
  },
  {
   "cell_type": "markdown",
   "metadata": {},
   "source": [
    "## Jira"
   ]
  },
  {
   "cell_type": "markdown",
   "metadata": {},
   "source": [
    "- Entity Framework / PostgreSQL\n",
    "- WorklogDictionary\n",
    "    - dictionary[\"Name\"][DayOfMonth] = TimeInSeconds\n",
    "    - Lookup\n",
    "    - Once the data is there; we need HTML of three pages\n",
    "- Summarizer\n",
    "    - Data pipeline\n",
    "    - Dataflow Library; we will talk about it when exploring / discussing Parallel Programming Concepts\n",
    "- JiraHelper"
   ]
  },
  {
   "cell_type": "code",
   "execution_count": null,
   "metadata": {
    "dotnet_interactive": {
     "language": "csharp"
    },
    "polyglot_notebook": {
     "kernelName": "csharp"
    },
    "vscode": {
     "languageId": "polyglot-notebook"
    }
   },
   "outputs": [],
   "source": [
    "using System.Collections.Generic;\n",
    "\n",
    "class WorklogDictionary : Dictionary<string, Dictionary<int, long>> { }\n",
    "\n",
    "var dic = new WorklogDictionary();\n",
    "dic.Add(\"khurram@juriba\", new ());\n",
    "dic[\"khurram@juriba\"].Add(1, 8 * 60 * 60);  // khurram@juriba worked 8hrs on 1st"
   ]
  },
  {
   "cell_type": "markdown",
   "metadata": {},
   "source": [
    "## Nginx"
   ]
  },
  {
   "cell_type": "markdown",
   "metadata": {},
   "source": [
    "- Docker Compose Networking\n",
    "- *Exposing Ports & ipchains*\n",
    "- Reverse Proxying; Kestrel\n",
    "- Basic Authentication to protect Zipkin, RabbitMQ and Webapp"
   ]
  },
  {
   "cell_type": "markdown",
   "metadata": {},
   "source": [
    "## Technical Debt"
   ]
  },
  {
   "cell_type": "markdown",
   "metadata": {},
   "source": [
    "- Monitoring\n",
    "    - Given we have so many moving parts; we need to ensure all are working properly\n",
    "- If some Container crashes or doesnt start; what we need to do?\n",
    "    - If Redis is down...\n",
    "        - how web app will behave on Home / Index, Home / Redis ?\n",
    "        - how service will behave?\n",
    "    - If RabbitMQ is down...\n",
    "        - how web app will behave on Home / RabbitMQ?\n",
    "        - how service will behave?\n",
    "    - If PostgreSQL is down\n",
    "        - how service will behave?\n",
    "- Singleton connection of RabbitMQ vs Every time connection to Redis\n",
    "    - If we want to use singleton; there should be some connection restore mechanism\n",
    "        - Caller Ensuring connection is available and reestablish\n",
    "        - The service handles itself"
   ]
  },
  {
   "cell_type": "markdown",
   "metadata": {},
   "source": [
    "- Redis Example\n",
    "    - https://docs.docker.com/config/containers/start-containers-automatically\n",
    "    - https://learn.microsoft.com/en-us/aspnet/core/performance/caching/memory"
   ]
  },
  {
   "cell_type": "markdown",
   "metadata": {},
   "source": [
    "## Good First Issues"
   ]
  },
  {
   "cell_type": "markdown",
   "metadata": {},
   "source": [
    "- https://github.com/khurram-uworx/jiraworklogs/issues/12\n",
    "    - JQL is hardcoded; it should be definable; may be it can be specified as an environment variable\n",
    "- https://github.com/khurram-uworx/jiraworklogs/issues/13\n",
    "    - List of our people (emails) are hardcoded; it should be definable; maybe it can be specified in some txt file that is mounted to container and used accordingly"
   ]
  },
  {
   "cell_type": "markdown",
   "metadata": {},
   "source": [
    "## Reporting: Tickets Meta Data"
   ]
  },
  {
   "cell_type": "markdown",
   "metadata": {},
   "source": [
    "- Capex / Opex\n",
    "- Days / Story Point\n",
    "- Estimation Accuracy\n",
    "- Story Movement\n",
    "- Committed vs Delivered\n",
    "- Dev + QA\n",
    "- Agile Overhead"
   ]
  },
  {
   "cell_type": "markdown",
   "metadata": {},
   "source": [
    "## AI: Labeling Tickets"
   ]
  },
  {
   "cell_type": "markdown",
   "metadata": {},
   "source": [
    "- https://learn.microsoft.com/en-us/dotnet/machine-learning/tutorials/github-issue-classification"
   ]
  },
  {
   "cell_type": "markdown",
   "metadata": {},
   "source": [
    "## System Administration / DevOps: Grafana"
   ]
  },
  {
   "cell_type": "markdown",
   "metadata": {},
   "source": [
    "- https://learn.microsoft.com/en-us/dotnet/core/diagnostics/metrics-collection\n",
    "- https://learn.microsoft.com/en-us/aspnet/core/log-mon/metrics/metrics\n",
    "- https://prometheus.io/docs/introduction/overview\n",
    "- https://grafana.com/docs/grafana/latest/introduction\n",
    "- https://grafana.com/grafana/dashboards\n",
    "    - https://grafana.com/grafana/dashboards/?dataSource=prometheus&search=asp.net"
   ]
  }
 ],
 "metadata": {
  "kernelspec": {
   "display_name": ".NET (C#)",
   "language": "C#",
   "name": ".net-csharp"
  },
  "language_info": {
   "name": "python",
   "version": "3.11.4"
  },
  "polyglot_notebook": {
   "kernelInfo": {
    "defaultKernelName": "csharp",
    "items": [
     {
      "aliases": [],
      "languageName": "csharp",
      "name": "csharp"
     }
    ]
   }
  }
 },
 "nbformat": 4,
 "nbformat_minor": 2
}
