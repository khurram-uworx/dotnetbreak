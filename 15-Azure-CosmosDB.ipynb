{
 "cells": [
  {
   "cell_type": "markdown",
   "metadata": {},
   "source": [
    "# Today's Agenda"
   ]
  },
  {
   "cell_type": "markdown",
   "metadata": {},
   "source": [
    "- Introduction to Testing in Visual Studio\n",
    "- Cosmos DB\n",
    "- Some C# Stuff"
   ]
  },
  {
   "cell_type": "markdown",
   "metadata": {},
   "source": [
    "## Compose + Nginx"
   ]
  },
  {
   "cell_type": "markdown",
   "metadata": {},
   "source": [
    "- Hosts file\n",
    "    - IIS example\n",
    "    - Linux has /etc/hosts file\n",
    "- Exposing Ports & ipchains\n",
    "- Docker Compose Networking\n",
    "    - https://docs.docker.com/compose/networking\n",
    "    - https://docs.docker.com/compose/compose-file/05-services/#extra_hosts if you need additional hosts entries\n",
    "- *Reverse Proxying; Kestrel*\n",
    "- if you have two services defined in your Docker Compose file, service1 and service2, and service2 depends on service1, Docker Compose will ensure that service1 starts first, and it will also update the /etc/hosts file within service2 to include an entry for service1 with its IP address\n",
    "    - Docker Desktop and Hosts file\n",
    "        - https://docs.docker.com/desktop/networking"
   ]
  },
  {
   "cell_type": "markdown",
   "metadata": {},
   "source": [
    "<img src=images/docker-compose-network.png><br>\n",
    "<img src=images/nginx-auth.png>"
   ]
  },
  {
   "cell_type": "markdown",
   "metadata": {},
   "source": [
    "## Assignment"
   ]
  },
  {
   "cell_type": "markdown",
   "metadata": {},
   "source": [
    "- https://github.com/khurram-uworx/jiraworklogs/issues/22\n",
    "    - Establish Unit Test project(s) and implement some initial test cases"
   ]
  },
  {
   "cell_type": "markdown",
   "metadata": {},
   "source": [
    "# Testing"
   ]
  },
  {
   "cell_type": "code",
   "execution_count": null,
   "metadata": {
    "dotnet_interactive": {
     "language": "csharp"
    },
    "polyglot_notebook": {
     "kernelName": "csharp"
    },
    "vscode": {
     "languageId": "polyglot-notebook"
    }
   },
   "outputs": [],
   "source": [
    "/* Script\n",
    "- Add JiraWorkLogsTests project (NUnit and xUnit...MS Test)\n",
    "- Arrange, Action, Assert\n",
    "- Test Explorer\n",
    "*/"
   ]
  },
  {
   "cell_type": "markdown",
   "metadata": {},
   "source": [
    "__Further Readings on Testing__\n",
    "- https://learn.microsoft.com/en-us/visualstudio/test\n",
    "- https://learn.microsoft.com/en-us/visualstudio/test/unit-test-basics\n",
    "- https://learn.microsoft.com/en-us/visualstudio/test/live-unit-testing\n",
    "- *Playwright* https://playwright.dev/dotnet\n",
    "    - Playwright supports multiple stack including Node.js, Java and Python\n",
    "        - What's its position vs Cypress if using Node.js\n",
    "            - Cypress limitations\n",
    "                - Inability to instantiate multiple browsers simultaneously\n",
    "                - Lack of support for multi-tab testing\n",
    "                - JavaScript is the preferred language for writing test cases using Cypress\n",
    "        - Its new; limited community (support / additional tooling)\n",
    "    - Reach out to Automation Testers: Hamza, Abdul Raffay, Samia and Sakina"
   ]
  },
  {
   "cell_type": "markdown",
   "metadata": {},
   "source": [
    "# Nuget of the day"
   ]
  },
  {
   "cell_type": "markdown",
   "metadata": {},
   "source": [
    "- https://www.nuget.org/packages/FluentAssertions\n",
    "- https://fluentassertions.com\n",
    "- https://github.com/fluentassertions/fluentassertions"
   ]
  },
  {
   "cell_type": "markdown",
   "metadata": {},
   "source": [
    "# System.Data Namespace"
   ]
  },
  {
   "cell_type": "code",
   "execution_count": null,
   "metadata": {
    "dotnet_interactive": {
     "language": "csharp"
    },
    "polyglot_notebook": {
     "kernelName": "csharp"
    },
    "vscode": {
     "languageId": "polyglot-notebook"
    }
   },
   "outputs": [],
   "source": [
    "using System.Data;\n",
    "\n",
    "var dt = new DataTable(\"TeamMembers\");\n",
    "dt.Columns.Add(\"TeamMemberId\", typeof(int));\n",
    "dt.Columns.Add(\"FirstName\", typeof(string));\n",
    "\n",
    "var ds = new DataSet(\"JiraDb\");\n",
    "ds.Tables.Add(dt);\n",
    "\n",
    "ds.Tables[0].Rows.Add(1, \"Khurram\");\n",
    "\n",
    "ds.GetXml()"
   ]
  },
  {
   "cell_type": "markdown",
   "metadata": {},
   "source": [
    "- https://learn.microsoft.com/en-us/dotnet/api/system.data\n",
    "- SqlClient, OdbcClient, OleDbClient, OracleClient\n",
    "- SQL Server Security"
   ]
  },
  {
   "cell_type": "code",
   "execution_count": null,
   "metadata": {
    "dotnet_interactive": {
     "language": "csharp"
    },
    "polyglot_notebook": {
     "kernelName": "csharp"
    },
    "vscode": {
     "languageId": "polyglot-notebook"
    }
   },
   "outputs": [],
   "source": [
    "#r \"System.Data\"\n",
    "\n",
    "using System;\n",
    "using System.Data.SqlClient;\n",
    "\n",
    "string connectionString = \"Server=.;Database=JiraDb;Integrated Security=True;\";\n",
    "\n",
    "using (var connection = new SqlConnection(connectionString))\n",
    "{\n",
    "    try\n",
    "    {\n",
    "        connection.Open();\n",
    "        Console.WriteLine(\"Connection successful!\");\n",
    "\n",
    "        string sql = \"select top 5 TeamMemberId, FirstName, LastName, Email from TeamMembers\";\n",
    "        var command = new SqlCommand(sql, connection);\n",
    "        SqlDataReader reader = command.ExecuteReader();\n",
    "        \n",
    "        while (reader.Read())\n",
    "            Console.WriteLine($\"{reader.GetInt32(0)} {reader.GetString(1)}\");\n",
    "\n",
    "        reader.Close();\n",
    "    }\n",
    "    catch (Exception ex)\n",
    "    {\n",
    "        Console.WriteLine(\"Error: \" + ex.Message);\n",
    "    }\n",
    "}"
   ]
  },
  {
   "cell_type": "markdown",
   "metadata": {},
   "source": [
    "- https://learn.microsoft.com/en-us/dotnet/api/microsoft.data.analysis.dataframe\n",
    "- https://learn.microsoft.com/en-us/dotnet/machine-learning/how-to-guides/getting-started-dataframe"
   ]
  },
  {
   "cell_type": "markdown",
   "metadata": {},
   "source": [
    "# Cosmos DB"
   ]
  },
  {
   "cell_type": "markdown",
   "metadata": {},
   "source": [
    "<img src=images/swiss-army-knife.jpg width=400>\n",
    "\n",
    "- Multiple Data Model\n",
    "    - Document\n",
    "    - Key/Value\n",
    "    - Graph\n",
    "    - Column Family\n",
    "- Multiple APIs\n",
    "    - Document API /w SQL support\n",
    "    - MongoDB API\n",
    "    - Cassandra (Columnar)\n",
    "    - Gremlin (Graph)\n",
    "    - Table API\n",
    "    - PostgreSQL\n",
    "- SDKs\n",
    "    - .NET, Python\n",
    "    - Node.js, Java, Go \n",
    "\n",
    "<img src=images/column-db.png>\n",
    "\n",
    "- Request Units RU/s concept\n",
    "- Inline Scalability\n",
    "\n",
    "<img src=images/cosmos-db-ru-concept.png>\n",
    "\n",
    "- Data Partitioning\n",
    "    - TransactionLogs: TransactionLogs.2022; TransactionLogs.2023\n",
    "    - TransactionLogs: TransactionLogs.Punjab; TransactionLogs.Sindh\n",
    "- NoSQL\n",
    "    - Data Key\n",
    "    - Data Shape and its versioning challenges\n",
    "        - Store version info in data?\n",
    "    - Its importance for AI?\n",
    "        - Storing Azure Cognitive Service / OpenAPI responses\n",
    "            - Reusing that data; local model for closest match\n",
    "            - Using data for further analytics\n",
    "\n",
    "<img src=images/cosmos-db-ru.png>\n",
    "\n",
    "__Resources__\n",
    "- https://azure.microsoft.com/en-us/products/cosmos-db\n",
    "- https://learn.microsoft.com/en-us/azure/cosmos-db/introduction\n",
    "- https://learn.microsoft.com/en-us/azure/cosmos-db/request-units\n",
    "- https://devblogs.microsoft.com/cosmosdb/azure-cosmos-db-ai-engineers/\n"
   ]
  },
  {
   "cell_type": "markdown",
   "metadata": {},
   "source": [
    "__Getting Started__\n",
    "- https://learn.microsoft.com/en-us/azure/cosmos-db/nosql/quickstart-dotnet\n",
    "- https://learn.microsoft.com/en-us/azure/cosmos-db/table/quickstart-dotnet\n",
    "- https://learn.microsoft.com/en-us/azure/cosmos-db/nosql/tutorial-dotnet-web-app\n",
    "\n",
    "__Entity Framework Provider__\n",
    "- https://learn.microsoft.com/en-us/ef/core/providers/cosmos\n",
    "- https://learn.microsoft.com/en-us/ef/core/providers/cosmos/limitations"
   ]
  },
  {
   "cell_type": "code",
   "execution_count": null,
   "metadata": {
    "dotnet_interactive": {
     "language": "value"
    },
    "polyglot_notebook": {
     "kernelName": "value"
    },
    "vscode": {
     "languageId": "polyglot-notebook"
    }
   },
   "outputs": [],
   "source": [
    "//Script\n",
    "Cosmos DB > Quick Start > Download Project\n",
    "Ensure its .NET 8\n",
    "Update packages\n",
    "Fix errors if any\n",
    "\n",
    "Containers\n",
    "    Settings: Azure Synapse Link, Notebooks; Saved Queries, Stored Procedures"
   ]
  },
  {
   "cell_type": "markdown",
   "metadata": {},
   "source": [
    "__Lets take a look at Azure version of JiraWorkLogs Web App__"
   ]
  },
  {
   "cell_type": "markdown",
   "metadata": {},
   "source": [
    "__Cosmos DB as AI Database Further Readings__\n",
    "- https://learn.microsoft.com/en-us/azure/cosmos-db/vector-database\n",
    "- https://github.com/Azure/Build-Modern-AI-Apps\n",
    "- https://azure.microsoft.com/en-us/blog/analyze-and-visualize-your-data-with-azure-cosmos-db-notebooks\n",
    "- https://learn.microsoft.com/en-us/azure/cosmos-db/nosql/tutorial-create-notebook-vscode\n",
    "- https://devblogs.microsoft.com/cosmosdb/csharp-notebooks\n",
    "\n",
    "<img src=images/data-science-meme.jpg>"
   ]
  },
  {
   "cell_type": "markdown",
   "metadata": {},
   "source": [
    "# Azure Resources"
   ]
  },
  {
   "cell_type": "markdown",
   "metadata": {},
   "source": [
    "__Youtube__\n",
    "- https://www.youtube.com/@MicrosoftAzure\n",
    "    - Azure Cosmos DB Essentials Playlist: https://www.youtube.com/watch?v=Jvgh64rvdXU&list=PLLasX02E8BPDd2fKwLCHnmWoyo4bL-oKr\n",
    "    - Azure Cosmos DB & AI Integration: https://www.youtube.com/watch?v=WmVRL3zVXXE&list=PLmamF3YkHLoJyuoikrskPzpttybXiuFFL"
   ]
  },
  {
   "cell_type": "markdown",
   "metadata": {},
   "source": [
    "# Recommended Trainings"
   ]
  },
  {
   "cell_type": "markdown",
   "metadata": {},
   "source": [
    "- https://learn.microsoft.com/en-us/training/paths/create-serverless-applications\n",
    "- https://learn.microsoft.com/en-us/training/paths/az-204-develop-solutions-that-use-azure-cosmos-db\n",
    "    - https://learn.microsoft.com/en-us/training/modules/explore-azure-cosmos-db\n",
    "- https://learn.microsoft.com/en-us/training/paths/get-started-azure-cosmos-db-sql-api/\n",
    "    - https://learn.microsoft.com/en-us/training/modules/introduction-to-azure-cosmos-db-sql-api"
   ]
  }
 ],
 "metadata": {
  "kernelspec": {
   "display_name": ".NET (C#)",
   "language": "C#",
   "name": ".net-csharp"
  },
  "language_info": {
   "name": "python",
   "version": "3.11.4"
  },
  "polyglot_notebook": {
   "kernelInfo": {
    "defaultKernelName": "csharp",
    "items": [
     {
      "aliases": [],
      "languageName": "csharp",
      "name": "csharp"
     }
    ]
   }
  }
 },
 "nbformat": 4,
 "nbformat_minor": 2
}
