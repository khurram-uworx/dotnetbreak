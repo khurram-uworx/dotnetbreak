{
 "cells": [
  {
   "cell_type": "markdown",
   "metadata": {},
   "source": [
    "# Today's Agenda"
   ]
  },
  {
   "cell_type": "markdown",
   "metadata": {},
   "source": [
    "- Azure Functions\n",
    "- Some C# Stuff"
   ]
  },
  {
   "cell_type": "markdown",
   "metadata": {},
   "source": [
    "## JiraWorkLogs: Technical Debt"
   ]
  },
  {
   "cell_type": "markdown",
   "metadata": {},
   "source": [
    "- Monitoring\n",
    "    - Given we have so many moving parts; we need to ensure all are working properly\n",
    "- If some Container crashes or doesnt start; what we need to do?\n",
    "    - If Redis is down...\n",
    "        - how web app will behave on Home / Index, Home / Redis ?\n",
    "        - how service will behave?\n",
    "    - If RabbitMQ is down...\n",
    "        - how web app will behave on Home / RabbitMQ?\n",
    "        - how service will behave?\n",
    "    - If PostgreSQL is down\n",
    "        - how service will behave?\n",
    "- Singleton connection of RabbitMQ vs Every time connection to Redis\n",
    "    - If we want to use singleton; there should be some connection restore mechanism\n",
    "        - Caller Ensuring connection is available and reestablish\n",
    "        - The service handles itself"
   ]
  },
  {
   "cell_type": "markdown",
   "metadata": {},
   "source": [
    "Redis Example\n",
    "- https://docs.docker.com/config/containers/start-containers-automatically\n",
    "- https://learn.microsoft.com/en-us/aspnet/core/performance/caching/memory"
   ]
  },
  {
   "cell_type": "markdown",
   "metadata": {},
   "source": [
    "# Nuget of the day"
   ]
  },
  {
   "cell_type": "markdown",
   "metadata": {},
   "source": [
    "- https://www.nuget.org/packages/polly\n",
    "    - https://www.nuget.org/packages/Microsoft.Extensions.Http.Resilience\n",
    "- https://github.com/App-vNext/Polly\n",
    "    - https://learn.microsoft.com/en-us/dotnet/core/resilience/http-resilience"
   ]
  },
  {
   "cell_type": "markdown",
   "metadata": {},
   "source": [
    "# Object Oriented Programming"
   ]
  },
  {
   "cell_type": "markdown",
   "metadata": {},
   "source": [
    "<img src=images/oop-meme.png>"
   ]
  },
  {
   "cell_type": "markdown",
   "metadata": {},
   "source": [
    "## Succinct: Secured / Sensible by Default"
   ]
  },
  {
   "cell_type": "code",
   "execution_count": null,
   "metadata": {
    "dotnet_interactive": {
     "language": "csharp"
    },
    "polyglot_notebook": {
     "kernelName": "csharp"
    },
    "vscode": {
     "languageId": "polyglot-notebook"
    }
   },
   "outputs": [],
   "source": [
    "class Bird // it will be internal class\n",
    "{\n",
    "    void method() {} // it will be private method\n",
    "\n",
    "    public Bird(string name) {}\n",
    "\n",
    "    public void Method() => method();\n",
    "}\n",
    "\n",
    "var bird = new Bird(\"Parrot\");"
   ]
  },
  {
   "cell_type": "markdown",
   "metadata": {},
   "source": [
    "## Implicit & Explicit Implementations"
   ]
  },
  {
   "cell_type": "code",
   "execution_count": null,
   "metadata": {
    "dotnet_interactive": {
     "language": "csharp"
    },
    "polyglot_notebook": {
     "kernelName": "csharp"
    },
    "vscode": {
     "languageId": "polyglot-notebook"
    }
   },
   "outputs": [],
   "source": [
    "interface IBird { void Fly(); }\n",
    "interface IWaterBird : IBird { void Float(); }\n",
    "\n",
    "class WaterBird : IWaterBird\n",
    "{\n",
    "    string bird = null;\n",
    "\n",
    "    WaterBird() { }\n",
    "    public WaterBird(string bird) => this.bird = bird;\n",
    "\n",
    "    public void Fly() => Console.WriteLine($\"{this.bird} [{this.GetHashCode()}] is flying\");\n",
    "\n",
    "    void IWaterBird.Float() => Console.WriteLine($\"{this.bird} [{this.GetHashCode()}] is swimming\");\n",
    "}\n",
    "\n",
    "var duck = new WaterBird(\"White Duck\");\n",
    "duck.Fly();\n",
    "\n",
    "var waterBirdDuck = duck as IWaterBird;\n",
    "waterBirdDuck.Float();"
   ]
  },
  {
   "cell_type": "markdown",
   "metadata": {},
   "source": [
    "# Reflection"
   ]
  },
  {
   "cell_type": "markdown",
   "metadata": {},
   "source": [
    "Three building blocks\n",
    "- Query Information; type, properties, methods, their modifiers etc; Attributes compliment Reflection nicely\n",
    "- Access Properties; values of given object and invoke methods\n",
    "- the ability to dynamically create instances of types"
   ]
  },
  {
   "cell_type": "code",
   "execution_count": null,
   "metadata": {
    "dotnet_interactive": {
     "language": "csharp"
    },
    "polyglot_notebook": {
     "kernelName": "csharp"
    },
    "vscode": {
     "languageId": "polyglot-notebook"
    }
   },
   "outputs": [],
   "source": [
    "var chars = new char[26];\n",
    "for (int i = 0; i < 26; i++)\n",
    "    chars[i] = (char) (i + 0x0061);\n",
    "\n",
    "//Type type = typeof(string);\n",
    "\n",
    "object obj = Activator.CreateInstance(typeof(string),\n",
    "    new object[] { chars });\n",
    "Console.WriteLine(obj);\n",
    "\n",
    "//We can use Activator for Factories (Patterns like Provider etc)\n",
    "//How assemblies are loaded / found"
   ]
  },
  {
   "cell_type": "markdown",
   "metadata": {},
   "source": [
    "__Usages__\n",
    "- Dynamic Assembly Loading; Sharepoint; AppM VM Tools\n",
    "- Plugin System\n",
    "- Serialization and Deserialization (XML, JSON, Binary)\n",
    "- Attribute based Programming (Web Services, Rest API, Authentication)\n",
    "- Object Initialization and Mapping (Factories, Mocking)\n",
    "- ORMs\n",
    "- Code Generation\n",
    "- Debugging / Logging / IDEs ([DEBUG])\n",
    "- Unit Testing ?\n",
    "- Generic Code / Algorithms\n",
    "    - print given object / certain fields\n",
    "\n",
    "__Further Readings__\n",
    "- https://learn.microsoft.com/en-us/dotnet/csharp/advanced-topics/reflection-and-attributes\n",
    "- https://learn.microsoft.com/en-us/dotnet/api/system.activator.createinstance"
   ]
  },
  {
   "cell_type": "code",
   "execution_count": null,
   "metadata": {
    "dotnet_interactive": {
     "language": "csharp"
    },
    "polyglot_notebook": {
     "kernelName": "csharp"
    },
    "vscode": {
     "languageId": "polyglot-notebook"
    }
   },
   "outputs": [],
   "source": [
    "//Generics & Reflection\n",
    "using System;\n",
    "\n",
    "public class Person\n",
    "{\n",
    "    public string FirstName { get; set; }\n",
    "    public string LastName { get; set; }\n",
    "    public int Age { get; set; }\n",
    "}\n",
    "\n",
    "public class Car\n",
    "{\n",
    "    public string Make { get; set; }\n",
    "    public string Model { get; set; }\n",
    "    public int Year { get; set; }\n",
    "}\n",
    "\n",
    "var person = new Person { FirstName = \"Khurram\", LastName = \"Aziz\", Age = 45 };\n",
    "var car = new Car { Make = \"Toyota\", Model = \"Corolla\", Year = 2022 };\n",
    "\n",
    "\n",
    "void PrintProperties<T>(T obj)\n",
    "{\n",
    "    Type objectType = typeof(T);\n",
    "\n",
    "    Console.WriteLine($\"Properties of {objectType.Name}:\");\n",
    "\n",
    "    foreach (var propertyInfo in objectType.GetProperties())\n",
    "    {\n",
    "        object value = propertyInfo.GetValue(obj);\n",
    "        Console.WriteLine($\"{propertyInfo.Name}: {value}\");\n",
    "    }\n",
    "}\n",
    "\n",
    "PrintProperties(person);\n",
    "Console.WriteLine();\n",
    "PrintProperties(car);"
   ]
  },
  {
   "cell_type": "markdown",
   "metadata": {},
   "source": [
    "# Closure"
   ]
  },
  {
   "cell_type": "markdown",
   "metadata": {},
   "source": [
    "- Closure; https://en.wikipedia.org/wiki/Closure_(computer_programming)\n",
    "- https://developer.mozilla.org/en-US/docs/Web/JavaScript/Closures\n",
    "\n",
    "- Java: __James Gosling__\n",
    "    - There has been a lot of chatter about the closures proposal penned by Neal Gafter. And, in particular, whether or not I support it. I absolutely do. My \"Feel of Java\" talk of many years ago got rather infamously twisted at JavaPolis a couple of months ago. Java feels alive, not stuck in some chisel marks on stone tablets. __Closures were left out of Java initially more because of time pressures than anything else__. Closures, as a concept, are tried and true - well past the days of being PhD topics. The arguments are in the details, not the broad concepts. In the early days of Java *the lack of closures was pretty painful, and so inner classes were born*: an uncomfortable compromise that attempted to avoid a number of hard issues. But as is normal in so many design issues, the simplifications didn't really solve any problems, they just moved them. We should have gone all the way back then. Some have criticized the current proposal as being too complex. If you read through all of what Neal has written, you'll see that there are two sources of this perception: the spec is really detailed and explores all kinds of corner cases that never get touched on in most programming manuals; and the proposal is a collection of features that at first blush seem separate, but in fact are deeply inter-related and push each other into existence.\n",
    "- C#\n",
    "    - In C#, anonymous classes are not necessary, because closures and lambdas are fully supported. Libraries and language extensions for immutable data structures are being developed to aid programming in the functional style in C#"
   ]
  },
  {
   "cell_type": "code",
   "execution_count": null,
   "metadata": {
    "dotnet_interactive": {
     "language": "javascript"
    },
    "polyglot_notebook": {
     "kernelName": "javascript"
    },
    "vscode": {
     "languageId": "polyglot-notebook"
    }
   },
   "outputs": [],
   "source": [
    "// JS example from https://developer.mozilla.org/en-US/docs/Web/JavaScript/Closures\n",
    "function init() {\n",
    "  var name = \"Mozilla\"; // name is a local variable created by init\n",
    "\n",
    "  function displayName() {\n",
    "    // displayName() is the inner function, that forms the closure\n",
    "    console.log(name); // use variable declared in the parent function\n",
    "  }\n",
    "\n",
    "  name = \"IE\";\n",
    "  \n",
    "  displayName();\n",
    "}\n",
    "\n",
    "init();"
   ]
  },
  {
   "cell_type": "code",
   "execution_count": null,
   "metadata": {
    "dotnet_interactive": {
     "language": "javascript"
    },
    "polyglot_notebook": {
     "kernelName": "javascript"
    },
    "vscode": {
     "languageId": "polyglot-notebook"
    }
   },
   "outputs": [],
   "source": [
    "//Java\n",
    "int outerVariable = 10;\n",
    "\n",
    "Runnable displayValue = () -> System.out.println(outerVariable);\n",
    "java.util.function.Function<Integer, Integer> addValue = (x) -> x + outerVariable;\n",
    "\n",
    "outerVariable = 15;\n",
    "\n",
    "displayValue.run();\n",
    "addValue.apply(5);"
   ]
  },
  {
   "cell_type": "markdown",
   "metadata": {},
   "source": [
    "- https://chat.openai.com/share/1243aaa6-b2ad-4a61-b7c6-d8042a2ef703; Action<T> and Func<T1, T2> equivalents in Java"
   ]
  },
  {
   "cell_type": "code",
   "execution_count": null,
   "metadata": {
    "dotnet_interactive": {
     "language": "csharp"
    },
    "polyglot_notebook": {
     "kernelName": "csharp"
    },
    "vscode": {
     "languageId": "polyglot-notebook"
    }
   },
   "outputs": [],
   "source": [
    "int outerVariable = 10;\n",
    "\n",
    "Action displayValue = () => Console.WriteLine(outerVariable);\n",
    "Func<int, int> addValue = (x) => x + outerVariable;\n",
    "\n",
    "outerVariable = 15;\n",
    "\n",
    "displayValue();\n",
    "Console.WriteLine(addValue(5));"
   ]
  },
  {
   "cell_type": "markdown",
   "metadata": {},
   "source": [
    "<img src=images/functional-programming-meme-2.jpg>\n",
    "\n",
    "C#/.NET has lot more beyond Generics, LINQ, Reflection and Closures in its bag for Meta & Functional Programming that we will be discussing"
   ]
  },
  {
   "cell_type": "markdown",
   "metadata": {},
   "source": [
    "# Types"
   ]
  },
  {
   "cell_type": "markdown",
   "metadata": {},
   "source": [
    "- *Value and Reference Types; Default Values*"
   ]
  },
  {
   "cell_type": "markdown",
   "metadata": {},
   "source": [
    "## Enums"
   ]
  },
  {
   "cell_type": "code",
   "execution_count": null,
   "metadata": {
    "dotnet_interactive": {
     "language": "csharp"
    },
    "polyglot_notebook": {
     "kernelName": "csharp"
    },
    "vscode": {
     "languageId": "polyglot-notebook"
    }
   },
   "outputs": [],
   "source": [
    "enum Seasons { Spring, Summer, Autumn, Winter }\n",
    "\n",
    "enum ErrorCodes : ushort\n",
    "{\n",
    "    None = 0,\n",
    "    Unknown = 1,\n",
    "    ConnectionLost = 100,\n",
    "    OutlierReading = 200\n",
    "}"
   ]
  },
  {
   "cell_type": "code",
   "execution_count": null,
   "metadata": {
    "dotnet_interactive": {
     "language": "csharp"
    },
    "polyglot_notebook": {
     "kernelName": "csharp"
    },
    "vscode": {
     "languageId": "polyglot-notebook"
    }
   },
   "outputs": [],
   "source": [
    "using System.Linq;\n",
    "\n",
    "int i = 1;      // in hex its 0001\n",
    "int j = 3;      // in hex its 0011\n",
    "\n",
    "int or = i | j;     // 0011\n",
    "int and = i & j;    // 0001\n",
    "int xor = i ^ j;    // 0010\n",
    "\n",
    "void print(int n) => Console.WriteLine(n);\n",
    "new List<int>([or, and, xor]).ForEach(print);\n",
    "\n",
    "// we do have ~ operator for not"
   ]
  },
  {
   "cell_type": "code",
   "execution_count": null,
   "metadata": {
    "dotnet_interactive": {
     "language": "csharp"
    },
    "polyglot_notebook": {
     "kernelName": "csharp"
    },
    "vscode": {
     "languageId": "polyglot-notebook"
    }
   },
   "outputs": [],
   "source": [
    "[Flags]\n",
    "public enum Days\n",
    "{\n",
    "    None      = 0b_0000_0000,  // 0\n",
    "    Monday    = 0b_0000_0001,  // 1\n",
    "    Tuesday   = 0b_0000_0010,  // 2\n",
    "    Wednesday = 0b_0000_0100,  // 4\n",
    "    Thursday  = 0b_0000_1000,  // 8\n",
    "    Friday    = 0b_0001_0000,  // 16\n",
    "    Saturday  = 0b_0010_0000,  // 32\n",
    "    Sunday    = 0b_0100_0000,  // 64\n",
    "    Weekend   = Saturday | Sunday\n",
    "}\n",
    "\n",
    "Days meetingDays = Days.Monday | Days.Wednesday | Days.Friday;\n",
    "Console.WriteLine(meetingDays);\n",
    "\n",
    "Days workingFromHomeDays = Days.Thursday | Days.Friday;\n",
    "Console.WriteLine($\"Join a meeting by phone on {meetingDays & workingFromHomeDays}\");\n",
    "\n",
    "bool isMeetingOnTuesday = (meetingDays & Days.Tuesday) == Days.Tuesday;\n",
    "Console.WriteLine($\"Is there a meeting on Tuesday: {isMeetingOnTuesday}\");\n",
    "\n",
    "var a = (Days)37;\n",
    "Console.WriteLine(a);"
   ]
  },
  {
   "cell_type": "markdown",
   "metadata": {},
   "source": [
    "__Further Readings__\n",
    "- https://learn.microsoft.com/en-us/dotnet/csharp/language-reference/builtin-types/enum"
   ]
  },
  {
   "cell_type": "markdown",
   "metadata": {},
   "source": [
    "## ToString() && Parsing"
   ]
  },
  {
   "cell_type": "code",
   "execution_count": null,
   "metadata": {
    "dotnet_interactive": {
     "language": "csharp"
    },
    "polyglot_notebook": {
     "kernelName": "csharp"
    },
    "vscode": {
     "languageId": "polyglot-notebook"
    }
   },
   "outputs": [],
   "source": [
    "int i = 5;\n",
    "i.ToString()"
   ]
  },
  {
   "cell_type": "code",
   "execution_count": null,
   "metadata": {
    "dotnet_interactive": {
     "language": "csharp"
    },
    "polyglot_notebook": {
     "kernelName": "csharp"
    },
    "vscode": {
     "languageId": "polyglot-notebook"
    }
   },
   "outputs": [],
   "source": [
    "//TeamMember model\n",
    "\n",
    "class TeamMember // indirectly it inherits from object and therefore can override ToString\n",
    "{\n",
    "    public int TeamMemberId { get; set; }\n",
    "    public string FirstName { get; set; }\n",
    "    public string LastName { get; set; }\n",
    "    public string Email { get; set; }\n",
    "\n",
    "    public TeamMember(int teamMemberId)\n",
    "    {\n",
    "        this.TeamMemberId = teamMemberId;\n",
    "    }\n",
    "\n",
    "    public override string ToString()\n",
    "    {\n",
    "        return $\"{this.TeamMemberId}: {this.FirstName} {this.LastName} [{this.Email}]\";\n",
    "    }\n",
    "}\n",
    "\n",
    "var tm = new TeamMember(7357) { FirstName = \"Khurram\", LastName = \"Aziz \"};\n",
    "tm.Email = \"khurram@uworx\";\n",
    "tm\n",
    "// what else to override from object?\n",
    "// gethashcode and equals...and when / why we should consider overriding it and how to do it ?"
   ]
  },
  {
   "cell_type": "markdown",
   "metadata": {},
   "source": [
    "## Static & Instance Members"
   ]
  },
  {
   "cell_type": "code",
   "execution_count": null,
   "metadata": {
    "dotnet_interactive": {
     "language": "csharp"
    },
    "polyglot_notebook": {
     "kernelName": "csharp"
    },
    "vscode": {
     "languageId": "polyglot-notebook"
    }
   },
   "outputs": [],
   "source": [
    "double dub = -3.14;\n",
    "Console.WriteLine(Math.Abs(dub));\n",
    "Console.WriteLine(Math.Floor(dub));\n",
    "Console.WriteLine(Math.Round(Math.Abs(dub)));"
   ]
  },
  {
   "cell_type": "code",
   "execution_count": null,
   "metadata": {
    "dotnet_interactive": {
     "language": "csharp"
    },
    "polyglot_notebook": {
     "kernelName": "csharp"
    },
    "vscode": {
     "languageId": "polyglot-notebook"
    }
   },
   "outputs": [],
   "source": [
    "public static class TemperatureConverter // only static methods we can make it a static class\n",
    "{\n",
    "    static TemperatureConverter() {}\n",
    "    \n",
    "    //static void add() {}\n",
    "\n",
    "    public static double CelsiusToFahrenheit(string temperatureCelsius)\n",
    "    {\n",
    "        double celsius = Double.Parse(temperatureCelsius);\n",
    "        double fahrenheit = (celsius * 9 / 5) + 32;\n",
    "        return fahrenheit;\n",
    "    }\n",
    "\n",
    "    public static double FahrenheitToCelsius(string temperatureFahrenheit)\n",
    "    {\n",
    "        double fahrenheit = Double.Parse(temperatureFahrenheit);\n",
    "        double celsius = (fahrenheit - 32) * 5 / 9;\n",
    "        return celsius;\n",
    "    }\n",
    "}\n",
    "\n",
    "TemperatureConverter.CelsiusToFahrenheit(\"37\")"
   ]
  },
  {
   "cell_type": "markdown",
   "metadata": {},
   "source": [
    "- Non Static / Instance member can call static member\n",
    "- Static members can have overloads; but they cannt override (due to their nature)\n",
    "- Const fields behaves / work like static\n",
    "- We also have static constructor"
   ]
  },
  {
   "cell_type": "code",
   "execution_count": null,
   "metadata": {
    "dotnet_interactive": {
     "language": "csharp"
    },
    "polyglot_notebook": {
     "kernelName": "csharp"
    },
    "vscode": {
     "languageId": "polyglot-notebook"
    }
   },
   "outputs": [],
   "source": [
    "class Generator\n",
    "{\n",
    "    static int initialId = 1;\n",
    "\n",
    "    public int GetNextId() => initialId++;      // not thread safe\n",
    "}\n",
    "\n",
    "var g1 = new Generator();\n",
    "var g2 = new Generator();\n",
    "\n",
    "Console.WriteLine(g1.GetNextId());\n",
    "Console.WriteLine(g2.GetNextId());"
   ]
  },
  {
   "cell_type": "code",
   "execution_count": null,
   "metadata": {
    "dotnet_interactive": {
     "language": "csharp"
    },
    "polyglot_notebook": {
     "kernelName": "csharp"
    },
    "vscode": {
     "languageId": "polyglot-notebook"
    }
   },
   "outputs": [],
   "source": [
    "using System.Threading;\n",
    "\n",
    "class Generator\n",
    "{\n",
    "    static int initialId = 1;\n",
    "\n",
    "    public int GetNextId()\n",
    "    {\n",
    "         Interlocked.Add(ref initialId, 1);\n",
    "         return initialId;\n",
    "    }\n",
    "}\n",
    "\n",
    "var g1 = new Generator();\n",
    "var g2 = new Generator();\n",
    "\n",
    "Console.WriteLine(g1.GetNextId());\n",
    "Console.WriteLine(g2.GetNextId());"
   ]
  },
  {
   "cell_type": "code",
   "execution_count": null,
   "metadata": {
    "dotnet_interactive": {
     "language": "csharp"
    },
    "polyglot_notebook": {
     "kernelName": "csharp"
    },
    "vscode": {
     "languageId": "polyglot-notebook"
    }
   },
   "outputs": [],
   "source": [
    "// Parsing\n",
    "string s = \"5\";\n",
    "int j = int.Parse(s);\n",
    "Console.WriteLine(j);"
   ]
  },
  {
   "cell_type": "code",
   "execution_count": null,
   "metadata": {
    "dotnet_interactive": {
     "language": "csharp"
    },
    "polyglot_notebook": {
     "kernelName": "csharp"
    },
    "vscode": {
     "languageId": "polyglot-notebook"
    }
   },
   "outputs": [],
   "source": [
    "var data = new[] { \"5\", \"5 \", \" 5\", \" 5 \", \"5a\", \"abc\", \"\", null };\n",
    "foreach(var s in data)\n",
    "{\n",
    "    int i;\n",
    "    if (int.TryParse(s, out i))\n",
    "        Console.WriteLine($\"{s} is parsed to {i}\");\n",
    "    else if (s is null)\n",
    "        Console.WriteLine($\"null couldnt be parsed\");\n",
    "    else\n",
    "        Console.WriteLine($\"{s} couldnt be parsed\");\n",
    "}"
   ]
  },
  {
   "cell_type": "markdown",
   "metadata": {},
   "source": [
    "- https://learn.microsoft.com/en-us/dotnet/api/system.object\n",
    "- https://learn.microsoft.com/en-us/dotnet/api/system.object.tostring"
   ]
  },
  {
   "cell_type": "code",
   "execution_count": null,
   "metadata": {
    "dotnet_interactive": {
     "language": "csharp"
    },
    "polyglot_notebook": {
     "kernelName": "csharp"
    },
    "vscode": {
     "languageId": "polyglot-notebook"
    }
   },
   "outputs": [],
   "source": [
    "// Using Static and Instance methods for better APIs\n",
    "\n",
    "class TeamMember\n",
    "{\n",
    "    public int TeamMemberId { get; set; }\n",
    "    public string FirstName { get; set; }\n",
    "    public string LastName { get; set; }\n",
    "    public string Email { get; set; }\n",
    "\n",
    "    public TeamMember(int teamMemberId)\n",
    "    {\n",
    "        this.TeamMemberId = teamMemberId;\n",
    "    }\n",
    "\n",
    "    int submitChanges() // its private\n",
    "    {\n",
    "         /*call api / update in db*/\n",
    "         return 0;\n",
    "    }\n",
    "\n",
    "    public override string ToString()\n",
    "    {\n",
    "        return $\"{this.TeamMemberId}: {this.FirstName} {this.LastName} [{this.Email}]\";\n",
    "    }\n",
    "\n",
    "    public bool UpdateName(string firstName, string lastName)\n",
    "    {\n",
    "        this.FirstName = firstName;\n",
    "        this.LastName = lastName;\n",
    "        return this.submitChanges() > 0;\n",
    "    }\n",
    "\n",
    "    public void Load() // hydrate from db the current teamMemberId\n",
    "    { }\n",
    "\n",
    "    public override bool Equals(object obj)\n",
    "    {\n",
    "        if (obj == null || !(obj is TeamMember))\n",
    "            return false;\n",
    "\n",
    "        TeamMember other = (TeamMember)obj;\n",
    "        return TeamMemberId == other.TeamMemberId && FirstName == other.FirstName;\n",
    "    }\n",
    "\n",
    "    // this is all not needed\n",
    "    // unless you want your classes to be used as dictionary keys or hash maps\n",
    "    // such data structures are used when you need highest possible performance; games or mobile apps\n",
    "    // its good to know these things exists if you need them\n",
    "    public override int GetHashCode()\n",
    "    {\n",
    "        // unchecked           // to avoid overflow errors; we dont care in this block and just need a number\n",
    "        // {\n",
    "        //     int hash = 17;  // lets start with some small but good prime number\n",
    "        //     hash = hash * 23 + TeamMemberId.GetHashCode();\n",
    "        //     hash = hash * 23 + (FirstName != null ? FirstName.GetHashCode() : 0);\n",
    "        //     return hash;\n",
    "        // }\n",
    "\n",
    "        // we can use XOR for lot of fields; ^ is C# xor; similar to C/C++\n",
    "        unchecked\n",
    "        {\n",
    "            int hash = 17;\n",
    "            hash = hash * 23 ^ TeamMemberId.GetHashCode();      // we can overflow here; using unchecked\n",
    "            hash = hash * 23 ^ (FirstName != null ? FirstName.GetHashCode() : 0);   // xoring with 0\n",
    "            return hash;\n",
    "        }\n",
    "    }\n",
    "\n",
    "    public static TeamMember Fetch(int teamMemberID)\n",
    "    {\n",
    "        var tm = new TeamMember(teamMemberID);\n",
    "        tm.Load();\n",
    "        return tm;\n",
    "    }\n",
    "\n",
    "    public static TeamMember Parse(string s)\n",
    "    {\n",
    "        if (!string.IsNullOrWhiteSpace(s))\n",
    "        {\n",
    "            var tokens = s.Split(\":\".ToCharArray());\n",
    "\n",
    "            int i; //how we can remove it\n",
    "            //how we can simplify null check\n",
    "            //why yoda\n",
    "            if (null != tokens && tokens.Length > 0 && int.TryParse(tokens[0], out i))\n",
    "                return new TeamMember(i);\n",
    "        }\n",
    "\n",
    "        return null;\n",
    "    }\n",
    "}\n",
    "\n",
    "var s = \"1\";\n",
    "var tm1 = TeamMember.Parse(s); // its unhydrated\n",
    "var tm2 = TeamMember.Fetch(7357); // its hydrated; if confusion make it consistent\n",
    "\n",
    "tm1.Load();\n",
    "\n",
    "if (tm1.UpdateName(firstName: \"New\", \"Name\"))\n",
    "    Console.WriteLine(\"Updated..\");"
   ]
  },
  {
   "cell_type": "markdown",
   "metadata": {},
   "source": [
    "__Further Readings__\n",
    "- https://learn.microsoft.com/en-us/dotnet/csharp/programming-guide/classes-and-structs/static-classes-and-static-class-members"
   ]
  },
  {
   "cell_type": "markdown",
   "metadata": {},
   "source": [
    "# Azure Functions"
   ]
  },
  {
   "cell_type": "markdown",
   "metadata": {},
   "source": [
    "Azure Functions is an event-driven, serverless compute platform that helps you develop more efficiently using the programming language of your choice\n",
    "- .NET, Node.js, Java, PowerShell, Python\n",
    "- CLI Tools, VS Code, Visual Studio"
   ]
  },
  {
   "cell_type": "markdown",
   "metadata": {},
   "source": [
    "## Use cases"
   ]
  },
  {
   "cell_type": "markdown",
   "metadata": {},
   "source": [
    "<img src=images/azure-function-usecase-web.png width=700><br>\n",
    "<img src=images/azure-function-usecase-mobile.png width=700><br>\n",
    "<img src=images/azure-function-usecase-iot.png width=700><br>\n",
    "<img src=images/azure-function-usecase-file.png width=700>"
   ]
  },
  {
   "cell_type": "markdown",
   "metadata": {},
   "source": [
    "## Azure Functions in Visual Studio"
   ]
  },
  {
   "cell_type": "markdown",
   "metadata": {},
   "source": [
    "- Azure Workload\n",
    "- Project Template\n",
    "- Azure Function Development Expereince (Debugging etc)\n",
    "- .http file"
   ]
  },
  {
   "cell_type": "code",
   "execution_count": null,
   "metadata": {
    "dotnet_interactive": {
     "language": "value"
    },
    "polyglot_notebook": {
     "kernelName": "value"
    },
    "vscode": {
     "languageId": "polyglot-notebook"
    }
   },
   "outputs": [],
   "source": [
    "//Script\n",
    "Create Timer/API function projects\n",
    "There can be more functions in one projects\n",
    "Show Debugger\n",
    ".http file for testing\n",
    "\n",
    "\n",
    "POST http://localhost:7274/api/GetWorklogs\n",
    "Authorization: You-Work-X\n",
    "\n",
    "###\n",
    "\n",
    "POST https://uworx-functions.azurewebsites.net/api/GetWorklogs\n",
    "Authorization: You-Work-X"
   ]
  },
  {
   "cell_type": "markdown",
   "metadata": {},
   "source": [
    "<p><img src=images/azure-functions.svg></p>\n",
    "\n",
    "### Open Source Alternatives\n",
    "- https://www.openfaas.com\n",
    "- https://fnproject.io\n",
    "    - https://fnproject.io/tutorials/csharp/intro\n",
    "- https://openwhisk.apache.org\n",
    "    - https://github.com/apache/openwhisk-runtime-dotnet/blob/master/core/net6.0/QUICKSTART.md"
   ]
  },
  {
   "cell_type": "markdown",
   "metadata": {},
   "source": [
    "## Durable Functions"
   ]
  },
  {
   "cell_type": "markdown",
   "metadata": {},
   "source": [
    "<img src=images/azure-function-chaining.png><br>\n",
    "<img src=images/azure-function-fan-out-fan-in.png>"
   ]
  },
  {
   "cell_type": "code",
   "execution_count": null,
   "metadata": {
    "dotnet_interactive": {
     "language": "csharp"
    },
    "polyglot_notebook": {
     "kernelName": "csharp"
    },
    "vscode": {
     "languageId": "polyglot-notebook"
    }
   },
   "outputs": [],
   "source": [
    "int input;\n",
    "\n",
    "int intermediate = function1(intput);\n",
    "int output = function2(intermediate);\n",
    "\n",
    "return output;"
   ]
  },
  {
   "cell_type": "markdown",
   "metadata": {},
   "source": [
    "- https://learn.microsoft.com/en-us/azure/azure-functions/durable\n",
    "- https://learn.microsoft.com/en-us/azure/azure-functions/durable/durable-functions-overview\n",
    "- Durable Functions is an extension of Azure Functions that lets you write stateful functions in a serverless compute environment. The extension lets you define stateful workflows by writing orchestrator functions and stateful entities by writing entity functions using the Azure Functions programming model. Behind the scenes, the extension manages state, checkpoints, and restarts for you, allowing you to focus on your business logic\n",
    "\n",
    "<img src=images/azure-function-orchestrator.png width=600>\n",
    "\n",
    "__Workflow__\n",
    "\n",
    "<img src=images/azure-function-workflow.png>\n",
    "\n",
    "__Lets take a look at JiraWorkLogs Azure Function__"
   ]
  },
  {
   "cell_type": "markdown",
   "metadata": {},
   "source": [
    "## Gotchas"
   ]
  },
  {
   "cell_type": "markdown",
   "metadata": {},
   "source": [
    "- https://learn.microsoft.com/en-us/azure/azure-functions/functions-scale#limitations-for-creating-new-function-apps-in-an-existing-resource-group\n",
    "- Azure functions has max time limit; by default it's 5min and can be extended to 20mins (not sure); these settings go in hosts.json\n",
    "    - Using Azure SDK you can spin up VM/Container and pass on your long running work there (Model Training)\n",
    "    - The VM or Container can invoke function which can stop that VM/Container and do rest of the things\n",
    "- Watch out for Azure Nugets; they are always updating\n",
    "- Project generated from Visual Studio template; can be outdated; code might not work as is with updated Nugets\n",
    "- Always test your function locally and then deploy "
   ]
  },
  {
   "cell_type": "markdown",
   "metadata": {},
   "source": [
    "# Azure Version of JiraWorkLogs: Technical Debt"
   ]
  },
  {
   "cell_type": "markdown",
   "metadata": {},
   "source": [
    "<img src=images/jiraworklogs-azure-debt.png>"
   ]
  },
  {
   "cell_type": "markdown",
   "metadata": {},
   "source": [
    "# Azure Portal / CLI / SDK"
   ]
  },
  {
   "cell_type": "markdown",
   "metadata": {},
   "source": [
    "- *Logs, Metrics and Telemetry using Insights*\n",
    "- Web Apps are basically containers\n",
    "    - They uses Environment Variables; Configurations\n",
    "    - Application Insights\n",
    "- SQL and Cosmos DB tools"
   ]
  },
  {
   "cell_type": "markdown",
   "metadata": {},
   "source": [
    "# Assignment"
   ]
  },
  {
   "cell_type": "markdown",
   "metadata": {},
   "source": [
    "- https://github.com/khurram-uworx/jiraworklogs/issues?q=is%3Aopen+is%3Aissue+milestone%3Aazure"
   ]
  },
  {
   "cell_type": "markdown",
   "metadata": {},
   "source": [
    "# Azure Resources"
   ]
  },
  {
   "cell_type": "markdown",
   "metadata": {},
   "source": [
    "__Youtube__\n",
    "- Using Durable Azure Functions in .NET 7; https://www.youtube.com/watch?v=JIQzz7yIHpo\n",
    "- Azure Durable Functions (.NET 7); https://www.youtube.com/watch?v=5XJakQ89As8\n",
    "- Azure Cosmos DB extension for Azure Functions update with AAD support; https://www.youtube.com/watch?v=w002dYaP9mw"
   ]
  },
  {
   "cell_type": "markdown",
   "metadata": {},
   "source": [
    "<p><img src=images/azure_credits_meme.webp></p>\n",
    "\n",
    "- https://learn.microsoft.com/en-us/training/azure\n",
    "    - https://learn.microsoft.com/en-us/training/paths/get-started-data-engineering\n",
    "    - https://learn.microsoft.com/en-us/training/paths/get-started-fabric\n",
    "- https://www.youtube.com/@MicrosoftAzure/playlists"
   ]
  },
  {
   "cell_type": "markdown",
   "metadata": {},
   "source": [
    "# Recommended Trainings"
   ]
  },
  {
   "cell_type": "markdown",
   "metadata": {},
   "source": [
    "- https://learn.microsoft.com/en-us/training/paths/implement-azure-functions\n",
    "    - https://learn.microsoft.com/en-us/training/modules/explore-azure-functions\n",
    "    - https://learn.microsoft.com/en-us/training/modules/develop-azure-functions"
   ]
  }
 ],
 "metadata": {
  "kernelspec": {
   "display_name": ".NET (C#)",
   "language": "C#",
   "name": ".net-csharp"
  },
  "language_info": {
   "name": "python",
   "version": "3.11.4"
  },
  "polyglot_notebook": {
   "kernelInfo": {
    "defaultKernelName": "csharp",
    "items": [
     {
      "aliases": [],
      "languageName": "csharp",
      "name": "csharp"
     }
    ]
   }
  }
 },
 "nbformat": 4,
 "nbformat_minor": 2
}
