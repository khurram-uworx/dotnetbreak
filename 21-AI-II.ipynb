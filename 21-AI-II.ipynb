{
 "cells": [
  {
   "cell_type": "markdown",
   "metadata": {},
   "source": [
    "# .NET Aspire 🤩"
   ]
  },
  {
   "cell_type": "code",
   "execution_count": null,
   "metadata": {
    "dotnet_interactive": {
     "language": "value"
    },
    "polyglot_notebook": {
     "kernelName": "value"
    }
   },
   "outputs": [],
   "source": [
    "on dotnet/aspnetcore milestone 9; check out theme item\n",
    "    - https://github.com/dotnet/aspnetcore/issues/53178"
   ]
  },
  {
   "cell_type": "markdown",
   "metadata": {},
   "source": [
    "- https://github.com/dotnet/aspnetcore\n",
    "\n",
    "<img src=images/aspire-overview.png width=800>\n",
    "\n",
    "- https://learn.microsoft.com/en-us/dotnet/aspire/fundamentals/app-host-overview"
   ]
  },
  {
   "cell_type": "markdown",
   "metadata": {},
   "source": [
    "- https://learn.microsoft.com/en-us/dotnet/aspire/fundamentals/setup-tooling\n",
    "- https://learn.microsoft.com/en-us/dotnet/aspire/get-started/build-your-first-aspire-app\n",
    "- https://learn.microsoft.com/en-us/dotnet/core/extensions/generic-host"
   ]
  },
  {
   "cell_type": "markdown",
   "metadata": {},
   "source": [
    "# .NET 💖 AI"
   ]
  },
  {
   "cell_type": "markdown",
   "metadata": {},
   "source": [
    "- AI is \"cool\" with C#/.NET/Azure\n",
    "- .NET 💖 AI\n",
    "    - Microsoft.Data.Analysis and ML.NET: Bert (TorchSharp), Onnx\n",
    "    - Model Builder\n",
    "    - Community Data Science / AI / ML Libraries\n",
    "    - C# and F#"
   ]
  },
  {
   "cell_type": "markdown",
   "metadata": {},
   "source": [
    "### Microsoft.Data.Analysis"
   ]
  },
  {
   "cell_type": "code",
   "execution_count": null,
   "metadata": {
    "dotnet_interactive": {
     "language": "csharp"
    },
    "polyglot_notebook": {
     "kernelName": "csharp"
    }
   },
   "outputs": [],
   "source": [
    "#r \"nuget:Microsoft.Data.Analysis\"\n",
    "using Microsoft.Data.Analysis;"
   ]
  },
  {
   "cell_type": "code",
   "execution_count": null,
   "metadata": {
    "dotnet_interactive": {
     "language": "csharp"
    },
    "polyglot_notebook": {
     "kernelName": "csharp"
    }
   },
   "outputs": [],
   "source": [
    "using Microsoft.Data.Analysis;\n",
    "\n",
    "var series = new PrimitiveDataFrameColumn<int>(\"MySeries\");\n",
    "\n",
    "series.Append(1);\n",
    "series.Append(2);\n",
    "series.Append(3);\n",
    "\n",
    "Console.WriteLine(series.Length);\n",
    "Console.WriteLine(series[0]);       // it works like array + something more\n",
    "\n",
    "series.CumulativeProduct() // pandas has cumprod; multiply value with previous value; 1 as is; 2 will become 2 x 1; 3 will become 3 x 2"
   ]
  },
  {
   "cell_type": "code",
   "execution_count": null,
   "metadata": {
    "dotnet_interactive": {
     "language": "csharp"
    },
    "polyglot_notebook": {
     "kernelName": "csharp"
    }
   },
   "outputs": [],
   "source": [
    "// its .NET flavored; implements IEnumerable and hence you can use LINQ\n",
    "series.OrderByDescending(s => s).Take(1).FirstOrDefault();\n",
    "// linq and relational queries are good for row level computation\n",
    "// but its become hard to do reduce like operations where at row operation has some sense of positional context\n",
    "\n",
    "// in nutshell; you are getting best of both worlds"
   ]
  },
  {
   "cell_type": "markdown",
   "metadata": {},
   "source": [
    "What's wrong here?\n",
    "- You have to learn new OOPish API\n",
    "- C/C++/Java/C# are last choices for Data Scientists; they like non ceremonial languages (scripty / untypish)\n",
    "    - C# is becoming succint but its still a ceremonial language;\n",
    "- Python Ecosystem is stronger and its OK\n",
    "    - *Python and Node workloads in Visual Studio; but who uses it?* 😇"
   ]
  },
  {
   "cell_type": "markdown",
   "metadata": {},
   "source": [
    "## F#"
   ]
  },
  {
   "cell_type": "markdown",
   "metadata": {},
   "source": [
    "- .NET Interactive and Polyglot Notebooks\n",
    "- Charting Libraries: XPlot, Plotly.NET\n",
    "- Libraries\n",
    "    - Deedle; https://fslab.org/Deedle/tutorial.html\n",
    "    - TorchSharp originated in Xamarin and F#\n",
    "    - https://diffsharp.github.io\n",
    "    - https://numerics.mathdotnet.com\n",
    "    - SharpCV (Computer Vision)\n",
    "    - and others\n",
    "- http://fslab.org"
   ]
  },
  {
   "cell_type": "markdown",
   "metadata": {},
   "source": [
    "### Math Things in F#"
   ]
  },
  {
   "cell_type": "code",
   "execution_count": 1,
   "metadata": {
    "dotnet_interactive": {
     "language": "fsharp"
    },
    "polyglot_notebook": {
     "kernelName": "fsharp"
    }
   },
   "outputs": [],
   "source": [
    "#r \"nuget: Plotly.NET.Interactive\"\n",
    "#r \"nuget: MathNet.Numerics.FSharp, 5.0.0\"\n",
    "\n",
    "open Plotly.NET\n",
    "open MathNet.Numerics.LinearAlgebra"
   ]
  },
  {
   "cell_type": "code",
   "execution_count": 2,
   "metadata": {
    "dotnet_interactive": {
     "language": "fsharp"
    },
    "polyglot_notebook": {
     "kernelName": "fsharp"
    }
   },
   "outputs": [],
   "source": [
    "let xData = [ 0. .. 10. ]\n",
    "let yData = [ 0. .. 10. ]\n",
    "\n",
    "Chart.Point(xData, yData)\n",
    "|> Chart.withTitle \"Hello world!\"\n",
    "|> Chart.withXAxisStyle (\"xAxis\")\n",
    "|> Chart.withYAxisStyle (\"yAxis\")"
   ]
  },
  {
   "cell_type": "code",
   "execution_count": 3,
   "metadata": {
    "dotnet_interactive": {
     "language": "fsharp"
    },
    "polyglot_notebook": {
     "kernelName": "fsharp"
    }
   },
   "outputs": [],
   "source": [
    "Chart.Line(xy = [ for x in 1.0 .. 100.0 -> (x, x ** 2.0) ])"
   ]
  },
  {
   "cell_type": "code",
   "execution_count": 4,
   "metadata": {
    "dotnet_interactive": {
     "language": "fsharp"
    },
    "polyglot_notebook": {
     "kernelName": "fsharp"
    }
   },
   "outputs": [],
   "source": [
    "let m = matrix [[ 1.0; 4.0; 7.0 ]\n",
    "                [ 2.0; 5.0; 8.0 ]\n",
    "                [ 3.0; 6.0; 9.0 ]]\n",
    "\n",
    "let v = vector [ 10.0; 20.0; 30.0 ]\n",
    "\n",
    "let v' = m * v\n",
    "let m' = m + 2.0*m"
   ]
  },
  {
   "cell_type": "markdown",
   "metadata": {},
   "source": [
    "### TorchSharp"
   ]
  },
  {
   "cell_type": "code",
   "execution_count": 5,
   "metadata": {
    "dotnet_interactive": {
     "language": "fsharp"
    },
    "polyglot_notebook": {
     "kernelName": "fsharp"
    }
   },
   "outputs": [],
   "source": [
    "#r \"nuget: TorchSharp-cpu\"\n",
    "\n",
    "open TorchSharp\n",
    "open type torch\n",
    "open type TorchSharp.TensorExtensionMethods\n",
    "open type TorchSharp.torch.distributions\n",
    "open type TorchSharp.torch.nn\n"
   ]
  },
  {
   "cell_type": "code",
   "execution_count": 6,
   "metadata": {
    "dotnet_interactive": {
     "language": "fsharp"
    },
    "polyglot_notebook": {
     "kernelName": "fsharp"
    }
   },
   "outputs": [],
   "source": [
    "// Bernoulli distrubtion; false/true or 0/1 (coin toss)\n",
    "let bern = Bernoulli(torch.tensor(0.5f))\n",
    "bern.sample(3L,4L)"
   ]
  },
  {
   "cell_type": "code",
   "execution_count": 7,
   "metadata": {
    "dotnet_interactive": {
     "language": "fsharp"
    },
    "polyglot_notebook": {
     "kernelName": "fsharp"
    }
   },
   "outputs": [],
   "source": [
    "let linear_layer = nn.Linear(inputSize = 3, outputSize = 1)\n",
    "linear_layer.bias"
   ]
  },
  {
   "cell_type": "markdown",
   "metadata": {},
   "source": [
    "<img src=images/torch-linear.png>"
   ]
  },
  {
   "cell_type": "markdown",
   "metadata": {},
   "source": [
    "#### F# and Python"
   ]
  },
  {
   "cell_type": "code",
   "execution_count": null,
   "metadata": {
    "dotnet_interactive": {
     "language": "fsharp"
    },
    "polyglot_notebook": {
     "kernelName": "fsharp"
    }
   },
   "outputs": [],
   "source": [
    "// Python example from https://pytorch.org/tutorials/beginner/basics/buildmodel_tutorial.html\n",
    "class NeuralNetwork(nn.Module):\n",
    "    def __init__(self):\n",
    "        super().__init__()\n",
    "        self.flatten = nn.Flatten()\n",
    "        self.linear_relu_stack = nn.Sequential(\n",
    "            nn.Linear(28*28, 512),\n",
    "            nn.ReLU(),\n",
    "            nn.Linear(512, 512),\n",
    "            nn.ReLU(),\n",
    "            nn.Linear(512, 10),\n",
    "        )\n",
    "\n",
    "    def forward(self, x):\n",
    "        x = self.flatten(x)\n",
    "        logits = self.linear_relu_stack(x)\n",
    "        return logits"
   ]
  },
  {
   "cell_type": "markdown",
   "metadata": {},
   "source": [
    "- https://www.ml-science.com/rectifier-activation-function\n",
    "\n",
    "<img src=images/torch-activation.png>"
   ]
  },
  {
   "cell_type": "code",
   "execution_count": null,
   "metadata": {
    "dotnet_interactive": {
     "language": "fsharp"
    },
    "polyglot_notebook": {
     "kernelName": "fsharp"
    }
   },
   "outputs": [],
   "source": [
    "type NeuralNetwork() =\n",
    "    inherit nn.Module(\"NeuralNetwork\")\n",
    "\n",
    "    let flatten = nn.Flatten()\n",
    "    let linear_relu_stack = nn.Sequential (\n",
    "        nn.Linear(28L *28L, 512),\n",
    "        nn.ReLU(),\n",
    "        nn.Linear(512, 512),\n",
    "        nn.ReLU(),\n",
    "        nn.Linear(512, 10)\n",
    "    )\n",
    "\n",
    "    let forward(x) =\n",
    "        let x = flatten.forward(x)\n",
    "        let logits = linear_relu_stack.forward(x)\n",
    "        logits"
   ]
  },
  {
   "cell_type": "code",
   "execution_count": 1,
   "metadata": {
    "dotnet_interactive": {
     "language": "csharp"
    },
    "polyglot_notebook": {
     "kernelName": "csharp"
    }
   },
   "outputs": [],
   "source": [
    "// Restart Kernel\n",
    "#r \"nuget: TorchSharp-cpu\"\n",
    "using TorchSharp;\n",
    "using static TorchSharp.torch.nn;"
   ]
  },
  {
   "cell_type": "code",
   "execution_count": 2,
   "metadata": {
    "dotnet_interactive": {
     "language": "csharp"
    },
    "polyglot_notebook": {
     "kernelName": "csharp"
    }
   },
   "outputs": [],
   "source": [
    "var lin1 = Linear(1000, 100);\n",
    "var lin2 = Linear(100, 10);\n",
    "var seq = Sequential((\"lin1\", lin1), (\"relu1\", ReLU()), (\"drop1\", Dropout(0.1)), (\"lin2\", lin2));\n",
    "\n",
    "var x = torch.randn(64, 1000);\n",
    "var y = torch.randn(64, 10);\n",
    "\n",
    "var optimizer = torch.optim.Adam(seq.parameters());\n",
    "\n",
    "for (int i = 0; i < 10; i++) {\n",
    "    using var eval = seq.forward(x);\n",
    "    using var output = functional.mse_loss(eval, y, Reduction.Sum);\n",
    "\n",
    "    optimizer.zero_grad();\n",
    "\n",
    "    output.backward();\n",
    "\n",
    "    optimizer.step();\n",
    "}"
   ]
  },
  {
   "cell_type": "markdown",
   "metadata": {},
   "source": [
    "- https://github.com/dotnet/TorchSharpExamples\n",
    "    - https://github.com/dotnet/TorchSharpExamples/tree/main/tutorials"
   ]
  },
  {
   "cell_type": "markdown",
   "metadata": {},
   "source": [
    "### DiffSharp"
   ]
  },
  {
   "cell_type": "code",
   "execution_count": 3,
   "metadata": {
    "dotnet_interactive": {
     "language": "fsharp"
    },
    "polyglot_notebook": {
     "kernelName": "fsharp"
    }
   },
   "outputs": [],
   "source": [
    "#r \"nuget: DiffSharp-cpu\"\n",
    "open DiffSharp"
   ]
  },
  {
   "cell_type": "code",
   "execution_count": 4,
   "metadata": {
    "dotnet_interactive": {
     "language": "fsharp"
    },
    "polyglot_notebook": {
     "kernelName": "fsharp"
    }
   },
   "outputs": [],
   "source": [
    "let t1 = dsharp.tensor [ 0.0 ..0.2.. 1.0 ] // Gives [0., 0.2, 0.4, 0.6, 0.8, 1.]\n",
    "let t2 = dsharp.tensor [ 1, 2, 3, 4, 5, 6 ]\n",
    "\n",
    "t1 + t2"
   ]
  },
  {
   "cell_type": "code",
   "execution_count": null,
   "metadata": {
    "dotnet_interactive": {
     "language": "fsharp"
    },
    "polyglot_notebook": {
     "kernelName": "fsharp"
    }
   },
   "outputs": [],
   "source": [
    "let t3 = dsharp.tensor [[[[0.0 .. 10.0]]]]\n",
    "let t4 = dsharp.tensor [[[[0.0 ..0.1.. 1.0]]]]\n",
    "\n",
    "// think of convolution as a filter for smoothing out signal or filtering something; dimensionality reduction\n",
    "// t3 as input; t4 as output; if we want convolution between these two; we should get another vector\n",
    "t3.conv2d(t4)\n",
    "// https://www.ml-science.com/convolution"
   ]
  },
  {
   "cell_type": "code",
   "execution_count": null,
   "metadata": {
    "dotnet_interactive": {
     "language": "fsharp"
    },
    "polyglot_notebook": {
     "kernelName": "fsharp"
    }
   },
   "outputs": [],
   "source": [
    "let f (x: Tensor) = x.exp().sum() // f is objective function\n",
    "\n",
    "// we are interested how it changes with respect to its input tensor\n",
    "// how much each component of tensor is contributing to the change in the value of 'f'\n",
    "// this info is used in ML optimization techniques / gradient descent\n",
    "\n",
    "dsharp.grad f (dsharp.tensor([1.8, 2.5])) // Gradient of the vector-to-scaler\n",
    "// https://www.ml-science.com/gradients"
   ]
  },
  {
   "cell_type": "markdown",
   "metadata": {},
   "source": [
    "<img src=images/gradient-descent.png>"
   ]
  },
  {
   "cell_type": "markdown",
   "metadata": {},
   "source": [
    "- https://en.wikipedia.org/wiki/Gradient_descent\n",
    "- https://diffsharp.github.io"
   ]
  },
  {
   "cell_type": "markdown",
   "metadata": {},
   "source": [
    "### F# as a Better Python ?"
   ]
  },
  {
   "cell_type": "markdown",
   "metadata": {},
   "source": [
    "- F# as a Better Python - https://www.youtube.com/watch?v=_QnbV6CAWXc\n",
    "\n",
    "<img src=images/ai-net-2.jpg width=800>\n",
    "\n",
    "- Python Tools in Visual Studio\n",
    "- https://developer.microsoft.com/en-us/python\n",
    "    - Python and VS Code\n",
    "    - Python in SQL Server\n",
    "    - Python in Excel"
   ]
  },
  {
   "cell_type": "markdown",
   "metadata": {},
   "source": [
    "__Resources__\n",
    "- https://www.cambridge.org/core/books/functional-programming-using-f/BAB494BBE8AEBB13486F9A8362273D41\n",
    "- https://fsharpforfunandprofit.com\n",
    "- https://exercism.org/tracks/fsharp\n",
    "- https://www.fssnip.net\n",
    "- https://dotnet.microsoft.com/en-us/learn/fsharp"
   ]
  },
  {
   "cell_type": "markdown",
   "metadata": {},
   "source": [
    "## Semantic Kernel"
   ]
  },
  {
   "cell_type": "markdown",
   "metadata": {},
   "source": [
    "- https://learn.microsoft.com/en-us/semantic-kernel/overview\n",
    "- https://github.com/microsoft/semantic-kernel\n",
    "    - .NET, Python and Java\n",
    "\n",
    "<img src=images/sk.png>"
   ]
  },
  {
   "cell_type": "code",
   "execution_count": null,
   "metadata": {
    "dotnet_interactive": {
     "language": "csharp"
    },
    "polyglot_notebook": {
     "kernelName": "csharp"
    }
   },
   "outputs": [],
   "source": [
    "#r \"nuget:Microsoft.SemanticKernel\""
   ]
  },
  {
   "cell_type": "code",
   "execution_count": null,
   "metadata": {
    "dotnet_interactive": {
     "language": "csharp"
    },
    "polyglot_notebook": {
     "kernelName": "csharp"
    }
   },
   "outputs": [],
   "source": [
    "using Microsoft.SemanticKernel;\n",
    "using Microsoft.SemanticKernel.Connectors.OpenAI;\n",
    "\n",
    "var builder = Kernel.CreateBuilder();\n",
    "\n",
    "builder.AddOpenAIChatCompletion(\n",
    "         \"gpt-3.5-turbo\",                                       // OpenAI Model name\n",
    "         \"\");                                                   // OpenAI Key\n",
    "var kernel = builder.Build();\n",
    "\n",
    "var prompt = @\"{{$input}}\n",
    "\n",
    "One line TLDR with the fewest words.\";\n",
    "\n",
    "var summarize = kernel.CreateFunctionFromPrompt(prompt, executionSettings: new OpenAIPromptExecutionSettings { MaxTokens = 100 });\n",
    "\n",
    "string text1 = @\"\n",
    "1st Law of Thermodynamics - Energy cannot be created or destroyed.\n",
    "2nd Law of Thermodynamics - For a spontaneous process, the entropy of the universe increases.\n",
    "3rd Law of Thermodynamics - A perfect crystal at zero Kelvin has zero entropy.\";\n",
    "\n",
    "string text2 = @\"\n",
    "1. An object at rest remains at rest, and an object in motion remains in motion at constant speed and in a straight line unless acted on by an unbalanced force.\n",
    "2. The acceleration of an object depends on the mass of the object and the amount of force applied.\n",
    "3. Whenever one object exerts a force on another object, the second object exerts an equal and opposite on the first.\";\n",
    "\n",
    "Console.WriteLine(await kernel.InvokeAsync(summarize, new() { [\"input\"] = text1 }));\n",
    "\n",
    "Console.WriteLine(await kernel.InvokeAsync(summarize, new() { [\"input\"] = text2 }));\n",
    "\n",
    "// Output:\n",
    "//   Energy conserved, entropy increases, zero entropy at 0K.\n",
    "//   Objects move in response to forces."
   ]
  },
  {
   "cell_type": "markdown",
   "metadata": {},
   "source": [
    "<img src=images/gpt-scenario.png width=800>\n",
    "\n",
    "- Travel Plan Example: https://chat.openai.com/share/a21b3b0e-d293-4728-bca1-4e12eb647dc8\n",
    "- https://www.linkedin.com/pulse/power-semantic-kernel-azure-openai-sap-data-chanjin-park-y8u3c"
   ]
  },
  {
   "cell_type": "markdown",
   "metadata": {},
   "source": [
    "__Further Resources__\n",
    "- https://github.com/microsoft/semantic-kernel/blob/main/dotnet/README.md\n",
    "- 👉 https://github.com/microsoft/semantic-kernel/tree/main/dotnet/samples\n",
    "    - https://github.com/microsoft/semantic-kernel/tree/main/dotnet/samples/HomeAutomation\n",
    "    - https://github.com/microsoft/semantic-kernel/tree/main/dotnet/samples/HuggingFaceImageTextExample"
   ]
  },
  {
   "cell_type": "markdown",
   "metadata": {},
   "source": [
    "<img src=images/rag.png width=800>\n",
    "\n",
    "<img src=images/lang-chain.jpg width=800>"
   ]
  },
  {
   "cell_type": "markdown",
   "metadata": {},
   "source": [
    "### LangChain vs Semantic Kernel"
   ]
  },
  {
   "cell_type": "markdown",
   "metadata": {},
   "source": [
    "| Type                   | LangChain's Agents | Semantic Kernel's Planner |\n",
    "| ---------------------- | ------------------ | ------------------------- |\n",
    "| Conversational         | ✅                 | ❌                        |\n",
    "| Plan and execute       | ✅                 | ✅ (SequentialPlanner)    |\n",
    "| ReAct                  | ✅                 | ✅ (StepwisePlanner)      |\n",
    "| Tree of Thoughts (ToT) | ✅                 | ❌                        |"
   ]
  },
  {
   "cell_type": "markdown",
   "metadata": {},
   "source": [
    "<img src=images/sk-overview.png>\n",
    "\n",
    "- 👉 Demo https://www.youtube.com/watch?v=TNqAJUgm-sU\n",
    "- https://devblogs.microsoft.com/semantic-kernel/building-ai-applications-with-microsoft-semantic-kernel-and-mongodb-atlas-vector-search\n",
    "- https://github.com/microsoft/SemanticKernelCookBook"
   ]
  },
  {
   "cell_type": "markdown",
   "metadata": {},
   "source": [
    "# Azure 💖 AI"
   ]
  },
  {
   "cell_type": "markdown",
   "metadata": {},
   "source": [
    "- https://azure.microsoft.com/en-us/products/ai-services"
   ]
  },
  {
   "cell_type": "markdown",
   "metadata": {},
   "source": [
    "## Azure AI Services (Cognitive Service) 🪂"
   ]
  },
  {
   "cell_type": "markdown",
   "metadata": {},
   "source": [
    "<img src=images/azure-ai.png width=900>\n",
    "\n",
    "<img src=images/chat-gpt-business.png width=800>"
   ]
  },
  {
   "cell_type": "markdown",
   "metadata": {},
   "source": [
    "- Language\n",
    "    - Intent\n",
    "- Translation\n",
    "- Content Safety\n",
    "    - Detecting Offensive content\n",
    "- Speech\n",
    "    - Transcribe, translate and generate audio\n",
    "- Vision\n",
    "    - OCR\n",
    "- Document Intelligence\n",
    "    - Upload document and get meta data\n",
    "\n",
    "Pricing\n",
    "- https://azure.microsoft.com/en-us/pricing/details/cognitive-services\n",
    "\n",
    "<img src=images/train-model.png width=800>"
   ]
  },
  {
   "cell_type": "markdown",
   "metadata": {},
   "source": [
    "- Azure OpenAI Service\n",
    "    - Why not use OpenAI when Azure OpenAI is slightly expensive?\n",
    "        - As per internet; Azure OpenAI is slightly faster (time it takes for prompts to process)\n",
    "        - Azure OpenAI latency is slightly less\n",
    "    - Mostly inconclusive\n",
    "- Azure AI Search\n",
    "    - Full Text + Vector Search / Hybrid\n",
    "    - https://learn.microsoft.com/en-us/azure/search/retrieval-augmented-generation-overview\n",
    "    - Using this; you can do something like JFK Example; https://www.youtube.com/watch?v=6kw8SHwxp9c\n",
    "    - Pricing Model is similar to Cosmos; storage + search units\n",
    "    - Think of it like Elasticsearch /w AI\n",
    "        - ML features in new Elasticsearch / Elastic Cloud\n"
   ]
  },
  {
   "cell_type": "markdown",
   "metadata": {},
   "source": [
    "## Analytics 🤑"
   ]
  },
  {
   "cell_type": "markdown",
   "metadata": {},
   "source": [
    "### Overview"
   ]
  },
  {
   "cell_type": "markdown",
   "metadata": {},
   "source": [
    "<img src=images/big-data-logical.svg>\n",
    "\n",
    "- https://learn.microsoft.com/en-us/azure/architecture/guide/architecture-styles/big-data"
   ]
  },
  {
   "cell_type": "markdown",
   "metadata": {},
   "source": [
    "<img src=images/azure-big-data.png width=900>\n",
    "\n",
    "<img src=images/azure-big-data-2.png width=900>"
   ]
  },
  {
   "cell_type": "markdown",
   "metadata": {},
   "source": [
    "### Products"
   ]
  },
  {
   "cell_type": "markdown",
   "metadata": {},
   "source": [
    "- Azure Synapse Analytics\n",
    "- Databricks\n",
    "- HD Insights\n",
    "- Azure Data Factory\n",
    "- Azure Stream Analytics\n",
    "- Azure Machine Learning\n",
    "\n",
    "and others; https://azure.microsoft.com/en-us/products/category/analytics"
   ]
  },
  {
   "cell_type": "markdown",
   "metadata": {},
   "source": [
    "### Databricks"
   ]
  },
  {
   "cell_type": "markdown",
   "metadata": {},
   "source": [
    "<img src=images/azure-databricks.png>"
   ]
  },
  {
   "cell_type": "markdown",
   "metadata": {},
   "source": [
    "### Azure Synapse"
   ]
  },
  {
   "cell_type": "markdown",
   "metadata": {},
   "source": [
    "<img src=images/azure-synapse.webp width=900>\n",
    "\n",
    "<img src=images/synapse-1.avif width=900><br>\n",
    "<img src=images/synapse-2.avif>"
   ]
  },
  {
   "cell_type": "markdown",
   "metadata": {},
   "source": [
    "### Knowledge Mining"
   ]
  },
  {
   "cell_type": "markdown",
   "metadata": {},
   "source": [
    "- Analytics + AI\n",
    "- https://azure.microsoft.com/en-us/solutions/knowledge-mining\n",
    "\n",
    "<img src=images/azure-knowledge-minning.png width=900>"
   ]
  },
  {
   "cell_type": "markdown",
   "metadata": {},
   "source": [
    "## Azure Machine Learning 🤑"
   ]
  },
  {
   "cell_type": "markdown",
   "metadata": {},
   "source": [
    "<img src=images/azure-ml.png width=800>\n",
    "\n",
    "<img src=images/azure-mlops.png width=800>\n",
    "\n",
    "- https://ml.azure.com (Firefox / KN Profile)"
   ]
  },
  {
   "cell_type": "markdown",
   "metadata": {},
   "source": [
    "__Resources__\n",
    "- https://learn.microsoft.com/en-us/azure/machine-learning/concept-model-catalog\n",
    "    - https://learn.microsoft.com/en-us/azure/machine-learning/how-to-use-automl-onnx-model-dotnet"
   ]
  },
  {
   "cell_type": "markdown",
   "metadata": {},
   "source": [
    "## Azure AI Studio 😎🤑"
   ]
  },
  {
   "cell_type": "markdown",
   "metadata": {},
   "source": [
    "<img src=images/azure-ai-studio.webp width=800>\n",
    "\n",
    "<img src=images/copilot-stack.png width=800>\n",
    "\n",
    "- https://ai.azure.com (Firefox / KN Profile)"
   ]
  },
  {
   "cell_type": "markdown",
   "metadata": {},
   "source": [
    "__Resources__\n",
    "- Azure AI Studio Demo - Microsoft Ignite 2023: https://www.youtube.com/watch?v=-6nN4M9juIo\n",
    "- https://github.com/Azure-Samples/aistudio-python-langchain-sample?tab=readme-ov-file"
   ]
  },
  {
   "cell_type": "markdown",
   "metadata": {},
   "source": [
    "## Microsoft Fabric 🥰 🤑"
   ]
  },
  {
   "cell_type": "markdown",
   "metadata": {},
   "source": [
    "<img src=images/ms-fabric.jpg width=800>"
   ]
  },
  {
   "cell_type": "markdown",
   "metadata": {},
   "source": [
    "<img src=images/ms-fabric-users.jpg width=800>\n",
    "\n",
    "<img src=images/ms-fabric-expanded.jpg width=800>"
   ]
  },
  {
   "cell_type": "markdown",
   "metadata": {},
   "source": [
    "<img src=images/data-processing.jpg width=800>"
   ]
  },
  {
   "cell_type": "markdown",
   "metadata": {},
   "source": [
    "# Poor Man's Vector Search"
   ]
  },
  {
   "cell_type": "markdown",
   "metadata": {},
   "source": [
    "__Inception__\n",
    "- https://sl.bing.net/ZU3u43AUP6\n",
    "\n",
    "__Elaboration__\n",
    "- https://neptune.ai/blog/tokenization-in-nlp\n",
    "- https://huggingface.co/sentence-transformers/all-MiniLM-L6-v2\n",
    "\n",
    "__Construction__\n",
    "- https://github.com/curiosity-ai/hnsw-sharp\n",
    "- https://github.com/curiosity-ai/MiniLM\n",
    "    - https://github.com/NMZivkovic/BertTokenizers\n",
    "- Demo\n",
    "\n",
    "__Transition__\n",
    "- https://sl.bing.net/iu6M8Mbz4o0"
   ]
  },
  {
   "cell_type": "markdown",
   "metadata": {},
   "source": [
    "# Succeeding with AI"
   ]
  },
  {
   "cell_type": "markdown",
   "metadata": {},
   "source": [
    "### Approach"
   ]
  },
  {
   "cell_type": "markdown",
   "metadata": {},
   "source": [
    "<img src=images/ai-taxonomy.jpg width=800><br>\n",
    "\n",
    "<img src=images/ai-taxonomy-2.jpg width=800>\n",
    "\n",
    "- Late Payment Example: https://chat.openai.com/share/a34b846e-8f3f-4fd4-b27a-30e25793ab25"
   ]
  },
  {
   "cell_type": "markdown",
   "metadata": {},
   "source": [
    "### Team"
   ]
  },
  {
   "cell_type": "markdown",
   "metadata": {},
   "source": [
    "<img src=images/data-team.jpg>"
   ]
  },
  {
   "cell_type": "markdown",
   "metadata": {},
   "source": [
    "# Resources 📚"
   ]
  },
  {
   "cell_type": "markdown",
   "metadata": {},
   "source": [
    "## AI Architecture 🌱"
   ]
  },
  {
   "cell_type": "markdown",
   "metadata": {},
   "source": [
    "<img src=images/azure-arch-ai.svg><br>\n",
    "https://learn.microsoft.com/en-us/azure/architecture/databases/idea/intelligent-apps-using-azure-database-for-postgresql\n",
    "\n",
    "<img src=images/azure-arch-ecomm.png width=900><br>\n",
    "https://learn.microsoft.com/en-us/azure/architecture/example-scenario/apps/ecommerce-search\n",
    "\n",
    "\n",
    "<img src=images/azure-arch-bot.svg><br>\n",
    "https://learn.microsoft.com/en-us/azure/architecture/solution-ideas/articles/custom-business-processes\n",
    "\n",
    "- lot more @ - https://learn.microsoft.com/en-us/azure/architecture/browse"
   ]
  },
  {
   "cell_type": "markdown",
   "metadata": {},
   "source": [
    "__Learning__\n",
    "- https://learn.microsoft.com/en-us/training/career-paths/data-analyst\n",
    "- https://learn.microsoft.com/en-us/training/paths/data-analytics-microsoft\n",
    "- https://learn.microsoft.com/en-us/training/paths/understand-data-concepts\n",
    "    - https://learn.microsoft.com/en-us/training/modules/get-started-data-analytics\n",
    "\n",
    "__Github__\n",
    "- https://github.com/SciSharp/Numpy.NET\n",
    "- https://github.com/dotnet/csharp-notebooks/tree/main/machine-learning\n",
    "- https://github.com/mdfarragher/DSC\n",
    "- https://github.com/microsoft/Data-Science-For-Beginners\n",
    "\n",
    "__Youtube__\n",
    "- https://www.youtube.com/@dotnet\n",
    "    - Generative AI with .NET for Beginners Playlist (12 Videos): https://www.youtube.com/watch?v=vISLS8aY0RU&list=PLdo4fOcmZ0oW_k4_eDTPWDLUVWz7A9y0M\n",
    "    - ML.NET Model Builder: Machine learning with .NET: https://www.youtube.com/watch?v=cUqNzZwzUV0"
   ]
  }
 ],
 "metadata": {
  "kernelspec": {
   "display_name": ".NET (C#)",
   "language": "C#",
   "name": ".net-csharp"
  },
  "language_info": {
   "name": "polyglot-notebook"
  },
  "polyglot_notebook": {
   "kernelInfo": {
    "defaultKernelName": "csharp",
    "items": [
     {
      "aliases": [],
      "languageName": "csharp",
      "name": "csharp"
     }
    ]
   }
  }
 },
 "nbformat": 4,
 "nbformat_minor": 2
}
