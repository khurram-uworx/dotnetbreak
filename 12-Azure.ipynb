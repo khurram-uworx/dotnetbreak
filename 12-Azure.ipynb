{
 "cells": [
  {
   "cell_type": "markdown",
   "metadata": {},
   "source": [
    "# Azure"
   ]
  },
  {
   "cell_type": "markdown",
   "metadata": {},
   "source": [
    "- https://techcommunity.microsoft.com/t5/educator-developer-blog/the-history-of-microsoft-azure/ba-p/3574204\n",
    "- https://cloudblogs.microsoft.com/windowsserver/2015/05/06/microsoft-loves-linux"
   ]
  },
  {
   "cell_type": "markdown",
   "metadata": {},
   "source": [
    "## .NET on Cloud"
   ]
  },
  {
   "cell_type": "markdown",
   "metadata": {},
   "source": [
    "- .NET on Azure\n",
    "    - https://azure.microsoft.com/en-us/resources/developers/net\n",
    "- .NET on AWS\n",
    "    - https://aws.amazon.com/developer/language/net\n",
    "- .NET on Google Cloud\n",
    "    - https://cloud.google.com/dotnet"
   ]
  },
  {
   "cell_type": "markdown",
   "metadata": {},
   "source": [
    "## Azure for Developers"
   ]
  },
  {
   "cell_type": "markdown",
   "metadata": {},
   "source": [
    "- https://azure.microsoft.com/en-us/resources/developers\n",
    "- .NET\n",
    "- Java\n",
    "    - https://azure.microsoft.com/en-us/resources/developers/java\n",
    "    - Spring Apps\n",
    "    - Java EE on Azure App Service / JBoss EAP / RedHat JBoss Enterprise\n",
    "    - Java EE on AKS (Azure Kubernetes Service)\n",
    "- Python\n",
    "    - https://azure.microsoft.com/en-us/resources/developers/python/\n",
    "- Node.js\n",
    "- All your favorite databases are there\n",
    "    - https://www.oracle.com/pk/cloud/azure/oracle-database-for-azure\n",
    "    - Oracle & SQL\n",
    "    - PostgreSQL & mySQL"
   ]
  },
  {
   "cell_type": "markdown",
   "metadata": {},
   "source": [
    "## Azure vs AWS"
   ]
  },
  {
   "cell_type": "markdown",
   "metadata": {},
   "source": [
    "__Why Cloud?__\n",
    "- Infrastructure as a Service (IaaS)\n",
    "- Platform as a Service (PaaS)\n",
    "    - Data Analytics\n",
    "    - IoT / Events\n",
    "    - ML / AI\n",
    "- Software as a Service (SaaS)\n",
    "- Data Storage\n",
    "- Content Delivery"
   ]
  },
  {
   "cell_type": "markdown",
   "metadata": {},
   "source": [
    "\n",
    "__Is Azure a clone of AWS?__\n",
    "- More of less similar features of AWS IaaS, PaaS and SaaS\n",
    "    - https://learn.microsoft.com/en-us/azure/architecture/aws-professional/services\n",
    "- Partners\n",
    "    - Ubuntu\n",
    "    - VMWare, Oracle\n",
    "    - Elastic\n",
    "- Microsoft exclusive SaaS on Azure\n",
    "- Microsoft's position as developer friendly company\n",
    "- Microsoft's position as leading software company\n",
    "- Microsoft's position as data company\n",
    "    - HD Insight (Spark, Kafka and others)\n",
    "    - Databricks\n",
    "    - Azure Data Lake Storage\n",
    "    - Azure Data Factory\n",
    "    - Azure Stream Analytics\n",
    "    - Azure Synapse Analytics (previously Azure SQL Datawarehouse)\n",
    "- Microsoft's position as AI company\n",
    "    - Azure Cognitive Services\n",
    "    - ChatGPT and lot of other Data Models\n",
    "- Microsoft's .NET\n",
    "- How Microsoft is bringing its traditional desktop software to cloud\n",
    "    - Azure effect on .NET\n",
    "    - Azure effect on SQL Server; Linux and Container versions\n",
    "    - Active Directory\n",
    "    - Sharepoint\n",
    "    - Office\n",
    "    - Dynamics\n",
    "- Microsoft's new Products are Azure focused\n",
    "    - DevOps\n",
    "    - Microsoft Graph\n",
    "    - Dynamics\n",
    "    - Teams\n",
    "    - CosmosDB\n",
    "    - Fabric\n",
    "    - Azure Arc"
   ]
  },
  {
   "cell_type": "markdown",
   "metadata": {},
   "source": [
    "# Cloud Migration"
   ]
  },
  {
   "cell_type": "markdown",
   "metadata": {},
   "source": [
    "## Typical Journey\n",
    "\n",
    "- Use VMs\n",
    "- Use Cloud Services\n",
    "- Containers"
   ]
  },
  {
   "cell_type": "markdown",
   "metadata": {},
   "source": [
    "## JiraWorklogs on Azure Options"
   ]
  },
  {
   "cell_type": "markdown",
   "metadata": {},
   "source": [
    "- If it was a classic web app and database? Web App + Database service\n",
    "- do we have anything in between and why we should even consider it?\n",
    "- Use Containers\n",
    "    - Linux VM; install docker; run\n",
    "    - Azure Container Options\n",
    "        - Web App for Containers; https://azure.microsoft.com/en-us/products/app-service/containers\n",
    "        - Azure Container Instances; https://learn.microsoft.com/en-us/azure/container-instances\n",
    "        - Azure Container Apps; https://learn.microsoft.com/en-us/azure/container-apps\n",
    "        - Azure Kubernetes Service; https://learn.microsoft.com/en-us/azure/aks\n",
    "        - https://learn.microsoft.com/en-us/azure/container-instances/tutorial-docker-compose"
   ]
  }
 ],
 "metadata": {
  "kernelspec": {
   "display_name": ".NET (C#)",
   "language": "C#",
   "name": ".net-csharp"
  },
  "language_info": {
   "name": "python",
   "version": "3.11.4"
  },
  "polyglot_notebook": {
   "kernelInfo": {
    "defaultKernelName": "csharp",
    "items": [
     {
      "aliases": [],
      "languageName": "csharp",
      "name": "csharp"
     }
    ]
   }
  }
 },
 "nbformat": 4,
 "nbformat_minor": 2
}
